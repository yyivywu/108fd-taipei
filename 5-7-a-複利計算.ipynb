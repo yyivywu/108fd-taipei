{
 "cells": [
  {
   "cell_type": "markdown",
   "metadata": {},
   "source": [
    "# 複利計算\n",
    "\n",
    "複利 (Compound Interest) 公式：$FV = PV * (1+rate)^n$\n",
    "\n",
    "PV：本金、rate：年利率、n：期數，亦即存款年限：FV：本利和\n",
    "\n",
    "計算使用者於銀行中存入一筆固定金額，依照所輸入的利率及年限，計算定存到期的本利和"
   ]
  },
  {
   "cell_type": "markdown",
   "metadata": {},
   "source": [
    "## 使用 for 迴圈"
   ]
  },
  {
   "cell_type": "code",
   "execution_count": 8,
   "metadata": {},
   "outputs": [
    {
     "name": "stdout",
     "output_type": "stream",
     "text": [
      "請輸入存款金額：10000\n",
      "請輸入存款年利率：1.5\n",
      "請輸入存款年限：3\n",
      "第 1 年本利和為 10150.00\n",
      "第 2 年本利和為 10302.25\n",
      "第 3 年本利和為 10456.78\n"
     ]
    }
   ],
   "source": [
    "PV = int(input('請輸入存款金額：'))\n",
    "rate = float(input('請輸入存款年利率：'))\n",
    "n = int(input('請輸入存款年限：'))\n",
    "\n",
    "FV = PV\n",
    "for i in range(1, n+1):\n",
    "    FV = FV * (1+rate/100) \n",
    "    print('第', i, '年本利和為 %.2f' % FV)"
   ]
  },
  {
   "cell_type": "markdown",
   "metadata": {},
   "source": [
    "## 使用 while 迴圈"
   ]
  },
  {
   "cell_type": "code",
   "execution_count": 9,
   "metadata": {},
   "outputs": [
    {
     "name": "stdout",
     "output_type": "stream",
     "text": [
      "請輸入存款金額：10000\n",
      "請輸入存款年利率：3\n",
      "請輸入存款年限：3\n",
      "第 1 年本利和為 10300.00\n",
      "第 2 年本利和為 10609.00\n",
      "第 3 年本利和為 10927.27\n"
     ]
    }
   ],
   "source": [
    "PV = int(input('請輸入存款金額：'))\n",
    "rate = float(input('請輸入存款年利率：'))\n",
    "n = int(input('請輸入存款年限：'))\n",
    "\n",
    "FV = PV\n",
    "i = 1\n",
    "while i <= n:\n",
    "    FV = FV * (1+rate/100) \n",
    "    print('第', i, '年本利和為 %.2f' % FV)\n",
    "    i += 1"
   ]
  },
  {
   "cell_type": "markdown",
   "metadata": {},
   "source": [
    "## 從本利和回推所需的存款年限\n",
    "\n",
    "輸入存款金額、年利率及獲利倍數，計算需花費多少年限及獲得的複利本利和"
   ]
  },
  {
   "cell_type": "code",
   "execution_count": 13,
   "metadata": {},
   "outputs": [
    {
     "name": "stdout",
     "output_type": "stream",
     "text": [
      "請輸入存款金額：10000\n",
      "請輸入存款年利率：10\n",
      "請輸入獲利倍數：2\n",
      "第 1 年本利和為 11000.00\n",
      "第 2 年本利和為 12100.00\n",
      "第 3 年本利和為 13310.00\n",
      "第 4 年本利和為 14641.00\n",
      "第 5 年本利和為 16105.10\n",
      "第 6 年本利和為 17715.61\n",
      "第 7 年本利和為 19487.17\n",
      "第 8 年本利和為 21435.89\n"
     ]
    }
   ],
   "source": [
    "PV = int(input('請輸入存款金額：'))\n",
    "rate = float(input('請輸入存款年利率：'))\n",
    "n = int(input('請輸入獲利倍數：'))\n",
    "\n",
    "FV = PV\n",
    "i = 1\n",
    "while FV/PV < n:\n",
    "    FV = FV * (1+rate/100) \n",
    "    print('第', i, '年本利和為 %.2f' % FV)\n",
    "    i += 1"
   ]
  },
  {
   "cell_type": "code",
   "execution_count": null,
   "metadata": {},
   "outputs": [],
   "source": []
  }
 ],
 "metadata": {
  "kernelspec": {
   "display_name": "Python 3",
   "language": "python",
   "name": "python3"
  },
  "language_info": {
   "codemirror_mode": {
    "name": "ipython",
    "version": 3
   },
   "file_extension": ".py",
   "mimetype": "text/x-python",
   "name": "python",
   "nbconvert_exporter": "python",
   "pygments_lexer": "ipython3",
   "version": "3.7.3"
  }
 },
 "nbformat": 4,
 "nbformat_minor": 2
}
