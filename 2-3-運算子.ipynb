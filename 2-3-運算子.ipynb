{
 "cells": [
  {
   "cell_type": "markdown",
   "metadata": {},
   "source": [
    "# 運算子\n",
    "## 指定運算子\n",
    "    =\n",
    "    \n",
    "## 算術運算子\n",
    "    +、-、*、/、% (餘數)、// (商)、**(次方、指數)\n",
    "\n",
    "## 比較運算子\n",
    "    >、>=、<、<=、==、!=\n",
    "\n",
    "## 邏輯運算子\n",
    "    and、or、not\n",
    "\n",
    "## 複合指定運算子\n",
    "    +=、-=、*=、/=、%=(餘數)、//=(商)、**=(指數)\n",
    "   \n",
    "## in 與 is 運算子\n",
    "    in: 是否為其中一個元素; is: 兩個物件 id 是否相同"
   ]
  },
  {
   "cell_type": "code",
   "execution_count": 1,
   "metadata": {},
   "outputs": [
    {
     "name": "stdout",
     "output_type": "stream",
     "text": [
      "2.5\n",
      "1\n",
      "2\n",
      "25\n"
     ]
    }
   ],
   "source": [
    "# 算術運算子\n",
    "\n",
    "a=5\n",
    "b=2\n",
    "print(a / b)  #除\n",
    "print(a % b)  #餘數\n",
    "print(a // b) #商數\n",
    "print(a ** b) #指數"
   ]
  },
  {
   "cell_type": "code",
   "execution_count": 3,
   "metadata": {},
   "outputs": [
    {
     "name": "stdout",
     "output_type": "stream",
     "text": [
      "False\n",
      "True\n"
     ]
    }
   ],
   "source": [
    "# 比較運算子，輸出結果為布林\n",
    "\n",
    "print(5<2)\n",
    "print(5!=2)"
   ]
  },
  {
   "cell_type": "code",
   "execution_count": 7,
   "metadata": {},
   "outputs": [
    {
     "name": "stdout",
     "output_type": "stream",
     "text": [
      "True\n",
      "False\n",
      "True\n"
     ]
    }
   ],
   "source": [
    "# 邏輯運算子：and 全部需為真才真；or 只要一個為真就真；not 真假對調\n",
    "\n",
    "print((5>2) and (12<20) and ('a'<'c'))\n",
    "print((5<2) and (12<20) and ('a'<'c'))\n",
    "print(not (5<2))"
   ]
  },
  {
   "cell_type": "code",
   "execution_count": 8,
   "metadata": {},
   "outputs": [
    {
     "name": "stdout",
     "output_type": "stream",
     "text": [
      "6\n",
      "7\n"
     ]
    }
   ],
   "source": [
    "# 複合指定運算子\n",
    "\n",
    "a=5\n",
    "a=a+1\n",
    "print(a)\n",
    "a += 1\n",
    "print(a)"
   ]
  },
  {
   "cell_type": "code",
   "execution_count": 10,
   "metadata": {},
   "outputs": [
    {
     "name": "stdout",
     "output_type": "stream",
     "text": [
      "False\n"
     ]
    }
   ],
   "source": [
    "# in and is 運算子\n",
    "\n",
    "x = 1\n",
    "y = [1, 2, 3]\n",
    "print(x not in y)"
   ]
  },
  {
   "cell_type": "code",
   "execution_count": 15,
   "metadata": {},
   "outputs": [
    {
     "name": "stdout",
     "output_type": "stream",
     "text": [
      "100655304 101284296\n",
      "False\n",
      "100655304\n",
      "True\n"
     ]
    }
   ],
   "source": [
    "x1 = [1, 2, 3]\n",
    "y1 = [1, 2, 3]\n",
    "print(id(x1), id(y1))\n",
    "print(x1 is y1)\n",
    "z1 = x1\n",
    "print(id(z1))\n",
    "print(z1 is x1)"
   ]
  },
  {
   "cell_type": "code",
   "execution_count": null,
   "metadata": {},
   "outputs": [],
   "source": []
  },
  {
   "cell_type": "code",
   "execution_count": null,
   "metadata": {},
   "outputs": [],
   "source": []
  }
 ],
 "metadata": {
  "kernelspec": {
   "display_name": "Python 3",
   "language": "python",
   "name": "python3"
  },
  "language_info": {
   "codemirror_mode": {
    "name": "ipython",
    "version": 3
   },
   "file_extension": ".py",
   "mimetype": "text/x-python",
   "name": "python",
   "nbconvert_exporter": "python",
   "pygments_lexer": "ipython3",
   "version": "3.7.3"
  }
 },
 "nbformat": 4,
 "nbformat_minor": 2
}
