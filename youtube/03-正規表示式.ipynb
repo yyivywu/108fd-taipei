{
 "cells": [
  {
   "cell_type": "markdown",
   "metadata": {},
   "source": [
    "# 正規表示式 Regular Expression (簡稱 regex)\n",
    "\n",
    "正規表示式是處理字串的方法，透過一些特殊符號的輔助，可以讓使用者達到「搜尋/取代」某特定字串的處理程序\n",
    "\n",
    "也常用在對文件進行解析，例如網路爬蟲去爬網路上 HTML 文件，從中取得所欲取得之資訊，或是針對文件檔案進行處理\n",
    "\n",
    "[網站 http://pythex.org](http://pythex.org) 測試正規表示式的結果是否正確\n",
    "\n",
    "參考網站：[w3schools.com](https://www.w3schools.com/python/python_regex.asp)、[官方文件](https://docs.python.org/3/library/re.html)、[中文文件](http://www.runoob.com/python/python-reg-expressions.html)"
   ]
  },
  {
   "cell_type": "code",
   "execution_count": 1,
   "metadata": {},
   "outputs": [],
   "source": [
    "# 匯入正規表示式模組\n",
    "\n",
    "import re"
   ]
  },
  {
   "cell_type": "code",
   "execution_count": 9,
   "metadata": {},
   "outputs": [],
   "source": [
    "s='昔人已乘黃鶴去，此地空餘黃鶴樓。\\\n",
    "黃鶴一去不復返，白雲千載空悠悠。'"
   ]
  },
  {
   "cell_type": "code",
   "execution_count": 10,
   "metadata": {},
   "outputs": [
    {
     "name": "stdout",
     "output_type": "stream",
     "text": [
      "['人已乘']\n"
     ]
    }
   ],
   "source": [
    "ans = re.findall('.已乘', s)\n",
    "print(ans)"
   ]
  },
  {
   "cell_type": "code",
   "execution_count": 7,
   "metadata": {},
   "outputs": [
    {
     "data": {
      "text/plain": [
       "['Time', 'is', 'money']"
      ]
     },
     "execution_count": 7,
     "metadata": {},
     "output_type": "execute_result"
    }
   ],
   "source": [
    "s1 = 'Time is money'\n",
    "ans = re.findall('[A-Za-z]+', s1)\n",
    "ans"
   ]
  },
  {
   "cell_type": "code",
   "execution_count": 11,
   "metadata": {},
   "outputs": [
    {
     "name": "stdout",
     "output_type": "stream",
     "text": [
      "YES! 字串符合!\n"
     ]
    }
   ],
   "source": [
    "txt = \"The rain in Spain\"\n",
    "x = re.search(\"^The.*Spain$\", txt)\n",
    "\n",
    "if (x):\n",
    "  print(\"YES! 字串符合!\")\n",
    "else:\n",
    "  print(\"不符合\")"
   ]
  },
  {
   "cell_type": "code",
   "execution_count": 13,
   "metadata": {},
   "outputs": [
    {
     "name": "stdout",
     "output_type": "stream",
     "text": [
      "Spain\n"
     ]
    }
   ],
   "source": [
    "#尋找字串中以大寫 S 開頭的單字\n",
    "\n",
    "str = \"The rain in Spain\"\n",
    "x = re.search(r\"\\bS\\w+\", str)  #'r'開頭表示後續字串是正規表示式\n",
    "print(x.group())"
   ]
  },
  {
   "cell_type": "code",
   "execution_count": 14,
   "metadata": {},
   "outputs": [
    {
     "name": "stdout",
     "output_type": "stream",
     "text": [
      "['The', 'rain', 'in', 'Spain']\n"
     ]
    }
   ],
   "source": [
    "#使用特定文字分割字串\n",
    "\n",
    "str = \"The rain in Spain\"\n",
    "x = re.split(\"\\s\", str)\n",
    "print(x)"
   ]
  },
  {
   "cell_type": "code",
   "execution_count": 16,
   "metadata": {},
   "outputs": [
    {
     "name": "stdout",
     "output_type": "stream",
     "text": [
      "The9rain9in9Spain\n"
     ]
    }
   ],
   "source": [
    "#使用特定文字取代某文字\n",
    "\n",
    "str = \"The rain in Spain\"\n",
    "x = re.sub(\"\\s\", \"9\", str)\n",
    "print(x)"
   ]
  },
  {
   "cell_type": "code",
   "execution_count": 24,
   "metadata": {},
   "outputs": [
    {
     "name": "stdout",
     "output_type": "stream",
     "text": [
      "['88', '123', '456']\n",
      "['88', '12']\n"
     ]
    }
   ],
   "source": [
    "# compile 函式用於編譯正規表示式，可供多個函式使用\n",
    "\n",
    "s='run88oob123google456'\n",
    "pattern = re.compile('\\d+')   # 查找数字\n",
    "ans1 = pattern.findall(s)\n",
    "ans2 = pattern.findall(s, 0, 10)  #只找文字 index 0~9 的資料\n",
    " \n",
    "print(ans1)\n",
    "print(ans2)"
   ]
  },
  {
   "cell_type": "code",
   "execution_count": 23,
   "metadata": {},
   "outputs": [
    {
     "name": "stdout",
     "output_type": "stream",
     "text": [
      "['88', '123', '456']\n"
     ]
    }
   ],
   "source": [
    "s='run88oob123google456'\n",
    "ans = re.findall('\\d+', s)\n",
    "print(ans)"
   ]
  },
  {
   "cell_type": "code",
   "execution_count": null,
   "metadata": {},
   "outputs": [],
   "source": []
  }
 ],
 "metadata": {
  "kernelspec": {
   "display_name": "Python 3",
   "language": "python",
   "name": "python3"
  },
  "language_info": {
   "codemirror_mode": {
    "name": "ipython",
    "version": 3
   },
   "file_extension": ".py",
   "mimetype": "text/x-python",
   "name": "python",
   "nbconvert_exporter": "python",
   "pygments_lexer": "ipython3",
   "version": "3.7.3"
  }
 },
 "nbformat": 4,
 "nbformat_minor": 2
}
