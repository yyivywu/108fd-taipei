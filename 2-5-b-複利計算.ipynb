{
 "cells": [
  {
   "cell_type": "markdown",
   "metadata": {},
   "source": [
    "# 複利計算\n",
    "\n",
    "複利 (Compound Interest) 公式：$FV = PV * (1+rate)^n$\n",
    "\n",
    "PV：本金、rate：年利率、n：期數，亦即存款年限：FV：本利和\n",
    "\n",
    "計算使用者於銀行中存入一筆固定金額，依照所輸入的利率及年限，計算定存到期的本利和<br/>\n",
    "本範例先預設存款期數為 3 年，待後續課程學習了迴圈後，再拉長年限"
   ]
  },
  {
   "cell_type": "code",
   "execution_count": 9,
   "metadata": {},
   "outputs": [
    {
     "name": "stdout",
     "output_type": "stream",
     "text": [
      "請輸入存款金額：10000\n",
      "請輸入存款年利率：1.5\n",
      "第一年本利和為 10149.999999999998\n",
      "第二年本利和為 10302.250000\n",
      "第三年本利和為：10456.7837\n"
     ]
    }
   ],
   "source": [
    "PV = int(input('請輸入存款金額：'))\n",
    "rate = float(input('請輸入存款年利率：'))\n",
    "FV_y1 = PV * (1+rate/100)  #計算第一年的本利和\n",
    "FV_y2 = PV * (1+rate/100) ** 2  #計算第二年的本利和\n",
    "FV_y3 = PV * (1+rate/100) ** 3  #計算第二年的本利和\n",
    "print('第一年本利和為', FV_y1)\n",
    "print('第二年本利和為 %f' % FV_y2)\n",
    "print('第三年本利和為：{:.4f}'.format(FV_y3))"
   ]
  },
  {
   "cell_type": "markdown",
   "metadata": {},
   "source": [
    "# 程式設計與一般數學的不同\n",
    "\n",
    "電腦儲存的資料只有 2 種：0 & 1 <br/>\n",
    "所有數字都必須先轉換為二進制，電腦才能處理，因此便會產生極小的差值\n",
    "\n",
    "數學的小數有無限位數，電腦的小數稱為「浮點數」，電腦中沒有足夠記憶體儲存無限量的小數"
   ]
  },
  {
   "cell_type": "code",
   "execution_count": 14,
   "metadata": {},
   "outputs": [
    {
     "name": "stdout",
     "output_type": "stream",
     "text": [
      "0.30000000000000004\n",
      "False\n"
     ]
    }
   ],
   "source": [
    "x = 0.1 + 0.2\n",
    "print(x)\n",
    "print(0.1+0.2 == 0.3)"
   ]
  },
  {
   "cell_type": "markdown",
   "metadata": {},
   "source": [
    "# 複利計算的另一種寫法"
   ]
  },
  {
   "cell_type": "code",
   "execution_count": 21,
   "metadata": {},
   "outputs": [
    {
     "name": "stdout",
     "output_type": "stream",
     "text": [
      "請輸入存款金額：10000\n",
      "請輸入存款年利率：1.5\n",
      "第一年本利和為 10149.999999999998\n",
      "第二年本利和為 10302.250000\n",
      "第三年本利和為：10456.7837\n"
     ]
    }
   ],
   "source": [
    "PV = int(input('請輸入存款金額：'))\n",
    "rate = float(input('請輸入存款年利率：'))\n",
    "FV_y1 = PV * (1+rate/100)     #計算第一年的本利和\n",
    "FV_y2 = FV_y1 * (1+rate/100)  #計算第二年的本利和\n",
    "FV_y3 = FV_y2 * (1+rate/100)  #計算第二年的本利和\n",
    "print('第一年本利和為', FV_y1)\n",
    "print('第二年本利和為 %f' % FV_y2)\n",
    "print('第三年本利和為：{:.4f}'.format(FV_y3))"
   ]
  },
  {
   "cell_type": "code",
   "execution_count": null,
   "metadata": {},
   "outputs": [],
   "source": []
  }
 ],
 "metadata": {
  "kernelspec": {
   "display_name": "Python 3",
   "language": "python",
   "name": "python3"
  },
  "language_info": {
   "codemirror_mode": {
    "name": "ipython",
    "version": 3
   },
   "file_extension": ".py",
   "mimetype": "text/x-python",
   "name": "python",
   "nbconvert_exporter": "python",
   "pygments_lexer": "ipython3",
   "version": "3.7.3"
  }
 },
 "nbformat": 4,
 "nbformat_minor": 2
}
