{
 "cells": [
  {
   "cell_type": "markdown",
   "metadata": {},
   "source": [
    "# Pandas 套件－資料分析必學入門\n",
    "* Pandas 之於 Python，就好比 Excel 之於 Windows\n",
    "* 主要用於大數據分析、機器學習、時間序列分析等\n",
    "\n",
    "### Pandas主要有兩大資料結構：\n",
    "* Series 欄位 (一維度)：由 index (譬如：時間，稱為時間曲線 Time series) 及數值組成的一條序列\n",
    "* DataFrame 表格 (二維度)：N 條 series 共用同一個 index"
   ]
  },
  {
   "cell_type": "code",
   "execution_count": 1,
   "metadata": {},
   "outputs": [],
   "source": [
    "import pandas as pd"
   ]
  },
  {
   "cell_type": "code",
   "execution_count": 2,
   "metadata": {},
   "outputs": [
    {
     "name": "stdout",
     "output_type": "stream",
     "text": [
      "<class 'pandas.core.series.Series'>\n",
      "0    1\n",
      "1    2\n",
      "2    3\n",
      "3    4\n",
      "4    5\n",
      "dtype: int64\n"
     ]
    }
   ],
   "source": [
    "#利用 pd.Series 函式，參數放入 list 即可創建一個簡單的 series\n",
    "\n",
    "list1 = [1,2,3,4,5]\n",
    "s1 = pd.Series(list1)\n",
    "print(type(s1))\n",
    "print(s1)  #索引從 0 開始"
   ]
  },
  {
   "cell_type": "code",
   "execution_count": 3,
   "metadata": {},
   "outputs": [
    {
     "data": {
      "text/plain": [
       "a    1\n",
       "b    2\n",
       "c    3\n",
       "d    4\n",
       "e    5\n",
       "dtype: int64"
      ]
     },
     "execution_count": 3,
     "metadata": {},
     "output_type": "execute_result"
    }
   ],
   "source": [
    "#使用 index 參數指定索引\n",
    "\n",
    "s2 = pd.Series(list1, index=['a', 'b', 'c', 'd', 'e'])  \n",
    "s2"
   ]
  },
  {
   "cell_type": "code",
   "execution_count": 4,
   "metadata": {},
   "outputs": [
    {
     "data": {
      "text/plain": [
       "2019-09-03    1\n",
       "2019-09-04    2\n",
       "2019-09-05    3\n",
       "2019-09-06    4\n",
       "2019-09-07    5\n",
       "2019-09-08    6\n",
       "Freq: D, dtype: int64"
      ]
     },
     "execution_count": 4,
     "metadata": {},
     "output_type": "execute_result"
    }
   ],
   "source": [
    "# 使用 date_range 自動產生時間索引值\n",
    "\n",
    "s3 = pd.Series([1, 2, 3, 4, 5, 6], index=pd.date_range('20190903', periods=6))\n",
    "s3"
   ]
  },
  {
   "cell_type": "code",
   "execution_count": 5,
   "metadata": {},
   "outputs": [
    {
     "name": "stdout",
     "output_type": "stream",
     "text": [
      "     國文  數學  英文  自然\n",
      "王大一  65  92  78  88\n",
      "張美麗  90  91  60  55\n",
      "林田山  80  40  99  78\n"
     ]
    }
   ],
   "source": [
    "#利用 pd.DataFrame 函式建立二維表格 dataframe\n",
    "\n",
    "datas = [[65,92,78,88], [90,91,60,55], [80,40,99,78]]\n",
    "indexs = [\"王大一\", \"張美麗\", \"林田山\"]\n",
    "columns = [\"國文\", \"數學\", \"英文\", \"自然\"]\n",
    "\n",
    "df = pd.DataFrame(datas, columns=columns, index=indexs)\n",
    "print(df)"
   ]
  },
  {
   "cell_type": "code",
   "execution_count": 8,
   "metadata": {},
   "outputs": [],
   "source": [
    "#將 dataframe 資料寫入 csv 檔案\n",
    "#儲存檔案方法：to_csv, to_json, to_html, to_excel, to_sql\n",
    "df.to_csv('out.csv', encoding='utf-8-sig')"
   ]
  },
  {
   "cell_type": "code",
   "execution_count": 11,
   "metadata": {},
   "outputs": [
    {
     "name": "stdout",
     "output_type": "stream",
     "text": [
      "     姓名   國文  英文  數學\n",
      "0  Mary   80  90  76\n",
      "1  John  100  95  98\n",
      "2   Tom   73  56  60\n"
     ]
    }
   ],
   "source": [
    "#使用 pandas dataframe 讀取資料\n",
    "\n",
    "data = pd.read_csv('score.csv', encoding='utf-8-sig')\n",
    "print(data)"
   ]
  },
  {
   "cell_type": "code",
   "execution_count": 13,
   "metadata": {},
   "outputs": [
    {
     "name": "stdout",
     "output_type": "stream",
     "text": [
      "   year  month  day\n",
      "0  2015      2    4\n",
      "1  2016      3    5\n"
     ]
    }
   ],
   "source": [
    "df1 = pd.DataFrame({'year': [2015, 2016],\n",
    "                       'month': [2, 3],\n",
    "                       'day': [4, 5]})\n",
    "print(df1)"
   ]
  },
  {
   "cell_type": "code",
   "execution_count": 15,
   "metadata": {},
   "outputs": [
    {
     "name": "stdout",
     "output_type": "stream",
     "text": [
      "0   2015-02-04\n",
      "1   2016-03-05\n",
      "dtype: datetime64[ns]\n"
     ]
    }
   ],
   "source": [
    "df2 = pd.to_datetime(df1)\n",
    "print(df2)"
   ]
  },
  {
   "cell_type": "code",
   "execution_count": null,
   "metadata": {},
   "outputs": [],
   "source": []
  }
 ],
 "metadata": {
  "kernelspec": {
   "display_name": "Python 3",
   "language": "python",
   "name": "python3"
  },
  "language_info": {
   "codemirror_mode": {
    "name": "ipython",
    "version": 3
   },
   "file_extension": ".py",
   "mimetype": "text/x-python",
   "name": "python",
   "nbconvert_exporter": "python",
   "pygments_lexer": "ipython3",
   "version": "3.7.3"
  }
 },
 "nbformat": 4,
 "nbformat_minor": 2
}
