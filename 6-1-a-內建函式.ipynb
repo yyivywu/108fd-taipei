{
 "cells": [
  {
   "cell_type": "markdown",
   "metadata": {},
   "source": [
    "# 內建函式"
   ]
  },
  {
   "cell_type": "code",
   "execution_count": 8,
   "metadata": {},
   "outputs": [
    {
     "name": "stdout",
     "output_type": "stream",
     "text": [
      "串列 list1 最大值為 150\n",
      "串列 list1 最小值為 7\n"
     ]
    }
   ],
   "source": [
    "# 找數字串列的最大值及最小值 - 使用 for 迴圈\n",
    "\n",
    "list1 = [34, 21, 7, 99, 150, 76]\n",
    "maxvalue = list1[0]\n",
    "minvalue = list1[0]\n",
    "\n",
    "for i in range(1, len(list1)):\n",
    "    if maxvalue < list1[i]:\n",
    "        maxvalue = list1[i]\n",
    "    if minvalue > list1[i]:\n",
    "        minvalue = list1[i]\n",
    "        \n",
    "print('串列 list1 最大值為 %d' % maxvalue)\n",
    "print('串列 list1 最小值為 %d' % minvalue)"
   ]
  },
  {
   "cell_type": "code",
   "execution_count": 9,
   "metadata": {},
   "outputs": [
    {
     "name": "stdout",
     "output_type": "stream",
     "text": [
      "串列 list1 最大值為 150\n",
      "串列 list1 最小值為 7\n"
     ]
    }
   ],
   "source": [
    "# 找數字串列的最大值及最小值 - 使用內建函式\n",
    "\n",
    "print('串列 list1 最大值為 %d' % max(list1))\n",
    "print('串列 list1 最小值為 %d' % min(list1))"
   ]
  },
  {
   "cell_type": "code",
   "execution_count": 11,
   "metadata": {},
   "outputs": [
    {
     "name": "stdout",
     "output_type": "stream",
     "text": [
      "abs(x) 取 x 的絕對值： 45\n",
      "pow(x,y) 取得 x 的 y 次方： 16\n",
      "round(x,y) 取 x 值的四捨五入到 y 小數位數： 3.1416\n"
     ]
    }
   ],
   "source": [
    "# 內建函式\n",
    "\n",
    "print('abs(x) 取 x 的絕對值：', abs(-45))\n",
    "print('pow(x,y) 取得 x 的 y 次方：', pow(2,4))\n",
    "print('round(x,y) 取 x 值的四捨五入到 y 小數位數：', round(3.14159356, 4))"
   ]
  },
  {
   "cell_type": "code",
   "execution_count": null,
   "metadata": {},
   "outputs": [],
   "source": []
  }
 ],
 "metadata": {
  "kernelspec": {
   "display_name": "Python 3",
   "language": "python",
   "name": "python3"
  },
  "language_info": {
   "codemirror_mode": {
    "name": "ipython",
    "version": 3
   },
   "file_extension": ".py",
   "mimetype": "text/x-python",
   "name": "python",
   "nbconvert_exporter": "python",
   "pygments_lexer": "ipython3",
   "version": "3.7.3"
  }
 },
 "nbformat": 4,
 "nbformat_minor": 2
}
