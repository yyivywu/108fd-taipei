{
 "cells": [
  {
   "cell_type": "markdown",
   "metadata": {},
   "source": [
    "# 字串\n",
    "\n",
    "Python 中的字串可使用單引號 (') 或雙引號 (\") 包夾\n",
    "\n",
    "單引號內使用雙引號，可正確顯示雙引號；反之也是"
   ]
  },
  {
   "cell_type": "code",
   "execution_count": 2,
   "metadata": {},
   "outputs": [
    {
     "name": "stdout",
     "output_type": "stream",
     "text": [
      "作者 \"孟浩然\"，詩名 \"春曉\"\n"
     ]
    }
   ],
   "source": [
    "s1 = '作者 \"孟浩然\"，詩名 \"春曉\"'\n",
    "print (s1)"
   ]
  },
  {
   "cell_type": "code",
   "execution_count": 3,
   "metadata": {},
   "outputs": [
    {
     "name": "stdout",
     "output_type": "stream",
     "text": [
      "作者 '孟浩然'，詩名 '春曉'\n"
     ]
    }
   ],
   "source": [
    "s2 = \"作者 '孟浩然'，詩名 '春曉'\"\n",
    "print (s2)"
   ]
  },
  {
   "cell_type": "code",
   "execution_count": 4,
   "metadata": {},
   "outputs": [
    {
     "name": "stdout",
     "output_type": "stream",
     "text": [
      "\n",
      "春眠不覺曉，處處聞啼鳥。\n",
      "夜來風雨聲，花落知多少。\n",
      "\n"
     ]
    }
   ],
   "source": [
    "# 使用三個單引號或雙引號，可以顯示多行文字\n",
    "\n",
    "s3 = '''\n",
    "春眠不覺曉，處處聞啼鳥。\n",
    "夜來風雨聲，花落知多少。\n",
    "'''\n",
    "print (s3)"
   ]
  },
  {
   "cell_type": "markdown",
   "metadata": {},
   "source": [
    "# 字串運算子\n",
    "\n",
    "字串運算子可用於串接字串、存取字串、複製字串或切割字串等"
   ]
  },
  {
   "cell_type": "code",
   "execution_count": 5,
   "metadata": {},
   "outputs": [
    {
     "data": {
      "text/plain": [
       "'01234abcde'"
      ]
     },
     "execution_count": 5,
     "metadata": {},
     "output_type": "execute_result"
    }
   ],
   "source": [
    "# 使用 + 串接字串\n",
    "\n",
    "str1 = '01234'\n",
    "str2 = 'abcde'\n",
    "str3 = str1 + str2\n",
    "str3  # 印出 str3"
   ]
  },
  {
   "cell_type": "code",
   "execution_count": 6,
   "metadata": {},
   "outputs": [
    {
     "data": {
      "text/plain": [
       "'abcabcabc'"
      ]
     },
     "execution_count": 6,
     "metadata": {},
     "output_type": "execute_result"
    }
   ],
   "source": [
    "# 使用 * 複製字串\n",
    "\n",
    "str4 = 'abc'\n",
    "str5 = str4 * 3\n",
    "str5"
   ]
  },
  {
   "cell_type": "code",
   "execution_count": 8,
   "metadata": {},
   "outputs": [
    {
     "name": "stdout",
     "output_type": "stream",
     "text": [
      "0\n",
      "3\n",
      "9\n",
      "7\n"
     ]
    }
   ],
   "source": [
    "# 使用 [] 取出字串中的元素\n",
    "\n",
    "str6 = '0123456789'\n",
    "print(str6[0])\n",
    "print(str6[3])\n",
    "print(str6[-1])\n",
    "print(str6[-3])"
   ]
  },
  {
   "cell_type": "markdown",
   "metadata": {},
   "source": [
    "# 取出一段文字\n",
    "\n",
    "取出字串中的一段文字：[開始：結束：間隔]，每隔［間隔］個字元取出一個字出來，不包含［結束］字元\n",
    "\n",
    "* s[:] 取字串 s 中的每一個元素\n",
    "* s[開始:] 取字串 s[開始] 到結束的元素\n",
    "* s[:結束] 取 s[0] 到字串結束前的一個元素\n",
    "* s[::-1] 反轉字串\n",
    "\n",
    "沒指定 [開始] 預設從 0 開始；沒指定 [結束] 取至結束（包含最後一個元素)"
   ]
  },
  {
   "cell_type": "code",
   "execution_count": 11,
   "metadata": {},
   "outputs": [
    {
     "name": "stdout",
     "output_type": "stream",
     "text": [
      "s[:] = 0123456789\n",
      "s[5:] = 56789\n",
      "s[:5] = 01234\n",
      "s[-2:] = 89\n",
      "s[7:9] = 78\n",
      "s[2:10:2] = 2468\n",
      "s[-4:-1] = 678\n"
     ]
    }
   ],
   "source": [
    "s = '0123456789'\n",
    "\n",
    "print('s[:] =', s[:])\n",
    "print('s[5:] =', s[5:])\n",
    "print('s[:5] =', s[:5])\n",
    "print('s[-2:] =', s[-2:])\n",
    "print('s[7:9] =', s[7:9])\n",
    "print('s[2:10:2] =', s[2:10:2])\n",
    "print('s[-4:-1] =', s[-4:-1])"
   ]
  },
  {
   "cell_type": "code",
   "execution_count": 12,
   "metadata": {},
   "outputs": [
    {
     "data": {
      "text/plain": [
       "'春眠不覺曉，處處聞啼鳥。夜來風雨聲，花落知多少。'"
      ]
     },
     "execution_count": 12,
     "metadata": {},
     "output_type": "execute_result"
    }
   ],
   "source": [
    "# 使用 \\ 串接多行字串\n",
    "\n",
    "s1 = '春眠不覺曉，處處聞啼鳥。\\\n",
    "夜來風雨聲，花落知多少。'\n",
    "s1"
   ]
  },
  {
   "cell_type": "code",
   "execution_count": 15,
   "metadata": {},
   "outputs": [
    {
     "name": "stdout",
     "output_type": "stream",
     "text": [
      "春眠不覺曉，處處聞啼鳥。\n",
      "夜來風雨聲，花落知多少。\n",
      "\t 孟浩然 春曉\n"
     ]
    }
   ],
   "source": [
    "# \\n: 換行；\\t Tab 鍵\n",
    "\n",
    "s2 = '春眠不覺曉，處處聞啼鳥。\\n\\\n",
    "夜來風雨聲，花落知多少。\\n\\\n",
    "\\t 孟浩然 春曉'\n",
    "print(s2)"
   ]
  },
  {
   "cell_type": "markdown",
   "metadata": {},
   "source": [
    "# 字串的內建函式\n",
    "\n",
    "* len()：取得字串的長度\n",
    "* split()：分割字串\n",
    "* replace()：取代字串"
   ]
  },
  {
   "cell_type": "code",
   "execution_count": 17,
   "metadata": {},
   "outputs": [
    {
     "name": "stdout",
     "output_type": "stream",
     "text": [
      "len(s1) = 24\n",
      "split = ['春眠不覺曉', '處處聞啼鳥。夜來風雨聲', '花落知多少。']\n",
      "replace = 冬眠不覺曉，處處聞啼鳥。夜來風雨聲，花落知多少。\n"
     ]
    }
   ],
   "source": [
    "s1 = '春眠不覺曉，處處聞啼鳥。夜來風雨聲，花落知多少。'\n",
    "\n",
    "print('len(s1) =', len(s1))\n",
    "print('split =', s1.split('，'))\n",
    "print('replace =', s1.replace('春', '冬'))"
   ]
  },
  {
   "cell_type": "code",
   "execution_count": null,
   "metadata": {},
   "outputs": [],
   "source": []
  }
 ],
 "metadata": {
  "kernelspec": {
   "display_name": "Python 3",
   "language": "python",
   "name": "python3"
  },
  "language_info": {
   "codemirror_mode": {
    "name": "ipython",
    "version": 3
   },
   "file_extension": ".py",
   "mimetype": "text/x-python",
   "name": "python",
   "nbconvert_exporter": "python",
   "pygments_lexer": "ipython3",
   "version": "3.7.3"
  }
 },
 "nbformat": 4,
 "nbformat_minor": 2
}
