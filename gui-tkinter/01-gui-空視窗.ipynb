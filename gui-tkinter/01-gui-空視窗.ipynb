{
 "cells": [
  {
   "cell_type": "markdown",
   "metadata": {},
   "source": [
    "# 圖形使用者介面套件 tkinter\n",
    "\n",
    "線上教學文件：[官網文件](https://docs.python.org/3/library/tkinter.html)、[周莫煩 tkinter 教學](https://morvanzhou.github.io/tutorials/python-basic/tkinter/)、[ITREAD 教程大集合](https://www.itread01.com/content/1547705544.html)"
   ]
  },
  {
   "cell_type": "code",
   "execution_count": 1,
   "metadata": {},
   "outputs": [],
   "source": [
    "import tkinter as tk"
   ]
  },
  {
   "cell_type": "code",
   "execution_count": 5,
   "metadata": {},
   "outputs": [],
   "source": [
    "# 建立主視窗\n",
    "root = tk.Tk()\n",
    "\n",
    "# 設定視窗標題\n",
    "root.title(\"視窗初體驗\")\n",
    "\n",
    "# 設定主視窗尺寸，語法 geometry(\"寬度\"x\"高度\")，x 為小寫英文字母\n",
    "root.geometry(\"500x400\")\n",
    "\n",
    "# 設定視窗最大、最小視窗，及是否可縮放\n",
    "root.minsize(width=200, height=200)\n",
    "root.maxsize(width=1024, height=768)\n",
    "root.resizable(width=0, height=1)  # 0或False 為不可縮放；1或True為可縮放\n",
    "\n",
    "# 設定主視窗圖示\n",
    "# 免費圖示 ico 下載網站 https://icon-icons.com/\n",
    "root.iconbitmap(\"winicon.ico\")\n",
    "\n",
    "# 視窗外觀 \n",
    "root.config(background=\"lightyellow\")   # 也可用 16 進位碼 #F6F603，background 也可用縮寫 bg\n",
    "#root.config(bg=\"#F6F603\")\n",
    "#root.attributes(\"-alpha\", 0.85)    # 設定視窗透明度，值介於 0~1 之間，1 為完全不透明\n",
    "root.attributes(\"-topmost\", True)   # 設定視窗置頂與否，True 也可用 1 代替\n",
    "\n",
    "\n",
    "'''\n",
    "loop 是迴圈的意思，root.mainloop會讓視窗不斷的重新整理，\n",
    "如果沒有 mainloop 就只是一個靜態的視窗，只會執行一次。\n",
    "mainloop 相當於一個很大的 while 迴圈，每點選一次就會更新一次\n",
    "記得視窗程式一定要使用 mainloop 迴圈\n",
    "'''\n",
    "root.mainloop()"
   ]
  },
  {
   "cell_type": "code",
   "execution_count": null,
   "metadata": {},
   "outputs": [],
   "source": []
  }
 ],
 "metadata": {
  "kernelspec": {
   "display_name": "Python 3",
   "language": "python",
   "name": "python3"
  },
  "language_info": {
   "codemirror_mode": {
    "name": "ipython",
    "version": 3
   },
   "file_extension": ".py",
   "mimetype": "text/x-python",
   "name": "python",
   "nbconvert_exporter": "python",
   "pygments_lexer": "ipython3",
   "version": "3.7.3"
  }
 },
 "nbformat": 4,
 "nbformat_minor": 2
}
