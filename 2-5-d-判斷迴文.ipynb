{
 "cells": [
  {
   "cell_type": "markdown",
   "metadata": {},
   "source": [
    "# 判斷迴文\n",
    "\n",
    "若字串反轉過來與原字串相同，稱為迴文"
   ]
  },
  {
   "cell_type": "code",
   "execution_count": 6,
   "metadata": {},
   "outputs": [
    {
     "name": "stdout",
     "output_type": "stream",
     "text": [
      "請輸入一個字串：abvba\n",
      "s = abvba\n",
      "sr = abvba\n",
      "迴文判斷結果： True\n"
     ]
    }
   ],
   "source": [
    "s = input('請輸入一個字串：')\n",
    "sr = s[::-1]\n",
    "print('s =', s)\n",
    "print('sr =', sr)\n",
    "print('迴文判斷結果：', s == s[::-1])"
   ]
  },
  {
   "cell_type": "code",
   "execution_count": null,
   "metadata": {},
   "outputs": [],
   "source": []
  }
 ],
 "metadata": {
  "kernelspec": {
   "display_name": "Python 3",
   "language": "python",
   "name": "python3"
  },
  "language_info": {
   "codemirror_mode": {
    "name": "ipython",
    "version": 3
   },
   "file_extension": ".py",
   "mimetype": "text/x-python",
   "name": "python",
   "nbconvert_exporter": "python",
   "pygments_lexer": "ipython3",
   "version": "3.7.3"
  }
 },
 "nbformat": 4,
 "nbformat_minor": 2
}
