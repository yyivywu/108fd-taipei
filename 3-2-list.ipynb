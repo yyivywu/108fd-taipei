{
 "cells": [
  {
   "cell_type": "markdown",
   "metadata": {},
   "source": [
    "# Tuple、List、Dict、Set\n",
    "\n",
    "* tuple: 使用 ()，用於依序儲存資料，儲存內容不能更改，為不可變物件\n",
    "* list(串列): 使用 []，用於依序儲存資料，儲存內容可以更改\n",
    "* dict(字典): 使用 {}，儲存資料沒有順序性，以 {鍵(key):值(value)} 表示一個元素\n",
    "* set(集合): 使用 set() 或 {}，儲存資料沒有順序性"
   ]
  },
  {
   "cell_type": "markdown",
   "metadata": {},
   "source": [
    "## List (串列)\n",
    "### 語法\n",
    "    串列名稱 = [元素1, 元素2, ……]\n",
    "    \n",
    "list 可以修改元素資料、新增、刪除或取出元件，可使用 list 函式將資料轉成串列，並可用 [::] 取出串列的一部分"
   ]
  },
  {
   "cell_type": "code",
   "execution_count": 2,
   "metadata": {},
   "outputs": [
    {
     "name": "stdout",
     "output_type": "stream",
     "text": [
      "[1, '香蕉', True]\n",
      "3\n"
     ]
    }
   ],
   "source": [
    "list1 = [1, 2, 3, 4, 5]          #元素皆為整數\n",
    "list2 = [\"香蕉\", \"蘋果\", \"橘子\"]  #元素皆為字串\n",
    "list3 = [1, \"香蕉\", True]        #包含不同資料型態元素\n",
    "print(list3)\n",
    "print(len(list2))"
   ]
  },
  {
   "cell_type": "markdown",
   "metadata": {},
   "source": [
    "### 取得串列元素\n",
    "    元素值 = 串列名稱[索引值]\n",
    "    元素值 = 串列名稱[起始索引值:終止索引值:間隔]\n",
    "索引值是從 0 開始計數，索引值不可超出串列的範圍。用「:」取得的串列範圍是由起始索引值到「終止索引值-1」"
   ]
  },
  {
   "cell_type": "code",
   "execution_count": 3,
   "metadata": {},
   "outputs": [
    {
     "name": "stdout",
     "output_type": "stream",
     "text": [
      "1\n",
      "[2, 3, 4]\n",
      "[1, 2, 3, 4, 5]\n",
      "5\n"
     ]
    }
   ],
   "source": [
    "list1 = [1, 2, 3, 4, 5]\n",
    "print(list1[0])\n",
    "print(list1[1:4])   #元素值範圍，不包含索引 4\n",
    "print(list1[:])     #由頭到尾\n",
    "print(list1[-1])    #取出最後一個元素值"
   ]
  },
  {
   "cell_type": "code",
   "execution_count": 4,
   "metadata": {},
   "outputs": [
    {
     "name": "stdout",
     "output_type": "stream",
     "text": [
      "['香蕉', '蘋果', '橘子']\n",
      "修改後 ['芭樂', '蘋果', '橘子']\n"
     ]
    }
   ],
   "source": [
    "# 修改串列元素\n",
    "\n",
    "print(list2)\n",
    "list2[0] = \"芭樂\"\n",
    "print(\"修改後\", list2)"
   ]
  },
  {
   "cell_type": "code",
   "execution_count": 6,
   "metadata": {},
   "outputs": [
    {
     "name": "stdout",
     "output_type": "stream",
     "text": [
      "購物清單： ['牛奶', '蛋', '咖啡豆', '西瓜', '鳳梨']\n",
      "新增麵包後： ['牛奶', '蛋', '咖啡豆', '西瓜', '鳳梨', '麵包']\n"
     ]
    }
   ],
   "source": [
    "# 串列的操作 append\n",
    "\n",
    "shoplist = ['牛奶', '蛋', '咖啡豆', '西瓜', '鳳梨']\n",
    "print('購物清單：', shoplist)\n",
    "shoplist.append('麵包')\n",
    "print('新增麵包後：', shoplist)"
   ]
  },
  {
   "cell_type": "code",
   "execution_count": 7,
   "metadata": {},
   "outputs": [
    {
     "name": "stdout",
     "output_type": "stream",
     "text": [
      "購物清單： ['牛奶', '蛋', '咖啡豆', '西瓜', '鳳梨']\n",
      "插入麵包後： ['牛奶', '蛋', '咖啡豆', '西瓜', '麵包', '鳳梨']\n"
     ]
    }
   ],
   "source": [
    "# 串列的操作 insert\n",
    "\n",
    "shoplist = ['牛奶', '蛋', '咖啡豆', '西瓜', '鳳梨']\n",
    "print('購物清單：', shoplist)\n",
    "shoplist.insert(4, '麵包')\n",
    "print('插入麵包後：', shoplist)"
   ]
  },
  {
   "cell_type": "code",
   "execution_count": 8,
   "metadata": {},
   "outputs": [
    {
     "name": "stdout",
     "output_type": "stream",
     "text": [
      "購物清單： ['牛奶', '蛋', '咖啡豆', '西瓜', '鳳梨']\n",
      "移除蛋後： ['牛奶', '咖啡豆', '西瓜', '鳳梨']\n"
     ]
    }
   ],
   "source": [
    "# 串列的操作 remove\n",
    "\n",
    "shoplist = ['牛奶', '蛋', '咖啡豆', '西瓜', '鳳梨']\n",
    "print('購物清單：', shoplist)\n",
    "shoplist.remove('蛋')\n",
    "print('移除蛋後：', shoplist)"
   ]
  },
  {
   "cell_type": "code",
   "execution_count": 10,
   "metadata": {},
   "outputs": [
    {
     "name": "stdout",
     "output_type": "stream",
     "text": [
      "購物清單： ['牛奶', '蛋', '咖啡豆', '西瓜', '鳳梨']\n",
      "移除pop(0)： ['蛋', '咖啡豆', '西瓜', '鳳梨']\n",
      "移除pop()： ['蛋', '咖啡豆', '西瓜']\n",
      "移除pop(-1)： ['蛋', '咖啡豆']\n"
     ]
    }
   ],
   "source": [
    "# 串列的操作 pop\n",
    "\n",
    "shoplist = ['牛奶', '蛋', '咖啡豆', '西瓜', '鳳梨']\n",
    "print('購物清單：', shoplist)\n",
    "\n",
    "shoplist.pop(0)\n",
    "print('移除pop(0)：', shoplist)\n",
    "shoplist.pop()\n",
    "print('移除pop()：', shoplist)\n",
    "shoplist.pop(-1)\n",
    "print('移除pop(-1)：', shoplist)"
   ]
  },
  {
   "cell_type": "code",
   "execution_count": 13,
   "metadata": {},
   "outputs": [
    {
     "name": "stdout",
     "output_type": "stream",
     "text": [
      "購物清單： ['牛奶', '蛋', '咖啡豆', '西瓜', '鳳梨']\n",
      "執行 del 後： ['牛奶', '咖啡豆', '西瓜', '鳳梨']\n"
     ]
    }
   ],
   "source": [
    "# 串列的操作 del\n",
    "\n",
    "shoplist = ['牛奶', '蛋', '咖啡豆', '西瓜', '鳳梨']\n",
    "print('購物清單：', shoplist)\n",
    "\n",
    "del shoplist[1]\n",
    "print('執行 del 後：', shoplist)"
   ]
  },
  {
   "cell_type": "code",
   "execution_count": 18,
   "metadata": {},
   "outputs": [
    {
     "name": "stdout",
     "output_type": "stream",
     "text": [
      "購物清： ['milk', 'egg', 'coffee', 'watermelon']\n",
      "執行排序後： ['coffee', 'egg', 'milk', 'watermelon']\n",
      "執行反轉後： ['watermelon', 'milk', 'egg', 'coffee']\n"
     ]
    }
   ],
   "source": [
    "# 串列的操作 sort\n",
    "\n",
    "shoplist = ['milk', 'egg', 'coffee', 'watermelon']\n",
    "print('購物清：', shoplist)\n",
    "\n",
    "shoplist.sort()\n",
    "print('執行排序後：', shoplist)\n",
    "\n",
    "shoplist.reverse()\n",
    "print('執行反轉後：', shoplist)"
   ]
  },
  {
   "cell_type": "code",
   "execution_count": 44,
   "metadata": {},
   "outputs": [
    {
     "data": {
      "text/plain": [
       "['西瓜', '蘋果', '橘子']"
      ]
     },
     "execution_count": 44,
     "metadata": {},
     "output_type": "execute_result"
    }
   ],
   "source": [
    "# 串列的操作\n",
    "\n",
    "fruits = [\"西瓜\", \"蘋果\", \"橘子\"]\n",
    "#fruits.append(\"木瓜\")    # 新增一元素到 list 最後方\n",
    "#fruits.insert(1, \"梨子\") # 新增一元素到指定位置\n",
    "#fruits.remove(\"西瓜\")    # 將指定元素刪除\n",
    "#fruits.pop(1)  # 刪除串列中指定位置的元素，若不指定則刪除最後一個元素\n",
    "#del fruits[0]   # 刪除指定位置的元素\n",
    "fruits"
   ]
  },
  {
   "cell_type": "code",
   "execution_count": 51,
   "metadata": {},
   "outputs": [
    {
     "data": {
      "text/plain": [
       "[-5, 4, 98, 34]"
      ]
     },
     "execution_count": 51,
     "metadata": {},
     "output_type": "execute_result"
    }
   ],
   "source": [
    "# 串列的排序及反轉\n",
    "\n",
    "numbers = [34, 98, 4, -5]\n",
    "numbers.sort()   # 排序\n",
    "# numbers.reverse()  # 反轉\n",
    "numbers"
   ]
  },
  {
   "attachments": {},
   "cell_type": "markdown",
   "metadata": {},
   "source": [
    "# 待辦事項\n",
    "\n",
    "請設計一個程式：<br />\n",
    "1.輸入五項工作，加入串列中 <br />\n",
    "2.顯示最先加入的兩項工作 <br />\n",
    "3.刪除第3項工作 <br />\n",
    "4.插入一項新工作到第2個位置 <br />\n",
    "5.接著移除最後加入的一項工作"
   ]
  },
  {
   "cell_type": "code",
   "execution_count": 21,
   "metadata": {},
   "outputs": [
    {
     "name": "stdout",
     "output_type": "stream",
     "text": [
      "請輸入工作項目：打球\n",
      "請輸入工作項目：澆花\n",
      "請輸入工作項目：掃地\n",
      "請輸入工作項目：寫程式\n",
      "請輸入工作項目：看書\n",
      "['打球', '澆花', '掃地', '寫程式', '看書']\n"
     ]
    }
   ],
   "source": [
    "todolist = []\n",
    "work = input('請輸入工作項目：')\n",
    "todolist.append(work)\n",
    "work = input('請輸入工作項目：')\n",
    "todolist.append(work)\n",
    "work = input('請輸入工作項目：')\n",
    "todolist.append(work)\n",
    "work = input('請輸入工作項目：')\n",
    "todolist.append(work)\n",
    "work = input('請輸入工作項目：')\n",
    "todolist.append(work)\n",
    "print(todolist)"
   ]
  },
  {
   "cell_type": "code",
   "execution_count": 23,
   "metadata": {},
   "outputs": [
    {
     "name": "stdout",
     "output_type": "stream",
     "text": [
      "['打球', '澆花']\n",
      "['打球', '澆花', '寫程式', '看書']\n"
     ]
    }
   ],
   "source": [
    "print(todolist[0:2])\n",
    "todolist.pop(2)\n",
    "print(todolist)"
   ]
  },
  {
   "cell_type": "code",
   "execution_count": 24,
   "metadata": {},
   "outputs": [
    {
     "name": "stdout",
     "output_type": "stream",
     "text": [
      "請輸入工作項目：聽音樂\n",
      "['打球', '聽音樂', '澆花', '寫程式', '看書']\n"
     ]
    }
   ],
   "source": [
    "work = input('請輸入工作項目：')\n",
    "todolist.insert(1, work)\n",
    "print(todolist)"
   ]
  },
  {
   "cell_type": "code",
   "execution_count": 25,
   "metadata": {},
   "outputs": [
    {
     "name": "stdout",
     "output_type": "stream",
     "text": [
      "['打球', '聽音樂', '澆花', '寫程式']\n"
     ]
    }
   ],
   "source": [
    "todolist.pop()\n",
    "print(todolist)"
   ]
  },
  {
   "cell_type": "code",
   "execution_count": 26,
   "metadata": {},
   "outputs": [
    {
     "data": {
      "text/plain": [
       "['a', 'b', 'c', 'z', 'y']"
      ]
     },
     "execution_count": 26,
     "metadata": {},
     "output_type": "execute_result"
    }
   ],
   "source": [
    "# 串接 2 個串列\n",
    "\n",
    "list1 = ['a', 'b', 'c']\n",
    "list2 = ['z', 'y']\n",
    "list_all = list1 + list2\n",
    "list_all"
   ]
  },
  {
   "cell_type": "code",
   "execution_count": 27,
   "metadata": {},
   "outputs": [
    {
     "data": {
      "text/plain": [
       "['2019', '9', '16']"
      ]
     },
     "execution_count": 27,
     "metadata": {},
     "output_type": "execute_result"
    }
   ],
   "source": [
    "# 分割串列\n",
    "\n",
    "date = \"2019/9/16\"\n",
    "list1 = date.split('/')\n",
    "list1"
   ]
  },
  {
   "attachments": {},
   "cell_type": "markdown",
   "metadata": {},
   "source": [
    "# 切割及反轉字串\n",
    "\n",
    "使用者輸入一句英文句子，使用split分割英文句子成為串列，並將串列反轉顯示出來"
   ]
  },
  {
   "cell_type": "code",
   "execution_count": 28,
   "metadata": {},
   "outputs": [
    {
     "name": "stdout",
     "output_type": "stream",
     "text": [
      "請輸入一句英文an apple a day keeps the doctor away\n",
      "['an', 'apple', 'a', 'day', 'keeps', 'the', 'doctor', 'away']\n",
      "['away', 'doctor', 'the', 'keeps', 'day', 'a', 'apple', 'an']\n"
     ]
    }
   ],
   "source": [
    "s = input('請輸入一句英文')\n",
    "\n",
    "list1 = s.split(' ')\n",
    "print(list1)\n",
    "list2 = list1.reverse()\n",
    "print(list1)"
   ]
  },
  {
   "cell_type": "markdown",
   "metadata": {},
   "source": [
    "### range() 整數串列\n",
    "    range(終止值)\n",
    "    range(起始值, 終止值, 間隔值)\n",
    "產生的串列是起始值到「終止值 - 1」的串列"
   ]
  },
  {
   "cell_type": "code",
   "execution_count": 29,
   "metadata": {},
   "outputs": [
    {
     "data": {
      "text/plain": [
       "[0, 1, 2, 3, 4]"
      ]
     },
     "execution_count": 29,
     "metadata": {},
     "output_type": "execute_result"
    }
   ],
   "source": [
    "list1 = range(5)        #[0,1,2,3,4]\n",
    "list2 = range(3, 8)     #[3,4,5,6,7]\n",
    "list3 = range(3, 8, 2)  #[3,5,7] 元素值每次增加2\n",
    "list4 = range(8, 3, -1) #[8,7,6,5,4] 間隔值可以是負值\n",
    "list(list1)"
   ]
  },
  {
   "cell_type": "code",
   "execution_count": 60,
   "metadata": {},
   "outputs": [],
   "source": [
    "# 拷貝串列：串列 = 號與 copy 不同\n",
    "\n",
    "n1 = [10, 20, 30, 40]\n",
    "n2 = n1\n",
    "#print('n1 = ', id(n1))\n",
    "#print('n2 = ', id(n2))\n",
    "n1[2] = 33\n",
    "#print('n1 = ', n1)\n",
    "#print('n2 = ', n2)\n",
    "\n",
    "n3 = n1.copy()\n",
    "#print('n1 = ', id(n1))\n",
    "#print('n3 = ', id(n3))\n",
    "n1[2] = 43\n",
    "#print('n1 = ', n1)\n",
    "#print('n3 = ', n3)"
   ]
  },
  {
   "cell_type": "code",
   "execution_count": null,
   "metadata": {},
   "outputs": [],
   "source": []
  }
 ],
 "metadata": {
  "kernelspec": {
   "display_name": "Python 3",
   "language": "python",
   "name": "python3"
  },
  "language_info": {
   "codemirror_mode": {
    "name": "ipython",
    "version": 3
   },
   "file_extension": ".py",
   "mimetype": "text/x-python",
   "name": "python",
   "nbconvert_exporter": "python",
   "pygments_lexer": "ipython3",
   "version": "3.7.3"
  }
 },
 "nbformat": 4,
 "nbformat_minor": 2
}
