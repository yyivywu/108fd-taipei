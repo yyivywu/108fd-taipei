{
 "cells": [
  {
   "cell_type": "markdown",
   "metadata": {},
   "source": [
    "# 基本資料輸入格式化"
   ]
  },
  {
   "cell_type": "code",
   "execution_count": 1,
   "metadata": {},
   "outputs": [],
   "source": [
    "import tkinter as tk"
   ]
  },
  {
   "cell_type": "code",
   "execution_count": 2,
   "metadata": {},
   "outputs": [],
   "source": [
    "# 自訂函式 ShowData：顯示使用者輸入的資料\n",
    "# 使用 get 方法讀取 Entry 元件的輸入文字\n",
    "def ShowData():\n",
    "    #dataString.set(\"{} - {} - {}\".format(nameString.get(), ageString.get(), weightString.get()))\n",
    "    dataString.set(\"%s 你好！你的身高為 %s 公分，體重為 %s 公斤！\" % (enName.get(), enHeight.get(), enWeight.get()))\n",
    "    \n",
    "# 建立視窗及設定外觀\n",
    "win = tk.Tk()\n",
    "win.title(\"基本資料輸入\")\n",
    "win.geometry(\"600x400\")\n",
    "\n",
    "# 標籤 Label：用於顯示提示文字\n",
    "lb1 = tk.Label(win, text=\"請輸入姓名：\", height=2, font=('標楷體', 12))\n",
    "lb2 = tk.Label(win, text=\"請輸入身高：\", height=2, font=('標楷體', 12))\n",
    "lb3 = tk.Label(win, text=\"請輸入體重：\", height=2, font=('標楷體', 12))\n",
    "\n",
    "# 宣告標籤 Label 顯示資料的字串變數\n",
    "dataString = tk.StringVar()\n",
    "dataString.set(\"\")\n",
    "lbShow = tk.Label(win, textvariable=dataString, bg=\"yellow\", fg=\"blue\", \\\n",
    "                  height=2, font=('標楷體', 12))\n",
    "\n",
    "# 文字輸入 Entry：用於接收使用者輸入基本資料\n",
    "enName = tk.Entry(win, bg=\"gray80\", width=15, font=('標楷體', 14))\n",
    "enHeight = tk.Entry(win, bg=\"gray80\", width=15, font=('標楷體', 14))\n",
    "enWeight = tk.Entry(win, bg=\"gray80\", width=15, font=('標楷體', 14))\n",
    "\n",
    "# 按鈕 Button：用於執行動作\n",
    "btnShow = tk.Button(win, text=\"顯示基本資料\", command=ShowData, font=('標楷體', 14))\n",
    "btnQuit = tk.Button(win, text=\"關閉程式\", command=win.destroy, font=('標楷體', 14))\n",
    "\n",
    "# 在視窗中擺放各個元件\n",
    "lb1.pack()\n",
    "enName.pack()\n",
    "lb2.pack()\n",
    "enHeight.pack()\n",
    "lb3.pack()\n",
    "enWeight.pack()\n",
    "btnShow.pack(pady=10)\n",
    "lbShow.pack()\n",
    "btnQuit.pack(pady=10)\n",
    "\n",
    "# 呼叫視窗\n",
    "win.mainloop()"
   ]
  },
  {
   "cell_type": "code",
   "execution_count": null,
   "metadata": {},
   "outputs": [],
   "source": []
  }
 ],
 "metadata": {
  "kernelspec": {
   "display_name": "Python 3",
   "language": "python",
   "name": "python3"
  },
  "language_info": {
   "codemirror_mode": {
    "name": "ipython",
    "version": 3
   },
   "file_extension": ".py",
   "mimetype": "text/x-python",
   "name": "python",
   "nbconvert_exporter": "python",
   "pygments_lexer": "ipython3",
   "version": "3.7.3"
  }
 },
 "nbformat": 4,
 "nbformat_minor": 2
}
