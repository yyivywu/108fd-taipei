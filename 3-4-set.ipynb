{
 "cells": [
  {
   "cell_type": "markdown",
   "metadata": {},
   "source": [
    "# Tuple、List、Dict、Set\n",
    "\n",
    "* tuple: 使用 ()，用於依序儲存資料，儲存內容不能更改，為不可變物件\n",
    "* list(串列): 使用 []，用於依序儲存資料，儲存內容可以更改\n",
    "* dict(字典): 使用 {}，儲存資料沒有順序性，以 {鍵(key):值(value)} 表示一個元素\n",
    "* set(集合): 使用 set() 或 {}，儲存資料沒有順序性"
   ]
  },
  {
   "cell_type": "markdown",
   "metadata": {},
   "source": [
    "## Set (集合)\n",
    "### 語法\n",
    "    集合名稱 = {元素1, 元素2, ……}\n",
    "    \n",
    "    集合名稱 = set(參數)。參數可以是字串、tuple、list、dict...\n",
    "  \n",
    "集合會自動刪除重複元素"
   ]
  },
  {
   "cell_type": "code",
   "execution_count": 4,
   "metadata": {},
   "outputs": [
    {
     "data": {
      "text/plain": [
       "{1, 2, 3, 4}"
      ]
     },
     "execution_count": 4,
     "metadata": {},
     "output_type": "execute_result"
    }
   ],
   "source": [
    "set1 = {1, 2, 3, 4, 3}\n",
    "set1"
   ]
  },
  {
   "cell_type": "code",
   "execution_count": 5,
   "metadata": {},
   "outputs": [
    {
     "data": {
      "text/plain": [
       "['John', 'Amy', 'Helen']"
      ]
     },
     "execution_count": 5,
     "metadata": {},
     "output_type": "execute_result"
    }
   ],
   "source": [
    "set2 = (['John', 'Amy', 'Helen'])\n",
    "set2"
   ]
  },
  {
   "cell_type": "code",
   "execution_count": 7,
   "metadata": {},
   "outputs": [
    {
     "data": {
      "text/plain": [
       "['John', 'Helen']"
      ]
     },
     "execution_count": 7,
     "metadata": {},
     "output_type": "execute_result"
    }
   ],
   "source": [
    "# 函式 add 新增元素；remove 刪除元素\n",
    "\n",
    "set1.add(78)\n",
    "set2.remove('Amy')\n",
    "set2"
   ]
  },
  {
   "cell_type": "code",
   "execution_count": 8,
   "metadata": {},
   "outputs": [
    {
     "name": "stdout",
     "output_type": "stream",
     "text": [
      "{'t', 'r', 'e', 'g', 'i'}\n",
      "{'a', 'r', 'b', 'e'}\n"
     ]
    }
   ],
   "source": [
    "# 可以將任意兩個集合進行聯集(|)、交集(&)、差集(-)，或互斥(^)運算\n",
    "\n",
    "a = set('tiger')\n",
    "b = set('bear')\n",
    "print(a)\n",
    "print(b)"
   ]
  },
  {
   "cell_type": "code",
   "execution_count": null,
   "metadata": {},
   "outputs": [],
   "source": [
    "# 可以將任意兩個集合進行比較\n",
    "\n",
    "c = set('tiger')\n",
    "d = set('tigers')\n"
   ]
  }
 ],
 "metadata": {
  "kernelspec": {
   "display_name": "Python 3",
   "language": "python",
   "name": "python3"
  },
  "language_info": {
   "codemirror_mode": {
    "name": "ipython",
    "version": 3
   },
   "file_extension": ".py",
   "mimetype": "text/x-python",
   "name": "python",
   "nbconvert_exporter": "python",
   "pygments_lexer": "ipython3",
   "version": "3.7.3"
  }
 },
 "nbformat": 4,
 "nbformat_minor": 2
}
