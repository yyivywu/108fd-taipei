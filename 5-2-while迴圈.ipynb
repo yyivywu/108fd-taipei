{
 "cells": [
  {
   "cell_type": "markdown",
   "metadata": {},
   "source": [
    "# while 迴圈\n",
    "\n",
    "固定次數的迴圈可使用 for 或 while；事先無法確定執行次數的迴圈，只能使用 while \n",
    "\n",
    "    while 條件式: \t\n",
    "\t  程式區塊"
   ]
  },
  {
   "cell_type": "code",
   "execution_count": 4,
   "metadata": {},
   "outputs": [
    {
     "name": "stdout",
     "output_type": "stream",
     "text": [
      "請輸入起始值：3\n",
      "請輸入終止值：12\n",
      "請輸入增加值：3\n",
      "i 為  3 加總結果為  3\n",
      "i 為  6 加總結果為  9\n",
      "i 為  9 加總結果為  18\n"
     ]
    }
   ],
   "source": [
    "# 輸入起始、終止及增值，計算加總\n",
    "# 固定次數迴圈 for 及 while 皆可完成任務\n",
    "\n",
    "s = int(input(\"請輸入起始值：\"))\n",
    "e = int(input(\"請輸入終止值：\"))\n",
    "inc = int(input(\"請輸入增加值：\"))\n",
    "\n",
    "sum = 0\n",
    "i = s\n",
    "while i < e:       # 終止值不進行加總\n",
    "    sum = sum + i  # 簡短寫法 sum += i\n",
    "    print(\"i 為 \", i, \"加總結果為 \", sum)\n",
    "    i = i + inc"
   ]
  },
  {
   "cell_type": "code",
   "execution_count": 5,
   "metadata": {},
   "outputs": [
    {
     "name": "stdout",
     "output_type": "stream",
     "text": [
      "請猜一個 1-99 間的整數：４５\n",
      "請再猜小一點的數字！\n",
      "請猜一個 1-99 間的整數：45\n",
      "請再猜小一點的數字！\n",
      "請猜一個 1-99 間的整數：34\n",
      "請再猜小一點的數字！\n",
      "請猜一個 1-99 間的整數：23\n",
      "請再猜小一點的數字！\n",
      "請猜一個 1-99 間的整數：4\n",
      "請再猜大一點的數字！\n",
      "請猜一個 1-99 間的整數：10\n",
      "請再猜大一點的數字！\n",
      "請猜一個 1-99 間的整數：16\n",
      "請再猜小一點的數字！\n",
      "請猜一個 1-99 間的整數：14\n",
      "請再猜小一點的數字！\n",
      "請猜一個 1-99 間的整數：12\n",
      "請再猜小一點的數字！\n",
      "請猜一個 1-99 間的整數：11\n",
      "Bingo! 答對了！\n"
     ]
    }
   ],
   "source": [
    "# 猜數字，無法預先知道何時猜對，只能使用 while 迴圈\n",
    "\n",
    "import random\n",
    "target = random.randint(1, 99)   # 由系統隨機選出 1-99 中的一個整數\n",
    "\n",
    "guess = 0\n",
    "while guess != target:\n",
    "    guess = int(input(\"請猜一個 1-99 間的整數：\"))\n",
    "    if guess < target:\n",
    "        print(\"請再猜大一點的數字！\")\n",
    "    elif guess > target:\n",
    "        print(\"請再猜小一點的數字！\")\n",
    "    else:\n",
    "        print(\"Bingo! 答對了！\")"
   ]
  },
  {
   "cell_type": "code",
   "execution_count": null,
   "metadata": {},
   "outputs": [],
   "source": []
  }
 ],
 "metadata": {
  "kernelspec": {
   "display_name": "Python 3",
   "language": "python",
   "name": "python3"
  },
  "language_info": {
   "codemirror_mode": {
    "name": "ipython",
    "version": 3
   },
   "file_extension": ".py",
   "mimetype": "text/x-python",
   "name": "python",
   "nbconvert_exporter": "python",
   "pygments_lexer": "ipython3",
   "version": "3.7.3"
  }
 },
 "nbformat": 4,
 "nbformat_minor": 2
}
