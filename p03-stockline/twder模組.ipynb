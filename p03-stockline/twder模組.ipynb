{
 "cells": [
  {
   "cell_type": "markdown",
   "metadata": {},
   "source": [
    "# twder 匯率查詢模組"
   ]
  },
  {
   "cell_type": "code",
   "execution_count": 1,
   "metadata": {},
   "outputs": [],
   "source": [
    "import requests\n",
    "import twder"
   ]
  },
  {
   "cell_type": "code",
   "execution_count": 2,
   "metadata": {},
   "outputs": [],
   "source": [
    "USD=twder.now('USD')             #顯示美金匯率\n",
    "EUR=twder.now('EUR')             #顯示歐元匯率\n",
    "CNY=twder.now('CNY')             #顯示人民幣匯率\n",
    "JPY=twder.now('JPY')            #顯示日元匯率\n",
    "KRW=twder.now('KRW')            #顯示韓元匯率"
   ]
  },
  {
   "cell_type": "code",
   "execution_count": 3,
   "metadata": {},
   "outputs": [
    {
     "data": {
      "text/plain": [
       "('2019/10/25 16:01', '30.17', '30.84', '30.52', '30.62')"
      ]
     },
     "execution_count": 3,
     "metadata": {},
     "output_type": "execute_result"
    }
   ],
   "source": [
    "USD"
   ]
  },
  {
   "cell_type": "code",
   "execution_count": 4,
   "metadata": {},
   "outputs": [
    {
     "data": {
      "text/plain": [
       "('2019/10/25 16:01', '33.17', '34.51', '33.79', '34.19')"
      ]
     },
     "execution_count": 4,
     "metadata": {},
     "output_type": "execute_result"
    }
   ],
   "source": [
    "EUR"
   ]
  },
  {
   "cell_type": "code",
   "execution_count": 5,
   "metadata": {},
   "outputs": [
    {
     "data": {
      "text/plain": [
       "('2019/10/25 16:01', '4.227', '4.389', '4.299', '4.349')"
      ]
     },
     "execution_count": 5,
     "metadata": {},
     "output_type": "execute_result"
    }
   ],
   "source": [
    "CNY"
   ]
  },
  {
   "cell_type": "code",
   "execution_count": 6,
   "metadata": {},
   "outputs": [
    {
     "data": {
      "text/plain": [
       "('2019/10/25 16:01', '0.2722', '0.285', '0.2795', '0.2835')"
      ]
     },
     "execution_count": 6,
     "metadata": {},
     "output_type": "execute_result"
    }
   ],
   "source": [
    "JPY"
   ]
  },
  {
   "cell_type": "code",
   "execution_count": 7,
   "metadata": {},
   "outputs": [
    {
     "data": {
      "text/plain": [
       "('2019/10/25 16:01', '0.02431', '0.02821', '-', '-')"
      ]
     },
     "execution_count": 7,
     "metadata": {},
     "output_type": "execute_result"
    }
   ],
   "source": [
    "KRW"
   ]
  },
  {
   "cell_type": "code",
   "execution_count": 10,
   "metadata": {},
   "outputs": [
    {
     "data": {
      "text/plain": [
       "{'USD': ('2019/10/25 16:01', '30.17', '30.84', '30.52', '30.62'),\n",
       " 'HKD': ('2019/10/25 16:01', '3.744', '3.948', '3.87', '3.93'),\n",
       " 'GBP': ('2019/10/25 16:01', '38.06', '40.18', '39.06', '39.48'),\n",
       " 'AUD': ('2019/10/25 16:01', '20.5', '21.28', '20.77', '21'),\n",
       " 'CAD': ('2019/10/25 16:01', '22.91', '23.82', '23.3', '23.52'),\n",
       " 'SGD': ('2019/10/25 16:01', '21.86', '22.77', '22.35', '22.53'),\n",
       " 'CHF': ('2019/10/25 16:01', '30.01', '31.21', '30.67', '30.96'),\n",
       " 'JPY': ('2019/10/25 16:01', '0.2722', '0.285', '0.2795', '0.2835'),\n",
       " 'ZAR': ('2019/10/25 16:01', '-', '-', '2.04', '2.12'),\n",
       " 'SEK': ('2019/10/25 16:01', '2.78', '3.3', '3.12', '3.22'),\n",
       " 'NZD': ('2019/10/25 16:01', '19', '19.85', '19.38', '19.58'),\n",
       " 'THB': ('2019/10/25 16:01', '0.8891', '1.0771', '0.9977', '1.0377'),\n",
       " 'PHP': ('2019/10/25 16:01', '0.5241', '0.6571', '-', '-'),\n",
       " 'IDR': ('2019/10/25 16:01', '0.00183', '0.00253', '-', '-'),\n",
       " 'EUR': ('2019/10/25 16:01', '33.17', '34.51', '33.79', '34.19'),\n",
       " 'KRW': ('2019/10/25 16:01', '0.02431', '0.02821', '-', '-'),\n",
       " 'VND': ('2019/10/25 16:01', '0.00094', '0.00144', '-', '-'),\n",
       " 'MYR': ('2019/10/25 16:01', '6.189', '7.833', '-', '-'),\n",
       " 'CNY': ('2019/10/25 16:01', '4.227', '4.389', '4.299', '4.349')}"
      ]
     },
     "execution_count": 10,
     "metadata": {},
     "output_type": "execute_result"
    }
   ],
   "source": [
    "twder.now_all()"
   ]
  },
  {
   "cell_type": "code",
   "execution_count": null,
   "metadata": {},
   "outputs": [],
   "source": []
  }
 ],
 "metadata": {
  "kernelspec": {
   "display_name": "Python 3",
   "language": "python",
   "name": "python3"
  },
  "language_info": {
   "codemirror_mode": {
    "name": "ipython",
    "version": 3
   },
   "file_extension": ".py",
   "mimetype": "text/x-python",
   "name": "python",
   "nbconvert_exporter": "python",
   "pygments_lexer": "ipython3",
   "version": "3.7.3"
  }
 },
 "nbformat": 4,
 "nbformat_minor": 2
}
