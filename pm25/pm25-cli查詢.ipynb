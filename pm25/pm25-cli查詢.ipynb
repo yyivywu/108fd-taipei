{
 "cells": [
  {
   "cell_type": "markdown",
   "metadata": {},
   "source": [
    "# 行政院環保署空氣品質 AQI 查詢"
   ]
  },
  {
   "cell_type": "code",
   "execution_count": 3,
   "metadata": {},
   "outputs": [],
   "source": [
    "from urllib import request\n",
    "import json\n",
    "\n",
    "#url = \"http://opendata2.epa.gov.tw/AQI.json\"\n",
    "url = \"http://opendata.epa.gov.tw/webapi/Data/REWIQA/?$orderby=SiteName&$skip=0&$top=1000&format=json\"\n",
    "res = request.urlopen(url)\n",
    "content = res.read()\n",
    "content = content.decode('utf-8')\n",
    "#print(content)"
   ]
  },
  {
   "cell_type": "code",
   "execution_count": 13,
   "metadata": {},
   "outputs": [],
   "source": [
    "aqi_list = json.loads(content)"
   ]
  },
  {
   "cell_type": "code",
   "execution_count": 14,
   "metadata": {},
   "outputs": [
    {
     "name": "stdout",
     "output_type": "stream",
     "text": [
      "6.6\n"
     ]
    }
   ],
   "source": [
    "print(aqi_list[81][\"WindSpeed\"])"
   ]
  },
  {
   "cell_type": "code",
   "execution_count": 15,
   "metadata": {},
   "outputs": [
    {
     "name": "stdout",
     "output_type": "stream",
     "text": [
      "82\n"
     ]
    }
   ],
   "source": [
    "print(len(aqi_list))"
   ]
  },
  {
   "cell_type": "code",
   "execution_count": null,
   "metadata": {},
   "outputs": [],
   "source": [
    "county = input(\"請輸入縣市名稱:\")"
   ]
  },
  {
   "cell_type": "code",
   "execution_count": 11,
   "metadata": {},
   "outputs": [
    {
     "name": "stdout",
     "output_type": "stream",
     "text": [
      "pm2.5: 58\n",
      "count: 3\n",
      "平均值: 19\n",
      "南投縣共有3個測站\n",
      "平均 PM 2.5 是 19\n"
     ]
    }
   ],
   "source": [
    "pm25 = 0\n",
    "count = 0\n",
    "for i in range(0,len(aqi_list)-1):\n",
    "    if county == aqi_list[i][\"County\"]:\n",
    "        pm25 = pm25 + int(aqi_list[i][\"PM2.5\"])\n",
    "        count = count + 1\n",
    "\n",
    "print(\"pm2.5:\", pm25)\n",
    "print(\"count:\", count)\n",
    "print(\"平均值:\", round(pm25/count))\n",
    "        \n",
    "if count == 0:\n",
    "    print(\"查無資料\")\n",
    "else:\n",
    "    print(county + \"共有\" + str(count) + \"個測站\")\n",
    "    print(\"平均 PM 2.5 是 \" + str(round(pm25/count)))"
   ]
  },
  {
   "cell_type": "markdown",
   "metadata": {},
   "source": [
    "# 完整程式碼"
   ]
  },
  {
   "cell_type": "code",
   "execution_count": 1,
   "metadata": {},
   "outputs": [
    {
     "name": "stdout",
     "output_type": "stream",
     "text": [
      "請輸入縣市名稱:南投縣\n",
      "南投縣共有3個測站，平均 PM 2.5 是 19\n"
     ]
    }
   ],
   "source": [
    "from urllib import request\n",
    "import json\n",
    "\n",
    "#url = \"http://opendata2.epa.gov.tw/AQI.json\"\n",
    "url = \"http://opendata.epa.gov.tw/webapi/Data/REWIQA/?$orderby=SiteName&$skip=0&$top=1000&format=json\"\n",
    "response = request.urlopen(url)\n",
    "content = response.read()\n",
    "content = content.decode('utf-8')\n",
    "aqi_list = json.loads(content)\n",
    "county = input(\"請輸入縣市名稱:\")\n",
    "\n",
    "pm25 = 0\n",
    "count = 0\n",
    "for i in range(0,len(aqi_list)-1):\n",
    "    if county == aqi_list[i][\"County\"]:\n",
    "        if aqi_list[i][\"PM2.5\"] != \"ND\":\n",
    "            pm25 = pm25 + int(aqi_list[i][\"PM2.5\"])\n",
    "            count = count + 1\n",
    "if count == 0:\n",
    "  print(\"查無資料\")\n",
    "else:\n",
    "  print (county + \"共有\" + str(count) + \"個測站，平均 PM 2.5 是 \" + str(round(pm25/count)))"
   ]
  },
  {
   "cell_type": "code",
   "execution_count": null,
   "metadata": {},
   "outputs": [],
   "source": []
  }
 ],
 "metadata": {
  "kernelspec": {
   "display_name": "Python 3",
   "language": "python",
   "name": "python3"
  },
  "language_info": {
   "codemirror_mode": {
    "name": "ipython",
    "version": 3
   },
   "file_extension": ".py",
   "mimetype": "text/x-python",
   "name": "python",
   "nbconvert_exporter": "python",
   "pygments_lexer": "ipython3",
   "version": "3.7.3"
  }
 },
 "nbformat": 4,
 "nbformat_minor": 2
}
