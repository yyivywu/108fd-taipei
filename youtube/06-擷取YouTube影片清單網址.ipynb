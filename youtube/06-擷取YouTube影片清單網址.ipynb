{
 "cells": [
  {
   "cell_type": "markdown",
   "metadata": {},
   "source": [
    "# 擷取 YouTube 影片清單的網址列表\n",
    "\n",
    "影片清單：[周莫煩-爬蟲基礎](https://www.youtube.com/playlist?list=PLXO45tsB95cIuXEgV-mvYWRd_hVC43Akk)\n",
    "\n",
    "網址：[https://www.youtube.com/playlist?list=PLXO45tsB95cIuXEgV-mvYWRd_hVC43Akk](https://www.youtube.com/playlist?list=PLXO45tsB95cIuXEgV-mvYWRd_hVC43Akk)"
   ]
  },
  {
   "cell_type": "code",
   "execution_count": 2,
   "metadata": {},
   "outputs": [],
   "source": [
    "import requests\n",
    "import re"
   ]
  },
  {
   "cell_type": "code",
   "execution_count": 3,
   "metadata": {},
   "outputs": [],
   "source": [
    "#指定 YouTube 影片清單\n",
    "\n",
    "url = 'https://www.youtube.com/playlist?list=PLXO45tsB95cIuXEgV-mvYWRd_hVC43Akk'\n",
    "html = requests.get(url)"
   ]
  },
  {
   "cell_type": "code",
   "execution_count": 4,
   "metadata": {},
   "outputs": [
    {
     "name": "stdout",
     "output_type": "stream",
     "text": [
      "['/watch?v=DQdeWX6-Uy8&amp;list=PLXO45tsB95cIuXEgV-mvYWRd_hVC43Akk', '/watch?v=DQdeWX6-Uy8&amp;list=PLXO45tsB95cIuXEgV-mvYWRd_hVC43Akk', '/watch?v=DQdeWX6-Uy8&amp;list=PLXO45tsB95cIuXEgV-mvYWRd_hVC43Akk&amp;index=2&amp;t=0s', '/watch?v=DQdeWX6-Uy8&amp;list=PLXO45tsB95cIuXEgV-mvYWRd_hVC43Akk&amp;index=2&amp;t=0s', '/watch?v=7B-nvXUJGQs&amp;list=PLXO45tsB95cIuXEgV-mvYWRd_hVC43Akk&amp;index=3&amp;t=0s', '/watch?v=7B-nvXUJGQs&amp;list=PLXO45tsB95cIuXEgV-mvYWRd_hVC43Akk&amp;index=3&amp;t=0s', '/watch?v=KLq0W1wUVmw&amp;list=PLXO45tsB95cIuXEgV-mvYWRd_hVC43Akk&amp;index=4&amp;t=0s', '/watch?v=KLq0W1wUVmw&amp;list=PLXO45tsB95cIuXEgV-mvYWRd_hVC43Akk&amp;index=4&amp;t=0s', '/watch?v=SiIwSAIC458&amp;list=PLXO45tsB95cIuXEgV-mvYWRd_hVC43Akk&amp;index=5&amp;t=0s', '/watch?v=SiIwSAIC458&amp;list=PLXO45tsB95cIuXEgV-mvYWRd_hVC43Akk&amp;index=5&amp;t=0s', '/watch?v=OfmmsxVSP0o&amp;list=PLXO45tsB95cIuXEgV-mvYWRd_hVC43Akk&amp;index=6&amp;t=0s', '/watch?v=OfmmsxVSP0o&amp;list=PLXO45tsB95cIuXEgV-mvYWRd_hVC43Akk&amp;index=6&amp;t=0s', '/watch?v=dSypElTfcFM&amp;list=PLXO45tsB95cIuXEgV-mvYWRd_hVC43Akk&amp;index=7&amp;t=0s', '/watch?v=dSypElTfcFM&amp;list=PLXO45tsB95cIuXEgV-mvYWRd_hVC43Akk&amp;index=7&amp;t=0s', '/watch?v=L6ewlStcEzI&amp;list=PLXO45tsB95cIuXEgV-mvYWRd_hVC43Akk&amp;index=8&amp;t=0s', '/watch?v=L6ewlStcEzI&amp;list=PLXO45tsB95cIuXEgV-mvYWRd_hVC43Akk&amp;index=8&amp;t=0s', '/watch?v=ScT0FJdHc5o&amp;list=PLXO45tsB95cIuXEgV-mvYWRd_hVC43Akk&amp;index=9&amp;t=0s', '/watch?v=ScT0FJdHc5o&amp;list=PLXO45tsB95cIuXEgV-mvYWRd_hVC43Akk&amp;index=9&amp;t=0s', '/watch?v=rwI7bFXdOsk&amp;list=PLXO45tsB95cIuXEgV-mvYWRd_hVC43Akk&amp;index=10&amp;t=0s', '/watch?v=rwI7bFXdOsk&amp;list=PLXO45tsB95cIuXEgV-mvYWRd_hVC43Akk&amp;index=10&amp;t=0s', '/watch?v=QRJdEdgpTos&amp;list=PLXO45tsB95cIuXEgV-mvYWRd_hVC43Akk&amp;index=11&amp;t=0s', '/watch?v=QRJdEdgpTos&amp;list=PLXO45tsB95cIuXEgV-mvYWRd_hVC43Akk&amp;index=11&amp;t=0s', '/watch?v=Wa2K7sB7BZE&amp;list=PLXO45tsB95cIuXEgV-mvYWRd_hVC43Akk&amp;index=12&amp;t=0s', '/watch?v=Wa2K7sB7BZE&amp;list=PLXO45tsB95cIuXEgV-mvYWRd_hVC43Akk&amp;index=12&amp;t=0s', '/watch?v=roTwhVIHkAo&amp;list=PLXO45tsB95cIuXEgV-mvYWRd_hVC43Akk&amp;index=13&amp;t=0s', '/watch?v=roTwhVIHkAo&amp;list=PLXO45tsB95cIuXEgV-mvYWRd_hVC43Akk&amp;index=13&amp;t=0s', '/watch?v=0Uug1fDa8nw&amp;list=PLXO45tsB95cIuXEgV-mvYWRd_hVC43Akk&amp;index=14&amp;t=0s', '/watch?v=0Uug1fDa8nw&amp;list=PLXO45tsB95cIuXEgV-mvYWRd_hVC43Akk&amp;index=14&amp;t=0s', '/watch_autoplayrenderer', '/watch_edit', '/watch_editor', '/watch_promos', '/watch_speedyg', '/watch_transcript', '/watch_videoshelf', '/watch_autoplayrenderer', '/watch_edit', '/watch_editor', '/watch_promos', '/watch_speedyg', '/watch_transcript', '/watch_videoshelf']\n"
     ]
    }
   ],
   "source": [
    "#設定影片網址的正規表示式，即 /watch 後的網址內容\n",
    "\n",
    "res1 = re.findall(r'/watch[-A-Za-z0-9+&@#/%?=~_|!:,.;]+[-A-Za-z0-9+&@#/%=~_|]', html.text)  \n",
    "print(res1)"
   ]
  },
  {
   "cell_type": "code",
   "execution_count": 5,
   "metadata": {},
   "outputs": [
    {
     "name": "stdout",
     "output_type": "stream",
     "text": [
      "['/watch?v=DQdeWX6-Uy8&amp;list=PLXO45tsB95cIuXEgV-mvYWRd_hVC43Akk&amp;index=2&amp;t=0s', '/watch?v=DQdeWX6-Uy8&amp;list=PLXO45tsB95cIuXEgV-mvYWRd_hVC43Akk&amp;index=2&amp;t=0s', '/watch?v=7B-nvXUJGQs&amp;list=PLXO45tsB95cIuXEgV-mvYWRd_hVC43Akk&amp;index=3&amp;t=0s', '/watch?v=7B-nvXUJGQs&amp;list=PLXO45tsB95cIuXEgV-mvYWRd_hVC43Akk&amp;index=3&amp;t=0s', '/watch?v=KLq0W1wUVmw&amp;list=PLXO45tsB95cIuXEgV-mvYWRd_hVC43Akk&amp;index=4&amp;t=0s', '/watch?v=KLq0W1wUVmw&amp;list=PLXO45tsB95cIuXEgV-mvYWRd_hVC43Akk&amp;index=4&amp;t=0s', '/watch?v=SiIwSAIC458&amp;list=PLXO45tsB95cIuXEgV-mvYWRd_hVC43Akk&amp;index=5&amp;t=0s', '/watch?v=SiIwSAIC458&amp;list=PLXO45tsB95cIuXEgV-mvYWRd_hVC43Akk&amp;index=5&amp;t=0s', '/watch?v=OfmmsxVSP0o&amp;list=PLXO45tsB95cIuXEgV-mvYWRd_hVC43Akk&amp;index=6&amp;t=0s', '/watch?v=OfmmsxVSP0o&amp;list=PLXO45tsB95cIuXEgV-mvYWRd_hVC43Akk&amp;index=6&amp;t=0s', '/watch?v=dSypElTfcFM&amp;list=PLXO45tsB95cIuXEgV-mvYWRd_hVC43Akk&amp;index=7&amp;t=0s', '/watch?v=dSypElTfcFM&amp;list=PLXO45tsB95cIuXEgV-mvYWRd_hVC43Akk&amp;index=7&amp;t=0s', '/watch?v=L6ewlStcEzI&amp;list=PLXO45tsB95cIuXEgV-mvYWRd_hVC43Akk&amp;index=8&amp;t=0s', '/watch?v=L6ewlStcEzI&amp;list=PLXO45tsB95cIuXEgV-mvYWRd_hVC43Akk&amp;index=8&amp;t=0s', '/watch?v=ScT0FJdHc5o&amp;list=PLXO45tsB95cIuXEgV-mvYWRd_hVC43Akk&amp;index=9&amp;t=0s', '/watch?v=ScT0FJdHc5o&amp;list=PLXO45tsB95cIuXEgV-mvYWRd_hVC43Akk&amp;index=9&amp;t=0s', '/watch?v=rwI7bFXdOsk&amp;list=PLXO45tsB95cIuXEgV-mvYWRd_hVC43Akk&amp;index=10&amp;t=0s', '/watch?v=rwI7bFXdOsk&amp;list=PLXO45tsB95cIuXEgV-mvYWRd_hVC43Akk&amp;index=10&amp;t=0s', '/watch?v=QRJdEdgpTos&amp;list=PLXO45tsB95cIuXEgV-mvYWRd_hVC43Akk&amp;index=11&amp;t=0s', '/watch?v=QRJdEdgpTos&amp;list=PLXO45tsB95cIuXEgV-mvYWRd_hVC43Akk&amp;index=11&amp;t=0s', '/watch?v=Wa2K7sB7BZE&amp;list=PLXO45tsB95cIuXEgV-mvYWRd_hVC43Akk&amp;index=12&amp;t=0s', '/watch?v=Wa2K7sB7BZE&amp;list=PLXO45tsB95cIuXEgV-mvYWRd_hVC43Akk&amp;index=12&amp;t=0s', '/watch?v=roTwhVIHkAo&amp;list=PLXO45tsB95cIuXEgV-mvYWRd_hVC43Akk&amp;index=13&amp;t=0s', '/watch?v=roTwhVIHkAo&amp;list=PLXO45tsB95cIuXEgV-mvYWRd_hVC43Akk&amp;index=13&amp;t=0s', '/watch?v=0Uug1fDa8nw&amp;list=PLXO45tsB95cIuXEgV-mvYWRd_hVC43Akk&amp;index=14&amp;t=0s', '/watch?v=0Uug1fDa8nw&amp;list=PLXO45tsB95cIuXEgV-mvYWRd_hVC43Akk&amp;index=14&amp;t=0s']\n"
     ]
    }
   ],
   "source": [
    "# 過濾不屬於影片的網址\n",
    "\n",
    "videourlList = []\n",
    "\n",
    "for temurl in res1:\n",
    "    if 'list=' and 'index=' in temurl:  #網址必須包含 list= 及 index= 才是正確的影片網址\n",
    "        videourlList.append(temurl)\n",
    "print(videourlList)"
   ]
  },
  {
   "cell_type": "code",
   "execution_count": 6,
   "metadata": {},
   "outputs": [
    {
     "name": "stdout",
     "output_type": "stream",
     "text": [
      "['/watch?v=DQdeWX6-Uy8&amp;list=PLXO45tsB95cIuXEgV-mvYWRd_hVC43Akk&amp;index=2&amp;t=0s', '/watch?v=7B-nvXUJGQs&amp;list=PLXO45tsB95cIuXEgV-mvYWRd_hVC43Akk&amp;index=3&amp;t=0s', '/watch?v=KLq0W1wUVmw&amp;list=PLXO45tsB95cIuXEgV-mvYWRd_hVC43Akk&amp;index=4&amp;t=0s', '/watch?v=SiIwSAIC458&amp;list=PLXO45tsB95cIuXEgV-mvYWRd_hVC43Akk&amp;index=5&amp;t=0s', '/watch?v=OfmmsxVSP0o&amp;list=PLXO45tsB95cIuXEgV-mvYWRd_hVC43Akk&amp;index=6&amp;t=0s', '/watch?v=dSypElTfcFM&amp;list=PLXO45tsB95cIuXEgV-mvYWRd_hVC43Akk&amp;index=7&amp;t=0s', '/watch?v=L6ewlStcEzI&amp;list=PLXO45tsB95cIuXEgV-mvYWRd_hVC43Akk&amp;index=8&amp;t=0s', '/watch?v=ScT0FJdHc5o&amp;list=PLXO45tsB95cIuXEgV-mvYWRd_hVC43Akk&amp;index=9&amp;t=0s', '/watch?v=rwI7bFXdOsk&amp;list=PLXO45tsB95cIuXEgV-mvYWRd_hVC43Akk&amp;index=10&amp;t=0s', '/watch?v=QRJdEdgpTos&amp;list=PLXO45tsB95cIuXEgV-mvYWRd_hVC43Akk&amp;index=11&amp;t=0s', '/watch?v=Wa2K7sB7BZE&amp;list=PLXO45tsB95cIuXEgV-mvYWRd_hVC43Akk&amp;index=12&amp;t=0s', '/watch?v=roTwhVIHkAo&amp;list=PLXO45tsB95cIuXEgV-mvYWRd_hVC43Akk&amp;index=13&amp;t=0s', '/watch?v=0Uug1fDa8nw&amp;list=PLXO45tsB95cIuXEgV-mvYWRd_hVC43Akk&amp;index=14&amp;t=0s']\n"
     ]
    }
   ],
   "source": [
    "videourlList = []\n",
    "\n",
    "for temurl in res1:\n",
    "    if 'list=' and 'index=' in temurl:  #網址必須包含 list= 及 index= 才是正確的影片網址\n",
    "        if temurl not in videourlList:  #過濾重覆的網址，如果串列中不存在該網址才加入串列\n",
    "            videourlList.append(temurl)\n",
    "print(videourlList)"
   ]
  },
  {
   "cell_type": "code",
   "execution_count": null,
   "metadata": {},
   "outputs": [],
   "source": []
  }
 ],
 "metadata": {
  "kernelspec": {
   "display_name": "Python 3",
   "language": "python",
   "name": "python3"
  },
  "language_info": {
   "codemirror_mode": {
    "name": "ipython",
    "version": 3
   },
   "file_extension": ".py",
   "mimetype": "text/x-python",
   "name": "python",
   "nbconvert_exporter": "python",
   "pygments_lexer": "ipython3",
   "version": "3.7.3"
  }
 },
 "nbformat": 4,
 "nbformat_minor": 2
}
