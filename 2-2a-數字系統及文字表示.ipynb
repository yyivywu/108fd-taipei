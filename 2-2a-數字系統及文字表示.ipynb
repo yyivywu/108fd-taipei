{
 "cells": [
  {
   "cell_type": "markdown",
   "metadata": {},
   "source": [
    "# Python 各種進制的轉換\n",
    "\n",
    "使用內建函式：bin()、oct()、int()、hex()可實現各種進制的轉換\n",
    "\n",
    "bin()、oct()、hex()的返回值均為字串，且分別帶有0b、0o、0x字首"
   ]
  },
  {
   "cell_type": "code",
   "execution_count": 5,
   "metadata": {},
   "outputs": [
    {
     "name": "stdout",
     "output_type": "stream",
     "text": [
      "9\n",
      "513\n",
      "4097\n"
     ]
    }
   ],
   "source": [
    "# 其他進制轉換為十進制\n",
    "\n",
    "print(int('1001', 2))\n",
    "print(int('1001', 8))\n",
    "print(int('1001', 16))"
   ]
  },
  {
   "cell_type": "code",
   "execution_count": 9,
   "metadata": {},
   "outputs": [
    {
     "name": "stdout",
     "output_type": "stream",
     "text": [
      "0b111101100\n",
      "0x1ec\n",
      "0o4425\n"
     ]
    }
   ],
   "source": [
    "# 十進制轉換為其他進制\n",
    "\n",
    "print(bin(int('754', 8)))\n",
    "print(hex(int('754', 8)))\n",
    "print(oct(int('100100010101', 2)))"
   ]
  },
  {
   "cell_type": "code",
   "execution_count": 4,
   "metadata": {},
   "outputs": [
    {
     "name": "stdout",
     "output_type": "stream",
     "text": [
      "4097\n"
     ]
    }
   ],
   "source": [
    "# 其他進制互轉\n",
    "\n",
    "print(oct(int('513', 10)))"
   ]
  },
  {
   "cell_type": "markdown",
   "metadata": {},
   "source": [
    "# 文字表示法\n",
    "\n",
    "## 在 Python3 中所有字串都使用 Unicode 編碼\n",
    "\n",
    "b 開頭表示後續為二進位表示法，十六進制前面要加 \\x\n",
    "\n",
    "Big5常用字查詢 [A440~C67E]、[全字庫Big5中文字查詢](https://www.cns11643.gov.tw/search.jsp?ID=6)\n",
    "\n",
    "[GB2312 簡體中文編碼表](http://tools.jb51.net/table/gb2312)\n",
    "\n",
    "decode: 將編碼轉換為字串；encode: 將字串轉為編碼"
   ]
  },
  {
   "cell_type": "code",
   "execution_count": 38,
   "metadata": {},
   "outputs": [
    {
     "name": "stdout",
     "output_type": "stream",
     "text": [
      "乾\n",
      "爱\n"
     ]
    }
   ],
   "source": [
    "# 輸出 big5 & GB 編碼中文字\n",
    "\n",
    "print(b'\\xB0\\xAE'.decode(\"big5\"))\n",
    "print(b'\\xB0\\xAE'.decode(\"gb2312\"))  "
   ]
  },
  {
   "cell_type": "code",
   "execution_count": 41,
   "metadata": {},
   "outputs": [
    {
     "name": "stdout",
     "output_type": "stream",
     "text": [
      "你好\n",
      "斕疑\n"
     ]
    }
   ],
   "source": [
    "print(b'\\xC4\\xE3\\xBA\\xC3'.decode(\"GBK\"))   # gb2312 = GBK\n",
    "print(b'\\xC4\\xE3\\xBA\\xC3'.decode(\"big5\"))"
   ]
  },
  {
   "cell_type": "code",
   "execution_count": 42,
   "metadata": {},
   "outputs": [
    {
     "data": {
      "text/plain": [
       "b'\\xe4\\xbd\\xa0\\xe5\\xa5\\xbd'"
      ]
     },
     "execution_count": 42,
     "metadata": {},
     "output_type": "execute_result"
    }
   ],
   "source": [
    "# 查詢文字編碼\n",
    "\n",
    "'你好'.encode(\"utf8\")"
   ]
  },
  {
   "cell_type": "code",
   "execution_count": null,
   "metadata": {},
   "outputs": [],
   "source": []
  }
 ],
 "metadata": {
  "kernelspec": {
   "display_name": "Python 3",
   "language": "python",
   "name": "python3"
  },
  "language_info": {
   "codemirror_mode": {
    "name": "ipython",
    "version": 3
   },
   "file_extension": ".py",
   "mimetype": "text/x-python",
   "name": "python",
   "nbconvert_exporter": "python",
   "pygments_lexer": "ipython3",
   "version": "3.7.3"
  }
 },
 "nbformat": 4,
 "nbformat_minor": 2
}
