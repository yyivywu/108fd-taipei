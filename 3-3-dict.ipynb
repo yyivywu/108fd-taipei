{
 "cells": [
  {
   "cell_type": "markdown",
   "metadata": {},
   "source": [
    "# Tuple、List、Dict、Set\n",
    "\n",
    "* tuple: 使用 ()，用於依序儲存資料，儲存內容不能更改，為不可變物件\n",
    "* list(串列): 使用 []，用於依序儲存資料，儲存內容可以更改\n",
    "* dict(字典): 使用 {}，儲存資料沒有順序性，以 {鍵(key):值(value)} 表示一個元素\n",
    "* set(集合): 使用 set() 或 {}，儲存資料沒有順序性"
   ]
  },
  {
   "cell_type": "markdown",
   "metadata": {},
   "source": [
    "## Dictionary (字典)\n",
    "### 語法\n",
    "    字典名稱 = {鍵1:值1, 鍵2:值2, ……}\n",
    "\n",
    "### 取值\n",
    "    字典名稱[鍵]\n",
    "    \n",
    "使用「鍵」可以搜尋對應的「值」，字典可以新增、刪除、更新與合併兩個字典"
   ]
  },
  {
   "cell_type": "code",
   "execution_count": 1,
   "metadata": {},
   "outputs": [
    {
     "name": "stdout",
     "output_type": "stream",
     "text": [
      "{'早安': 'Good Morning', '你好': 'Hello'}\n"
     ]
    }
   ],
   "source": [
    "lang = {\"早安\":\"Good Morning\",\"你好\":\"Hello\"}\n",
    "print(lang)"
   ]
  },
  {
   "cell_type": "code",
   "execution_count": 11,
   "metadata": {},
   "outputs": [
    {
     "name": "stdout",
     "output_type": "stream",
     "text": [
      "你好的英文為:  Hello\n"
     ]
    }
   ],
   "source": [
    "lang = {\n",
    "    \"早安\":\"Good Morning\",\n",
    "    \"你好\":\"Hello\",\n",
    "    \"再見\":\"Goodbye\"\n",
    "}\n",
    "print(\"你好的英文為: \", lang[\"你好\"])"
   ]
  },
  {
   "cell_type": "code",
   "execution_count": 3,
   "metadata": {},
   "outputs": [
    {
     "ename": "KeyError",
     "evalue": "'午安'",
     "output_type": "error",
     "traceback": [
      "\u001b[1;31m---------------------------------------------------------------------------\u001b[0m",
      "\u001b[1;31mKeyError\u001b[0m                                  Traceback (most recent call last)",
      "\u001b[1;32m<ipython-input-3-c83277eaa659>\u001b[0m in \u001b[0;36m<module>\u001b[1;34m\u001b[0m\n\u001b[1;32m----> 1\u001b[1;33m \u001b[0mprint\u001b[0m\u001b[1;33m(\u001b[0m\u001b[0mlang\u001b[0m\u001b[1;33m[\u001b[0m\u001b[1;34m\"午安\"\u001b[0m\u001b[1;33m]\u001b[0m\u001b[1;33m)\u001b[0m  \u001b[1;31m# 鍵值不存在,會出現錯誤訊息\u001b[0m\u001b[1;33m\u001b[0m\u001b[1;33m\u001b[0m\u001b[0m\n\u001b[0m",
      "\u001b[1;31mKeyError\u001b[0m: '午安'"
     ]
    }
   ],
   "source": [
    "print(lang[\"午安\"])  # 鍵值不存在,會出現錯誤訊息"
   ]
  },
  {
   "cell_type": "code",
   "execution_count": 9,
   "metadata": {},
   "outputs": [
    {
     "name": "stdout",
     "output_type": "stream",
     "text": [
      "早安的英文為:  Good Morning\n",
      "早安的英文為:  None\n",
      "午安的英文為:  不在字典裡\n"
     ]
    }
   ],
   "source": [
    "# 使用 get 函式取值，及處理「鍵」不存在的狀況\n",
    "\n",
    "print(\"早安的英文為: \", lang.get(\"早安\"))\n",
    "print(\"早安的英文為: \", lang.get(\"午安\"))\n",
    "print(\"午安的英文為: \", lang.get(\"午安\", \"不在字典裡\"))"
   ]
  },
  {
   "cell_type": "code",
   "execution_count": 12,
   "metadata": {},
   "outputs": [
    {
     "name": "stdout",
     "output_type": "stream",
     "text": [
      "{'早安': 'Good Morning', '你好': 'Hi', '再見': 'Goodbye'}\n"
     ]
    }
   ],
   "source": [
    "lang[\"你好\"] = \"Hi\"  # 更改字典鍵 你好 的值\n",
    "print(lang)"
   ]
  },
  {
   "cell_type": "code",
   "execution_count": 13,
   "metadata": {},
   "outputs": [
    {
     "name": "stdout",
     "output_type": "stream",
     "text": [
      "{'早安': 'Good Morning', '你好': 'Hi', '再見': 'Goodbye', '學生': 'Student'}\n"
     ]
    }
   ],
   "source": [
    "lang[\"學生\"] = \"Student\"  # 鍵值不存在，則新增\n",
    "print(lang)"
   ]
  },
  {
   "cell_type": "code",
   "execution_count": 11,
   "metadata": {},
   "outputs": [
    {
     "name": "stdout",
     "output_type": "stream",
     "text": [
      "{'早安': 'Good Morning', '再見': 'Goodbye', '學生': 'Student'}\n"
     ]
    }
   ],
   "source": [
    "del lang[\"你好\"]  # 刪除指定鍵值\n",
    "print(lang)"
   ]
  },
  {
   "cell_type": "code",
   "execution_count": 12,
   "metadata": {},
   "outputs": [
    {
     "name": "stdout",
     "output_type": "stream",
     "text": [
      "{}\n"
     ]
    }
   ],
   "source": [
    "lang.clear()  # 清空整個字典\n",
    "print(lang)"
   ]
  },
  {
   "cell_type": "code",
   "execution_count": 14,
   "metadata": {},
   "outputs": [
    {
     "data": {
      "text/plain": [
       "{'早安': 'Good Morning', '你好': 'Hi', '學生': 'Student'}"
      ]
     },
     "execution_count": 14,
     "metadata": {},
     "output_type": "execute_result"
    }
   ],
   "source": [
    "# 使用 update 合併 2 個字典\n",
    "\n",
    "lang1 = {\"早安\":\"Good Morning\", \"你好\":\"Hello\"}\n",
    "lang2 = {\"學生\":\"Student\", \"你好\":\"Hi\"}  #重覆鍵，使用後者取代前者\n",
    "lang3 = { \"你好\":\"Hi\"}\n",
    "\n",
    "lang1.update(lang2)\n",
    "lang1"
   ]
  },
  {
   "cell_type": "markdown",
   "metadata": {},
   "source": [
    "# 英翻中字典"
   ]
  },
  {
   "cell_type": "code",
   "execution_count": 15,
   "metadata": {},
   "outputs": [
    {
     "name": "stdout",
     "output_type": "stream",
     "text": [
      "{'dog': '狗', 'cat': '貓', 'pig': '豬', 'fish': '魚'}\n",
      "dict_keys(['dog', 'cat', 'pig', 'fish'])\n",
      "dict_values(['狗', '貓', '豬', '魚'])\n"
     ]
    }
   ],
   "source": [
    "dict1 = {'dog':'狗', 'cat':'貓', 'pig':'豬', 'fish':'魚'}\n",
    "print(dict1)\n",
    "print(dict1.keys())\n",
    "print(dict1.values())"
   ]
  },
  {
   "cell_type": "code",
   "execution_count": 17,
   "metadata": {},
   "outputs": [
    {
     "name": "stdout",
     "output_type": "stream",
     "text": [
      "請輸入一個英文單字：horse\n",
      "查無此單字\n"
     ]
    }
   ],
   "source": [
    "eng = input('請輸入一個英文單字：')\n",
    "print(dict1.get(eng, '查無此單字'))"
   ]
  },
  {
   "attachments": {},
   "cell_type": "markdown",
   "metadata": {},
   "source": [
    "# 製作電子郵件通訊錄"
   ]
  },
  {
   "cell_type": "code",
   "execution_count": 22,
   "metadata": {},
   "outputs": [
    {
     "name": "stdout",
     "output_type": "stream",
     "text": [
      "請輸入姓名:John\n",
      "請輸入電子郵件:a@gmail.com\n",
      "請輸入姓名:Helen\n",
      "請輸入電子郵件:b@gmail.com\n",
      "請輸入姓名:Tim\n",
      "請輸入電子郵件:a23@yahoo.com.tw\n",
      "{'John': 'a@gmail.com', 'Helen': 'b@gmail.com', 'Tim': 'a23@yahoo.com.tw'}\n"
     ]
    }
   ],
   "source": [
    "addr = {}\n",
    "name = input('請輸入姓名:')\n",
    "email = input('請輸入電子郵件:')\n",
    "addr[name]=email\n",
    "name = input('請輸入姓名:')\n",
    "email = input('請輸入電子郵件:')\n",
    "addr[name]=email\n",
    "name = input('請輸入姓名:')\n",
    "email = input('請輸入電子郵件:')\n",
    "addr[name]=email\n",
    "print(addr)"
   ]
  },
  {
   "cell_type": "code",
   "execution_count": 25,
   "metadata": {},
   "outputs": [
    {
     "name": "stdout",
     "output_type": "stream",
     "text": [
      "請輸入要查詢電子郵件的名字:John\n",
      "a@gmail.com\n"
     ]
    }
   ],
   "source": [
    "name=input('請輸入要查詢電子郵件的名字:')\n",
    "print(addr.get(name, '查無此電子郵件'))"
   ]
  },
  {
   "cell_type": "markdown",
   "metadata": {},
   "source": [
    "# 複雜的結構"
   ]
  },
  {
   "cell_type": "code",
   "execution_count": 19,
   "metadata": {},
   "outputs": [],
   "source": [
    "星期 = ['Sunday', 'Monday', 'Tuesday', 'Wednesday', 'Thursday', 'Friday', 'Saturday']\n",
    "月份 = ['Jan', 'Feb', 'Mar', 'Apr', 'May', 'Jun', 'Jul', 'Aug', 'Sep', 'Oct', 'Nov', 'Dec']\n",
    "\n",
    "dic = {'week':星期, 'month':月份}"
   ]
  },
  {
   "cell_type": "code",
   "execution_count": 20,
   "metadata": {},
   "outputs": [
    {
     "name": "stdout",
     "output_type": "stream",
     "text": [
      "['Jan', 'Feb', 'Mar', 'Apr', 'May', 'Jun', 'Jul', 'Aug', 'Sep', 'Oct', 'Nov', 'Dec']\n",
      "Aug\n",
      "Tuesday\n"
     ]
    }
   ],
   "source": [
    "print(dic['month'])\n",
    "print(dic['month'][7])\n",
    "print(dic['week'][2])"
   ]
  },
  {
   "cell_type": "code",
   "execution_count": null,
   "metadata": {},
   "outputs": [],
   "source": []
  }
 ],
 "metadata": {
  "kernelspec": {
   "display_name": "Python 3",
   "language": "python",
   "name": "python3"
  },
  "language_info": {
   "codemirror_mode": {
    "name": "ipython",
    "version": 3
   },
   "file_extension": ".py",
   "mimetype": "text/x-python",
   "name": "python",
   "nbconvert_exporter": "python",
   "pygments_lexer": "ipython3",
   "version": "3.7.3"
  }
 },
 "nbformat": 4,
 "nbformat_minor": 2
}
