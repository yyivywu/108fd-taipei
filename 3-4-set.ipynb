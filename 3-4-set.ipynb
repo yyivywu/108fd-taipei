{
 "cells": [
  {
   "cell_type": "markdown",
   "metadata": {},
   "source": [
    "# Tuple、List、Dict、Set\n",
    "\n",
    "* tuple: 使用 ()，用於依序儲存資料，儲存內容不能更改，為不可變物件\n",
    "* list(串列): 使用 []，用於依序儲存資料，儲存內容可以更改\n",
    "* dict(字典): 使用 {}，儲存資料沒有順序性，以 {鍵(key):值(value)} 表示一個元素\n",
    "* set(集合): 使用 set() 或 {}，儲存資料沒有順序性"
   ]
  },
  {
   "cell_type": "markdown",
   "metadata": {},
   "source": [
    "## Set (集合)\n",
    "### 語法\n",
    "    集合名稱 = {元素1, 元素2, ……}\n",
    "    \n",
    "    集合名稱 = set(參數)。參數可以是字串、tuple、list、dict...\n",
    "  \n",
    "集合會自動刪除重複元素"
   ]
  },
  {
   "cell_type": "code",
   "execution_count": 5,
   "metadata": {},
   "outputs": [
    {
     "name": "stdout",
     "output_type": "stream",
     "text": [
      "{1, 2, 3, 4}\n",
      "{'b', 'a', 2, 1}\n"
     ]
    }
   ],
   "source": [
    "set1 = {1, 2, 3, 4, 3}\n",
    "set2 = {'a', 1, 'b', 2}\n",
    "print(set1)\n",
    "print(set2)"
   ]
  },
  {
   "cell_type": "code",
   "execution_count": 7,
   "metadata": {},
   "outputs": [
    {
     "name": "stdout",
     "output_type": "stream",
     "text": [
      "{'Amy', 'Helen', 'John'}\n",
      "{'l', 'a', 'e', 'p'}\n"
     ]
    }
   ],
   "source": [
    "set3 = set(['John', 'Amy', 'Helen', 'Amy'])\n",
    "print(set3)\n",
    "set4 = set('apple')\n",
    "print(set4)"
   ]
  },
  {
   "cell_type": "code",
   "execution_count": 8,
   "metadata": {},
   "outputs": [
    {
     "name": "stdout",
     "output_type": "stream",
     "text": [
      "{'r', 't', 'e', 'g', 'i'}\n",
      "{'r', 't', 'e', 'g', 'i', 'z'}\n",
      "{'r', 'e', 'g', 'i', 'z'}\n"
     ]
    }
   ],
   "source": [
    "# 函式 add 新增元素；remove 刪除元素\n",
    "\n",
    "s = set('tiger')\n",
    "print(s)\n",
    "s.add('z')\n",
    "print(s)\n",
    "s.remove('t')\n",
    "print(s)"
   ]
  },
  {
   "cell_type": "code",
   "execution_count": 11,
   "metadata": {},
   "outputs": [
    {
     "name": "stdout",
     "output_type": "stream",
     "text": [
      "{'r', 't', 'e', 'g', 'i'}\n",
      "{'b', 'a', 'e', 'r'}\n"
     ]
    }
   ],
   "source": [
    "# 可以將任意兩個集合進行聯集(|)、交集(&)、差集(-)，或互斥(^)運算\n",
    "\n",
    "a = set('tiger')\n",
    "b = set('bear')\n",
    "print(a)\n",
    "print(b)"
   ]
  },
  {
   "cell_type": "code",
   "execution_count": 12,
   "metadata": {},
   "outputs": [
    {
     "name": "stdout",
     "output_type": "stream",
     "text": [
      "聯集: {'r', 'b', 't', 'e', 'g', 'a', 'i'}\n",
      "交集: {'e', 'r'}\n",
      "差集: {'t', 'g', 'i'}\n",
      "互斥: {'b', 'a', 't', 'g', 'i'}\n"
     ]
    }
   ],
   "source": [
    "print('聯集:', a | b)\n",
    "print('交集:', a & b)\n",
    "print('差集:', a - b)\n",
    "print('互斥:', a ^ b)"
   ]
  },
  {
   "cell_type": "code",
   "execution_count": 15,
   "metadata": {},
   "outputs": [],
   "source": [
    "# 可以將任意兩個集合進行比較\n",
    "\n",
    "c = set('tiger')\n",
    "d = set('tigers')"
   ]
  },
  {
   "cell_type": "code",
   "execution_count": 16,
   "metadata": {},
   "outputs": [
    {
     "name": "stdout",
     "output_type": "stream",
     "text": [
      "子集合 <= True\n",
      "真子集合 < True\n",
      "超集合 >= False\n",
      "真超集合 > False\n"
     ]
    }
   ],
   "source": [
    "print('子集合 <=', c<=d)\n",
    "print('真子集合 <', c<d)\n",
    "print('超集合 >=', c>=d)\n",
    "print('真超集合 >', c>d)"
   ]
  },
  {
   "attachments": {},
   "cell_type": "markdown",
   "metadata": {},
   "source": [
    "# 找出一首詩的所有字"
   ]
  },
  {
   "cell_type": "code",
   "execution_count": 17,
   "metadata": {},
   "outputs": [
    {
     "name": "stdout",
     "output_type": "stream",
     "text": [
      "{'曉', '春', '少', '花', '落', '聲', '風', '聞', '夜', '處', '多', '覺', '啼', '鳥', '不', '來', '眠', '知', '雨'}\n"
     ]
    }
   ],
   "source": [
    "poem = '春眠不覺曉，處處聞啼鳥。夜來風雨聲，花落知多少。'\n",
    "words = set(poem)\n",
    "words.remove('，')\n",
    "words.remove('。')\n",
    "print(words)"
   ]
  },
  {
   "cell_type": "code",
   "execution_count": null,
   "metadata": {},
   "outputs": [],
   "source": []
  }
 ],
 "metadata": {
  "kernelspec": {
   "display_name": "Python 3",
   "language": "python",
   "name": "python3"
  },
  "language_info": {
   "codemirror_mode": {
    "name": "ipython",
    "version": 3
   },
   "file_extension": ".py",
   "mimetype": "text/x-python",
   "name": "python",
   "nbconvert_exporter": "python",
   "pygments_lexer": "ipython3",
   "version": "3.7.3"
  }
 },
 "nbformat": 4,
 "nbformat_minor": 2
}
