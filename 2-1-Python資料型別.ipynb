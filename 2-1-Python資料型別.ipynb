{
 "cells": [
  {
   "cell_type": "markdown",
   "metadata": {},
   "source": [
    "# Python 資料型別\n",
    "\n",
    "* Python 的基本資料型別可以分四種：布林值(bool)、整數(int)、浮點數(float)、字串(str)\n",
    "* 查看資料型態 type()\n",
    "* 資料型態轉換 int()、float()、str()"
   ]
  },
  {
   "cell_type": "code",
   "execution_count": 1,
   "metadata": {},
   "outputs": [
    {
     "name": "stdout",
     "output_type": "stream",
     "text": [
      "True\n",
      "False\n",
      "False\n"
     ]
    }
   ],
   "source": [
    "# 布林值\n",
    "\n",
    "print(bool(1))\n",
    "print(bool(0))\n",
    "print(bool())"
   ]
  },
  {
   "cell_type": "code",
   "execution_count": 2,
   "metadata": {},
   "outputs": [
    {
     "name": "stdout",
     "output_type": "stream",
     "text": [
      "100\n",
      "3\n"
     ]
    }
   ],
   "source": [
    "# 整數 - 沒有數值範圍限制\n",
    "\n",
    "print(int(100))\n",
    "print(int(3.14))"
   ]
  },
  {
   "cell_type": "code",
   "execution_count": 3,
   "metadata": {},
   "outputs": [
    {
     "name": "stdout",
     "output_type": "stream",
     "text": [
      "102000045000000009\n"
     ]
    }
   ],
   "source": [
    "x=102000045000000008\n",
    "x = x + 1\n",
    "print (int(x))"
   ]
  },
  {
   "cell_type": "code",
   "execution_count": 4,
   "metadata": {},
   "outputs": [
    {
     "name": "stdout",
     "output_type": "stream",
     "text": [
      "1.0\n",
      "3.14\n"
     ]
    }
   ],
   "source": [
    "# 浮點數\n",
    "\n",
    "print(float(1))\n",
    "print(float(3.14))"
   ]
  },
  {
   "cell_type": "code",
   "execution_count": 5,
   "metadata": {},
   "outputs": [
    {
     "name": "stdout",
     "output_type": "stream",
     "text": [
      "Hello World!\n"
     ]
    }
   ],
   "source": [
    "# 字串\n",
    "\n",
    "s='Hello World!'\n",
    "print(s)"
   ]
  },
  {
   "cell_type": "code",
   "execution_count": 6,
   "metadata": {},
   "outputs": [
    {
     "ename": "TypeError",
     "evalue": "'str' object does not support item assignment",
     "output_type": "error",
     "traceback": [
      "\u001b[1;31m---------------------------------------------------------------------------\u001b[0m",
      "\u001b[1;31mTypeError\u001b[0m                                 Traceback (most recent call last)",
      "\u001b[1;32m<ipython-input-6-d588ff51caa6>\u001b[0m in \u001b[0;36m<module>\u001b[1;34m\u001b[0m\n\u001b[0;32m      1\u001b[0m \u001b[1;31m# 字串是不可變的，不能改其值\u001b[0m\u001b[1;33m\u001b[0m\u001b[1;33m\u001b[0m\u001b[1;33m\u001b[0m\u001b[0m\n\u001b[0;32m      2\u001b[0m \u001b[1;33m\u001b[0m\u001b[0m\n\u001b[1;32m----> 3\u001b[1;33m \u001b[0ms\u001b[0m\u001b[1;33m[\u001b[0m\u001b[1;36m0\u001b[0m\u001b[1;33m]\u001b[0m\u001b[1;33m=\u001b[0m\u001b[1;34m'W'\u001b[0m\u001b[1;33m\u001b[0m\u001b[1;33m\u001b[0m\u001b[0m\n\u001b[0m",
      "\u001b[1;31mTypeError\u001b[0m: 'str' object does not support item assignment"
     ]
    }
   ],
   "source": [
    "# 字串是不可變的，不能改其值\n",
    "\n",
    "s[0]='W'"
   ]
  },
  {
   "cell_type": "code",
   "execution_count": 8,
   "metadata": {},
   "outputs": [
    {
     "name": "stdout",
     "output_type": "stream",
     "text": [
      "True <class 'bool'>\n",
      "102000045000000009 <class 'int'>\n",
      "3.14159 <class 'float'>\n",
      "Hello World! <class 'str'>\n"
     ]
    }
   ],
   "source": [
    "# 例用 type 函式印出物件型別\n",
    "\n",
    "b = True\n",
    "print(b, type(b))\n",
    "print(x, type(x))\n",
    "pi = 3.14159\n",
    "print(pi, type(pi))\n",
    "print(s, type(s))"
   ]
  },
  {
   "cell_type": "code",
   "execution_count": 9,
   "metadata": {},
   "outputs": [
    {
     "name": "stdout",
     "output_type": "stream",
     "text": [
      "請問您的姓名：Ivy Wu\n",
      "請問您的年紀：30\n",
      "請問您的體重：45.6\n",
      "Ivy Wu 您好！您目前 30 歲, 體重 45.6 公斤\n"
     ]
    }
   ],
   "source": [
    "# 1-4 基本資料調查程式\n",
    "\n",
    "name = input('請問您的姓名：')\n",
    "age = int(input('請問您的年紀：'))\n",
    "weight = float(input('請問您的體重：'))\n",
    "print(name, '您好！您目前', age, '歲, 體重', weight, '公斤')"
   ]
  },
  {
   "cell_type": "code",
   "execution_count": null,
   "metadata": {},
   "outputs": [],
   "source": []
  }
 ],
 "metadata": {
  "kernelspec": {
   "display_name": "Python 3",
   "language": "python",
   "name": "python3"
  },
  "language_info": {
   "codemirror_mode": {
    "name": "ipython",
    "version": 3
   },
   "file_extension": ".py",
   "mimetype": "text/x-python",
   "name": "python",
   "nbconvert_exporter": "python",
   "pygments_lexer": "ipython3",
   "version": "3.7.3"
  }
 },
 "nbformat": 4,
 "nbformat_minor": 2
}
