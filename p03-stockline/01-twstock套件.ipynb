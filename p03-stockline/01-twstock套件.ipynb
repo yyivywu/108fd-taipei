{
 "cells": [
  {
   "cell_type": "markdown",
   "metadata": {},
   "source": [
    "# 台灣股市資訊套件 twstock\n",
    "\n",
    "安裝：pip install twstock (Anaconda 未安裝)"
   ]
  },
  {
   "cell_type": "code",
   "execution_count": 1,
   "metadata": {},
   "outputs": [],
   "source": [
    "import twstock"
   ]
  },
  {
   "cell_type": "code",
   "execution_count": 2,
   "metadata": {},
   "outputs": [],
   "source": [
    "# 第一次使用需更新 TPEX/TWSE Codes\n",
    "#twstock.__update_codes()"
   ]
  },
  {
   "cell_type": "markdown",
   "metadata": {},
   "source": [
    "## 查詢歷史股價\n",
    "\n",
    "    歷史股票資料變數 = twstock.Stock('股票代號')\n",
    "\n",
    "方法：\n",
    "* price: 傳回最近 31 筆收盤價資料\n",
    "* high：傳回最近 31 筆盤中最高價資料\n",
    "* low：傳回最近 31 筆盤中最低價資料\n",
    "* date：傳回最近 31 筆日期資料\n",
    "* fetch(西元年, 月)：傳回參數指定月份資料\n",
    "* fetch_from(西元年, 月)：傳回參數指定月份到現在的資料"
   ]
  },
  {
   "cell_type": "code",
   "execution_count": 3,
   "metadata": {},
   "outputs": [],
   "source": [
    "stock = twstock.Stock('2317')"
   ]
  },
  {
   "cell_type": "code",
   "execution_count": 14,
   "metadata": {},
   "outputs": [],
   "source": [
    "list1 = stock.data"
   ]
  },
  {
   "cell_type": "code",
   "execution_count": 20,
   "metadata": {},
   "outputs": [
    {
     "name": "stdout",
     "output_type": "stream",
     "text": [
      "2019-09-02 00:00:00 19418490 1437551600\n"
     ]
    }
   ],
   "source": [
    "print(list1[0][0], list1[0][1], list1[0][2])"
   ]
  },
  {
   "cell_type": "code",
   "execution_count": 8,
   "metadata": {},
   "outputs": [
    {
     "data": {
      "text/plain": [
       "[77.6, 79.5, 80.5, 80.5, 80.2]"
      ]
     },
     "execution_count": 8,
     "metadata": {},
     "output_type": "execute_result"
    }
   ],
   "source": [
    "#stock.date\n",
    "#stock.price\n",
    "stock.price[-5:]"
   ]
  },
  {
   "cell_type": "code",
   "execution_count": null,
   "metadata": {},
   "outputs": [],
   "source": [
    "stock.fetch_31()"
   ]
  },
  {
   "cell_type": "code",
   "execution_count": 12,
   "metadata": {},
   "outputs": [
    {
     "data": {
      "text/plain": [
       "[Data(date=datetime.datetime(2019, 9, 2, 0, 0), capacity=19418490, turnover=1437551600, open=74.4, high=74.4, low=73.8, close=74.0, change=-0.2, transaction=9706),\n",
       " Data(date=datetime.datetime(2019, 9, 3, 0, 0), capacity=14880467, turnover=1099921236, open=74.2, high=74.3, low=73.6, close=73.6, change=-0.4, transaction=6761),\n",
       " Data(date=datetime.datetime(2019, 9, 4, 0, 0), capacity=31103326, turnover=2302854103, open=73.9, high=74.5, low=73.7, close=74.3, change=0.7, transaction=9126),\n",
       " Data(date=datetime.datetime(2019, 9, 5, 0, 0), capacity=26853451, turnover=2009112468, open=74.8, high=75.3, low=74.4, close=74.9, change=0.6, transaction=11720),\n",
       " Data(date=datetime.datetime(2019, 9, 6, 0, 0), capacity=29362446, turnover=2213894500, open=75.5, high=75.9, low=75.0, close=75.0, change=0.1, transaction=14340),\n",
       " Data(date=datetime.datetime(2019, 9, 9, 0, 0), capacity=20213537, turnover=1515871410, open=75.5, high=75.7, low=74.6, close=74.7, change=-0.3, transaction=9867),\n",
       " Data(date=datetime.datetime(2019, 9, 10, 0, 0), capacity=24330390, turnover=1802563745, open=74.8, high=74.8, low=73.8, close=74.1, change=-0.6, transaction=11187),\n",
       " Data(date=datetime.datetime(2019, 9, 11, 0, 0), capacity=35738526, turnover=2665190390, open=74.5, high=75.3, low=74.2, close=74.5, change=0.4, transaction=14229),\n",
       " Data(date=datetime.datetime(2019, 9, 12, 0, 0), capacity=61561226, turnover=4648457642, open=75.0, high=76.0, low=74.6, close=76.0, change=1.5, transaction=26748),\n",
       " Data(date=datetime.datetime(2019, 9, 16, 0, 0), capacity=42605700, turnover=3226860951, open=76.3, high=76.4, low=75.0, close=76.0, change=0.0, transaction=15028),\n",
       " Data(date=datetime.datetime(2019, 9, 17, 0, 0), capacity=43926799, turnover=3284313874, open=74.9, high=75.5, low=74.5, close=74.6, change=-1.4, transaction=19504),\n",
       " Data(date=datetime.datetime(2019, 9, 18, 0, 0), capacity=33122317, turnover=2466647011, open=74.7, high=74.9, low=74.1, close=74.4, change=-0.2, transaction=13550),\n",
       " Data(date=datetime.datetime(2019, 9, 19, 0, 0), capacity=31821479, turnover=2354960866, open=74.6, high=74.8, low=73.5, close=73.5, change=-0.9, transaction=13983),\n",
       " Data(date=datetime.datetime(2019, 9, 20, 0, 0), capacity=33927500, turnover=2521042744, open=73.8, high=74.5, low=73.8, close=74.5, change=1.0, transaction=8653),\n",
       " Data(date=datetime.datetime(2019, 9, 23, 0, 0), capacity=10657229, turnover=794333608, open=74.5, high=74.7, low=74.2, close=74.7, change=0.2, transaction=5397),\n",
       " Data(date=datetime.datetime(2019, 9, 24, 0, 0), capacity=19777743, turnover=1481741359, open=74.7, high=75.3, low=74.5, close=74.9, change=0.2, transaction=7930),\n",
       " Data(date=datetime.datetime(2019, 9, 25, 0, 0), capacity=18380995, turnover=1369148183, open=74.7, high=74.8, low=74.1, close=74.8, change=-0.1, transaction=7481),\n",
       " Data(date=datetime.datetime(2019, 9, 26, 0, 0), capacity=22665993, turnover=1683566362, open=75.0, high=75.0, low=74.0, close=74.0, change=-0.8, transaction=8846),\n",
       " Data(date=datetime.datetime(2019, 9, 27, 0, 0), capacity=25514894, turnover=1877490240, open=74.1, high=74.3, low=73.2, close=73.2, change=-0.8, transaction=11217)]"
      ]
     },
     "execution_count": 12,
     "metadata": {},
     "output_type": "execute_result"
    }
   ],
   "source": [
    "stock.fetch(2019,9)"
   ]
  },
  {
   "cell_type": "markdown",
   "metadata": {},
   "source": [
    "# 查詢即時股票資料\n",
    "\n",
    "    即時個股資料變數 = twstock.realtime.get('股票代號')"
   ]
  },
  {
   "cell_type": "code",
   "execution_count": 28,
   "metadata": {},
   "outputs": [],
   "source": [
    "real = twstock.realtime.get('2317')"
   ]
  },
  {
   "cell_type": "code",
   "execution_count": 10,
   "metadata": {},
   "outputs": [
    {
     "data": {
      "text/plain": [
       "{'timestamp': 1571985000.0,\n",
       " 'info': {'code': '2317',\n",
       "  'channel': '2317.tw',\n",
       "  'name': '鴻海',\n",
       "  'fullname': '鴻海精密工業股份有限公司',\n",
       "  'time': '2019-10-25 14:30:00'},\n",
       " 'realtime': {'latest_trade_price': '80.20',\n",
       "  'trade_volume': '2793',\n",
       "  'accumulate_trade_volume': '35061',\n",
       "  'best_bid_price': ['80.10', '80.00', '79.90', '79.80', '79.70'],\n",
       "  'best_bid_volume': ['13', '28', '128', '539', '723'],\n",
       "  'best_ask_price': ['80.20', '80.30', '80.40', '80.50', '80.60'],\n",
       "  'best_ask_volume': ['414', '632', '910', '2185', '544'],\n",
       "  'open': '80.70',\n",
       "  'high': '80.70',\n",
       "  'low': '79.60'},\n",
       " 'success': True}"
      ]
     },
     "execution_count": 10,
     "metadata": {},
     "output_type": "execute_result"
    }
   ],
   "source": [
    "real"
   ]
  },
  {
   "cell_type": "code",
   "execution_count": 24,
   "metadata": {},
   "outputs": [
    {
     "name": "stdout",
     "output_type": "stream",
     "text": [
      "{'timestamp': 1571985000.0, 'info': {'code': '2317', 'channel': '2317.tw', 'name': '鴻海', 'fullname': '鴻海精密工業股份有限公司', 'time': '2019-10-25 14:30:00'}, 'realtime': {'latest_trade_price': '80.20', 'trade_volume': '2793', 'accumulate_trade_volume': '35061', 'best_bid_price': ['80.10', '80.00', '79.90', '79.80', '79.70'], 'best_bid_volume': ['13', '28', '128', '539', '723'], 'best_ask_price': ['80.20', '80.30', '80.40', '80.50', '80.60'], 'best_ask_volume': ['414', '632', '910', '2185', '544'], 'open': '80.70', 'high': '80.70', 'low': '79.60'}, 'success': True}\n"
     ]
    }
   ],
   "source": [
    "# 判斷是否讀取成功\n",
    "\n",
    "if real['success']:\n",
    "    print(real)\n",
    "else:\n",
    "    print('股價資料讀取錯誤：', real['rtmessage'])"
   ]
  },
  {
   "cell_type": "code",
   "execution_count": 26,
   "metadata": {},
   "outputs": [
    {
     "name": "stdout",
     "output_type": "stream",
     "text": [
      "目前股價： 80.20\n"
     ]
    }
   ],
   "source": [
    "print('目前股價：', real['realtime']['latest_trade_price'])"
   ]
  },
  {
   "cell_type": "code",
   "execution_count": 30,
   "metadata": {},
   "outputs": [],
   "source": [
    "price = real['realtime']['latest_trade_price']"
   ]
  },
  {
   "cell_type": "code",
   "execution_count": 31,
   "metadata": {},
   "outputs": [
    {
     "data": {
      "text/plain": [
       "'80.20'"
      ]
     },
     "execution_count": 31,
     "metadata": {},
     "output_type": "execute_result"
    }
   ],
   "source": [
    "price"
   ]
  },
  {
   "cell_type": "code",
   "execution_count": 33,
   "metadata": {},
   "outputs": [
    {
     "name": "stdout",
     "output_type": "stream",
     "text": [
      "<class 'str'>\n"
     ]
    }
   ],
   "source": [
    "print(type(price))"
   ]
  },
  {
   "cell_type": "code",
   "execution_count": 11,
   "metadata": {},
   "outputs": [],
   "source": [
    "# 支援多個股票同時查詢\n",
    "stocks = twstock.realtime.get(['2330', '2337', '2409'])"
   ]
  },
  {
   "cell_type": "code",
   "execution_count": 14,
   "metadata": {},
   "outputs": [
    {
     "data": {
      "text/plain": [
       "True"
      ]
     },
     "execution_count": 14,
     "metadata": {},
     "output_type": "execute_result"
    }
   ],
   "source": [
    "stocks['2330']['success']"
   ]
  },
  {
   "cell_type": "code",
   "execution_count": 13,
   "metadata": {},
   "outputs": [
    {
     "data": {
      "text/plain": [
       "{'2330': {'timestamp': 1571985000.0,\n",
       "  'info': {'code': '2330',\n",
       "   'channel': '2330.tw',\n",
       "   'name': '台積電',\n",
       "   'fullname': '台灣積體電路製造股份有限公司',\n",
       "   'time': '2019-10-25 14:30:00'},\n",
       "  'realtime': {'latest_trade_price': '293.50',\n",
       "   'trade_volume': '2784',\n",
       "   'accumulate_trade_volume': '22620',\n",
       "   'best_bid_price': ['293.00', '292.50', '292.00', '291.50', '291.00'],\n",
       "   'best_bid_volume': ['651', '833', '1177', '1264', '2053'],\n",
       "   'best_ask_price': ['293.50', '294.00', '294.50', '295.00', '295.50'],\n",
       "   'best_ask_volume': ['112', '1378', '1180', '1871', '709'],\n",
       "   'open': '294.50',\n",
       "   'high': '294.50',\n",
       "   'low': '292.50'},\n",
       "  'success': True},\n",
       " '2337': {'timestamp': 1571985000.0,\n",
       "  'info': {'code': '2337',\n",
       "   'channel': '2337.tw',\n",
       "   'name': '旺宏',\n",
       "   'fullname': '旺宏電子股份有限公司',\n",
       "   'time': '2019-10-25 14:30:00'},\n",
       "  'realtime': {'latest_trade_price': '31.65',\n",
       "   'trade_volume': '9076',\n",
       "   'accumulate_trade_volume': '137342',\n",
       "   'best_bid_price': ['31.65', '31.60', '31.55', '31.50', '31.45'],\n",
       "   'best_bid_volume': ['731', '1621', '560', '1101', '336'],\n",
       "   'best_ask_price': ['31.70', '31.75', '31.80', '31.85', '31.90'],\n",
       "   'best_ask_volume': ['67', '39', '248', '68', '140'],\n",
       "   'open': '32.95',\n",
       "   'high': '33.40',\n",
       "   'low': '31.65'},\n",
       "  'success': True},\n",
       " '2409': {'timestamp': 1571985000.0,\n",
       "  'info': {'code': '2409',\n",
       "   'channel': '2409.tw',\n",
       "   'name': '友達',\n",
       "   'fullname': '友達光電股份有限公司',\n",
       "   'time': '2019-10-25 14:30:00'},\n",
       "  'realtime': {'latest_trade_price': '8.25',\n",
       "   'trade_volume': '2209',\n",
       "   'accumulate_trade_volume': '31455',\n",
       "   'best_bid_price': ['8.24', '8.23', '8.22', '8.21', '8.20'],\n",
       "   'best_bid_volume': ['127', '237', '193', '302', '514'],\n",
       "   'best_ask_price': ['8.25', '8.26', '8.27', '8.28', '8.29'],\n",
       "   'best_ask_volume': ['246', '331', '637', '1565', '497'],\n",
       "   'open': '8.18',\n",
       "   'high': '8.28',\n",
       "   'low': '8.10'},\n",
       "  'success': True},\n",
       " 'success': True}"
      ]
     },
     "execution_count": 13,
     "metadata": {},
     "output_type": "execute_result"
    }
   ],
   "source": [
    "stocks"
   ]
  },
  {
   "cell_type": "markdown",
   "metadata": {},
   "source": [
    "# 認識 Codes\n",
    "\n",
    "codes 提供了台灣股票代號之查詢，分別為 codes.tpex、codes.twse、codes.codes"
   ]
  },
  {
   "cell_type": "code",
   "execution_count": 16,
   "metadata": {},
   "outputs": [
    {
     "data": {
      "text/plain": [
       "True"
      ]
     },
     "execution_count": 16,
     "metadata": {},
     "output_type": "execute_result"
    }
   ],
   "source": [
    "#'2330' in twstock.twse    # 上市\n",
    "'6223' in twstock.tpex    # 上櫃"
   ]
  },
  {
   "cell_type": "markdown",
   "metadata": {},
   "source": [
    "# 基本股票資訊分析"
   ]
  },
  {
   "cell_type": "code",
   "execution_count": 6,
   "metadata": {},
   "outputs": [
    {
     "data": {
      "text/plain": [
       "[-0.35999999999999943,\n",
       " -0.3199999999999932,\n",
       " -0.3100000000000023,\n",
       " -0.1599999999999966,\n",
       " -0.14000000000000057,\n",
       " -0.21999999999999886,\n",
       " -0.5100000000000051,\n",
       " -0.8300000000000125,\n",
       " -1.009999999999991,\n",
       " -0.8599999999999994,\n",
       " -0.5100000000000051,\n",
       " -0.18999999999999773,\n",
       " 0.3400000000000034,\n",
       " 0.6700000000000017,\n",
       " 0.8100000000000023,\n",
       " 0.9899999999999949,\n",
       " 1.3299999999999983,\n",
       " 1.3900000000000006,\n",
       " 1.6700000000000017,\n",
       " 2.0600000000000023,\n",
       " 2.069999999999993,\n",
       " 2.0]"
      ]
     },
     "execution_count": 6,
     "metadata": {},
     "output_type": "execute_result"
    }
   ],
   "source": [
    "#stock.moving_average(stock.price, 5)  # 計算五日平均價格\n",
    "#stock.moving_average(stock.capacity, 5)  # 計算五日平均交易量\n",
    "stock.ma_bias_ratio(5, 10)  # 計算五日、十日乖離值"
   ]
  },
  {
   "cell_type": "markdown",
   "metadata": {},
   "source": [
    "# BestFourPoint\n",
    "\n",
    "BestFourPoint 四大買賣點判斷來自 toomore/grs 之中的一個功能， 透過四大買賣點來判斷是否要買賣股票。四個買賣點分別為：\n",
    "* 量大收紅 / 量大收黑\n",
    "* 量縮價不跌 / 量縮價跌\n",
    "* 三日均價由下往上 / 三日均價由上往下\n",
    "* 三日均價大於六日均價 / 三日均價小於六日均價"
   ]
  },
  {
   "cell_type": "code",
   "execution_count": 7,
   "metadata": {},
   "outputs": [],
   "source": [
    "bfp = twstock.BestFourPoint(stock)"
   ]
  },
  {
   "cell_type": "code",
   "execution_count": 8,
   "metadata": {},
   "outputs": [
    {
     "data": {
      "text/plain": [
       "'三日均價大於六日均價'"
      ]
     },
     "execution_count": 8,
     "metadata": {},
     "output_type": "execute_result"
    }
   ],
   "source": [
    "bfp.best_four_point_to_buy()   # 判斷是否為四大買點"
   ]
  },
  {
   "cell_type": "code",
   "execution_count": 9,
   "metadata": {},
   "outputs": [
    {
     "data": {
      "text/plain": [
       "'量縮價跌'"
      ]
     },
     "execution_count": 9,
     "metadata": {},
     "output_type": "execute_result"
    }
   ],
   "source": [
    "bfp.best_four_point_to_sell()  # 判斷是否為四大賣點"
   ]
  },
  {
   "cell_type": "code",
   "execution_count": 10,
   "metadata": {},
   "outputs": [
    {
     "data": {
      "text/plain": [
       "(True, '三日均價大於六日均價')"
      ]
     },
     "execution_count": 10,
     "metadata": {},
     "output_type": "execute_result"
    }
   ],
   "source": [
    "bfp.best_four_point()          # 綜合判斷"
   ]
  },
  {
   "cell_type": "code",
   "execution_count": null,
   "metadata": {},
   "outputs": [],
   "source": []
  }
 ],
 "metadata": {
  "kernelspec": {
   "display_name": "Python 3",
   "language": "python",
   "name": "python3"
  },
  "language_info": {
   "codemirror_mode": {
    "name": "ipython",
    "version": 3
   },
   "file_extension": ".py",
   "mimetype": "text/x-python",
   "name": "python",
   "nbconvert_exporter": "python",
   "pygments_lexer": "ipython3",
   "version": "3.7.3"
  }
 },
 "nbformat": 4,
 "nbformat_minor": 2
}
