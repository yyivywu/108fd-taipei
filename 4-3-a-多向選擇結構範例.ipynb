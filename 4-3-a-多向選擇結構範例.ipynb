{
 "cells": [
  {
   "cell_type": "markdown",
   "metadata": {},
   "source": [
    "# 郵資計算\n",
    "\n",
    "請寫一個程式協助郵局計算郵資：\n",
    "* x <= 5 公斤：50 元\n",
    "* x > 5 且 x <= 10：70 元\n",
    "* x > 10 且 x <= 15：90 元\n",
    "* x > 15 且 x <= 20：110 元\n",
    "* x > 20：超過 20 公斤無法寄送"
   ]
  },
  {
   "cell_type": "code",
   "execution_count": 3,
   "metadata": {},
   "outputs": [
    {
     "name": "stdout",
     "output_type": "stream",
     "text": [
      "請輸入郵件重量：16\n",
      "郵資為：110 元\n"
     ]
    }
   ],
   "source": [
    "w = float(input('請輸入郵件重量：'))\n",
    "\n",
    "if w <= 5:\n",
    "    print('郵資為：50 元')\n",
    "elif w <= 10:\n",
    "    print('郵資為：70 元')\n",
    "elif w <= 15:\n",
    "    print('郵資為：90 元')\n",
    "elif w <= 20:\n",
    "    print('郵資為：110 元')\n",
    "else:\n",
    "    print('超過 20 公斤無法寄送')"
   ]
  },
  {
   "cell_type": "markdown",
   "metadata": {},
   "source": [
    "# BMI 計算\n",
    "\n",
    "BMI = 體重(公斤) 除以 身高(公尺)的平方\n",
    "\n",
    "肥胖分級：\n",
    "* BMI < 18：體重過輕\n",
    "* 18 <= BMI < 24：體重正常\n",
    "* 24 <= BMI < 27：體重過重\n",
    "* 27 <= BMI：體重肥胖"
   ]
  },
  {
   "cell_type": "code",
   "execution_count": 8,
   "metadata": {},
   "outputs": [
    {
     "name": "stdout",
     "output_type": "stream",
     "text": [
      "請輸入體重(公斤)：75\n",
      "請輸入身高(公尺)：1.7\n",
      "BMI 為：25.95，體重過重\n"
     ]
    }
   ],
   "source": [
    "w = float(input(\"請輸入體重(公斤)：\"))\n",
    "h = float(input(\"請輸入身高(公尺)：\"))\n",
    "\n",
    "BMI = w / h ** 2\n",
    "\n",
    "if BMI < 18:\n",
    "    print('BMI 為：%4.2f，體重過輕' % BMI)\n",
    "elif BMI < 24:\n",
    "    print('BMI 為：%4.2f，體重正常' % BMI)\n",
    "elif BMI < 27:\n",
    "    print('BMI 為：%4.2f，體重過重' % BMI)\n",
    "else:\n",
    "    print('BMI 為：%4.2f，體重肥胖' % BMI)"
   ]
  },
  {
   "cell_type": "code",
   "execution_count": null,
   "metadata": {},
   "outputs": [],
   "source": []
  }
 ],
 "metadata": {
  "kernelspec": {
   "display_name": "Python 3",
   "language": "python",
   "name": "python3"
  },
  "language_info": {
   "codemirror_mode": {
    "name": "ipython",
    "version": 3
   },
   "file_extension": ".py",
   "mimetype": "text/x-python",
   "name": "python",
   "nbconvert_exporter": "python",
   "pygments_lexer": "ipython3",
   "version": "3.7.3"
  }
 },
 "nbformat": 4,
 "nbformat_minor": 2
}
