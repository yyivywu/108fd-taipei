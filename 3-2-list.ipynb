{
 "cells": [
  {
   "cell_type": "markdown",
   "metadata": {},
   "source": [
    "# Tuple、List、Dict、Set\n",
    "\n",
    "* tuple: 使用 ()，用於依序儲存資料，儲存內容不能更改，為不可變物件\n",
    "* list(串列): 使用 []，用於依序儲存資料，儲存內容可以更改\n",
    "* dict(字典): 使用 {}，儲存資料沒有順序性，以 {鍵(key):值(value)} 表示一個元素\n",
    "* set(集合): 使用 set() 或 {}，儲存資料沒有順序性"
   ]
  },
  {
   "cell_type": "markdown",
   "metadata": {},
   "source": [
    "## List (串列)\n",
    "### 語法\n",
    "    串列名稱 = [元素1, 元素2, ……]\n",
    "    \n",
    "list 可以修改元素資料、新增、刪除或取出元件，可使用 list 函式將資料轉成串列，並可用 [::] 取出串列的一部分"
   ]
  },
  {
   "cell_type": "code",
   "execution_count": 37,
   "metadata": {},
   "outputs": [
    {
     "name": "stdout",
     "output_type": "stream",
     "text": [
      "[1, '香蕉', True]\n",
      "3\n"
     ]
    }
   ],
   "source": [
    "list1 = [1, 2, 3, 4, 5]          #元素皆為整數\n",
    "list2 = [\"香蕉\", \"蘋果\", \"橘子\"]  #元素皆為字串\n",
    "list3 = [1, \"香蕉\", True]        #包含不同資料型態元素\n",
    "print(list3)\n",
    "print(len(list2))"
   ]
  },
  {
   "cell_type": "markdown",
   "metadata": {},
   "source": [
    "### 取得串列元素\n",
    "    元素值 = 串列名稱[索引值]\n",
    "    元素值 = 串列名稱[起始索引值:終止索引值:間隔]\n",
    "索引值是從 0 開始計數，索引值不可超出串列的範圍。用「:」取得的串列範圍是由起始索引值到「終止索引值-1」"
   ]
  },
  {
   "cell_type": "code",
   "execution_count": 30,
   "metadata": {},
   "outputs": [
    {
     "name": "stdout",
     "output_type": "stream",
     "text": [
      "1\n"
     ]
    }
   ],
   "source": [
    "list1 = [1, 2, 3, 4, 5]\n",
    "print(list1[0])\n",
    "#print(list1[1:4])   #元素值範圍，不包含索引 4\n",
    "#print(list1[:])     #由頭到尾\n",
    "#print(list1[-1])    #取出最後一個元素值"
   ]
  },
  {
   "cell_type": "code",
   "execution_count": 36,
   "metadata": {},
   "outputs": [
    {
     "name": "stdout",
     "output_type": "stream",
     "text": [
      "['香蕉', '蘋果', '橘子']\n",
      "修改後 ['芭樂', '蘋果', '橘子']\n"
     ]
    }
   ],
   "source": [
    "# 修改串列元素\n",
    "\n",
    "print(list2)\n",
    "list2[0] = \"芭樂\"\n",
    "print(\"修改後\", list2)"
   ]
  },
  {
   "cell_type": "code",
   "execution_count": 44,
   "metadata": {},
   "outputs": [
    {
     "data": {
      "text/plain": [
       "['西瓜', '蘋果', '橘子']"
      ]
     },
     "execution_count": 44,
     "metadata": {},
     "output_type": "execute_result"
    }
   ],
   "source": [
    "# 串列的操作\n",
    "\n",
    "fruits = [\"西瓜\", \"蘋果\", \"橘子\"]\n",
    "#fruits.append(\"木瓜\")    # 新增一元素到 list 最後方\n",
    "#fruits.insert(1, \"梨子\") # 新增一元素到指定位置\n",
    "#fruits.remove(\"西瓜\")    # 將指定元素刪除\n",
    "#fruits.pop(1)  # 刪除串列中指定位置的元素，若不指定則刪除最後一個元素\n",
    "#del fruits[0]   # 刪除指定位置的元素\n",
    "fruits"
   ]
  },
  {
   "cell_type": "code",
   "execution_count": 51,
   "metadata": {},
   "outputs": [
    {
     "data": {
      "text/plain": [
       "[-5, 4, 98, 34]"
      ]
     },
     "execution_count": 51,
     "metadata": {},
     "output_type": "execute_result"
    }
   ],
   "source": [
    "# 串列的排序及反轉\n",
    "\n",
    "numbers = [34, 98, 4, -5]\n",
    "numbers.sort()   # 排序\n",
    "# numbers.reverse()  # 反轉\n",
    "numbers"
   ]
  },
  {
   "cell_type": "markdown",
   "metadata": {},
   "source": [
    "### range() 整數串列\n",
    "    range(終止值)\n",
    "    range(起始值, 終止值, 間隔值)\n",
    "產生的串列是起始值到「終止值 - 1」的串列"
   ]
  },
  {
   "cell_type": "code",
   "execution_count": 29,
   "metadata": {},
   "outputs": [
    {
     "data": {
      "text/plain": [
       "[0, 1, 2, 3, 4]"
      ]
     },
     "execution_count": 29,
     "metadata": {},
     "output_type": "execute_result"
    }
   ],
   "source": [
    "list1 = range(5)        #[0,1,2,3,4]\n",
    "list2 = range(3, 8)     #[3,4,5,6,7]\n",
    "list3 = range(3, 8, 2)  #[3,5,7] 元素值每次增加2\n",
    "list4 = range(8, 3, -1) #[8,7,6,5,4] 間隔值可以是負值\n",
    "list(list1)"
   ]
  },
  {
   "cell_type": "code",
   "execution_count": 52,
   "metadata": {},
   "outputs": [
    {
     "data": {
      "text/plain": [
       "[1, 2, 3, 4, 5, '香蕉', '蘋果', '橘子']"
      ]
     },
     "execution_count": 52,
     "metadata": {},
     "output_type": "execute_result"
    }
   ],
   "source": [
    "# 串接 2 個串列\n",
    "\n",
    "list_all = list1 + list2\n",
    "list_all"
   ]
  },
  {
   "cell_type": "code",
   "execution_count": 60,
   "metadata": {},
   "outputs": [],
   "source": [
    "# 拷貝串列：串列 = 號與 copy 不同\n",
    "\n",
    "n1 = [10, 20, 30, 40]\n",
    "n2 = n1\n",
    "#print('n1 = ', id(n1))\n",
    "#print('n2 = ', id(n2))\n",
    "n1[2] = 33\n",
    "#print('n1 = ', n1)\n",
    "#print('n2 = ', n2)\n",
    "\n",
    "n3 = n1.copy()\n",
    "#print('n1 = ', id(n1))\n",
    "#print('n3 = ', id(n3))\n",
    "n1[2] = 43\n",
    "#print('n1 = ', n1)\n",
    "#print('n3 = ', n3)"
   ]
  },
  {
   "cell_type": "code",
   "execution_count": null,
   "metadata": {},
   "outputs": [],
   "source": []
  }
 ],
 "metadata": {
  "kernelspec": {
   "display_name": "Python 3",
   "language": "python",
   "name": "python3"
  },
  "language_info": {
   "codemirror_mode": {
    "name": "ipython",
    "version": 3
   },
   "file_extension": ".py",
   "mimetype": "text/x-python",
   "name": "python",
   "nbconvert_exporter": "python",
   "pygments_lexer": "ipython3",
   "version": "3.7.3"
  }
 },
 "nbformat": 4,
 "nbformat_minor": 2
}
