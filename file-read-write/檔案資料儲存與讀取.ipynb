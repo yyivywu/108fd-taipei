{
 "cells": [
  {
   "cell_type": "markdown",
   "metadata": {},
   "source": [
    "# 純文字檔案資料寫入與讀取\n",
    "\n",
    "利用 Python 內建的函式 open() 可以開啟純文字檔案，以便進行檔案內容的寫入與讀取\n",
    "\n",
    "    open()語法：open(檔案名稱[,模式][,編碼])\n",
    "    \n",
    "檔案名稱為必填欄位，預設模式為讀取 r，預設編碼視作業系統而訂\n",
    "\n",
    "模式：\n",
    "* w：寫入，先刪除原先檔案內容\n",
    "* x：寫入，檔案已存在，就無法寫入\n",
    "* a：寫入，將資料加入檔案最後\n",
    "* t：文字檔\n",
    "* b：二進位檔\n",
    "\n",
    " [open()語法說明](https://docs.python.org/3/library/functions.html#open)"
   ]
  },
  {
   "cell_type": "code",
   "execution_count": 1,
   "metadata": {},
   "outputs": [],
   "source": [
    "#寫入資料到純文字檔 (txt) 中\n",
    "\n",
    "content='''123中文字\n",
    "Hello Python\n",
    "歡迎學習大數據資料分析\n",
    "Welcome\n",
    "'''\n",
    "\n",
    "f = open('file1.txt', 'w')  #開啟 file1.txt 檔案為寫入模式，若檔案已存在，原內容會被覆蓋\n",
    "#f = open('file1.txt', 'w', encoding='utf-8')  #設定編碼方式為萬國碼 utf8\n",
    "#f = open('file1.txt', 'w', encoding='utf-8-sig') #設定編碼方式為萬國碼 utf8 無 BOM\n",
    "f.write(content)            #寫入資料到檔案中\n",
    "f.close()                   #關閉檔案"
   ]
  },
  {
   "cell_type": "code",
   "execution_count": 7,
   "metadata": {},
   "outputs": [
    {
     "name": "stdout",
     "output_type": "stream",
     "text": [
      "['123中文字\\n', 'abcde\\n', 'hello\\n']\n"
     ]
    }
   ],
   "source": [
    "#讀取純文字檔中的資料\n",
    "\n",
    "f = open('file2.txt', 'r', encoding='utf-8-sig')  #有BOM的文件若使用 utf-8 編碼，第一個字元為 \\ufeff\n",
    "#f = open('file1.txt', 'r')\n",
    "#str1 = f.read(5)     #只讀取前面 5 個字元\n",
    "#str1 = f.readline()  #讀取一列\n",
    "str1 = f.readlines()  #讀取所有資料\n",
    "print(str1)\n",
    "f.close()"
   ]
  },
  {
   "cell_type": "code",
   "execution_count": 11,
   "metadata": {},
   "outputs": [
    {
     "name": "stdout",
     "output_type": "stream",
     "text": [
      "123中文字\n",
      "\n",
      "Hello Python\n",
      "\n",
      "歡迎學習大數據資料分析\n",
      "\n",
      "Welcome\n",
      "\n"
     ]
    }
   ],
   "source": [
    "#使用 for 迴圈讀取純文字檔\n",
    "\n",
    "#f = open('file1.txt', 'r', encoding='utf-8-sig')\n",
    "f = open('file1.txt', 'r')\n",
    "\n",
    "for line in f:\n",
    "    print(line)\n",
    "    #print(line.rstrip())  #使用 rstrip 刪去最後一個換行字元 \\n\n",
    "\n",
    "f.close()"
   ]
  },
  {
   "cell_type": "code",
   "execution_count": 2,
   "metadata": {},
   "outputs": [],
   "source": [
    "#使用 with open as 寫法，結束時自動關閉檔案\n",
    "\n",
    "content='''Python 大數據特訓班\n",
    "學習資料分析\n",
    "Welcome\n",
    "'''\n",
    "\n",
    "with open('file3.txt', 'a', encoding='utf-8-sig') as fout:\n",
    "    #fout.write(content)\n",
    "    print(content, file=fout)  #使用 print 寫入資料\n"
   ]
  },
  {
   "cell_type": "code",
   "execution_count": 15,
   "metadata": {},
   "outputs": [],
   "source": [
    "#使用 try 偵測錯誤\n",
    "try:\n",
    "    with open('file3.txt', 'x', encoding='utf-8-sig') as fout:\n",
    "        fout.write(content)\n",
    "except:\n",
    "    print('無法寫入檔案！')\n"
   ]
  },
  {
   "cell_type": "markdown",
   "metadata": {},
   "source": [
    "# CSV檔案資料寫入與讀取\n",
    "\n",
    "利用 csv 模組操作"
   ]
  },
  {
   "cell_type": "code",
   "execution_count": 18,
   "metadata": {},
   "outputs": [],
   "source": [
    "#寫入資料到 csv 檔案\n",
    "import csv\n",
    "\n",
    "csvfile = open('test.csv', 'w', newline='')  #讀寫 csv 時需要加上 newline 參數\n",
    "writer = csv.writer(csvfile)  #建立 csv 寫入物件\n",
    "\n",
    "#寫入欄位名稱資料\n",
    "writer.writerow(['姓名', '身高', '體重'])\n",
    "\n",
    "#寫入資料\n",
    "writer.writerow(['張大明', 175, 60])\n",
    "writer.writerow(['李小芬', 165, 57])\n",
    "writer.writerow(['林一一', 180, 65])\n",
    "\n",
    "csvfile.close()"
   ]
  },
  {
   "cell_type": "code",
   "execution_count": 19,
   "metadata": {},
   "outputs": [
    {
     "name": "stdout",
     "output_type": "stream",
     "text": [
      "['姓名', '身高', '體重']\n",
      "['張大明', '175', '60']\n",
      "['李小芬', '165', '57']\n",
      "['林一一', '180', '65']\n"
     ]
    }
   ],
   "source": [
    "#讀取 csv 檔案的資料\n",
    "import csv\n",
    "\n",
    "with open('test.csv', 'r', newline='') as csvfile:\n",
    "    rows = csv.reader(csvfile)  #讀取 csv 檔案內容\n",
    "    \n",
    "    for row in rows:\n",
    "        print(row)"
   ]
  },
  {
   "cell_type": "code",
   "execution_count": 7,
   "metadata": {},
   "outputs": [],
   "source": [
    "#寫入 Dictionary 字典格式資料到 csv 檔案\n",
    "import csv\n",
    "\n",
    "#csvfile = open('score.csv', 'w', newline='', encoding='utf-8-sig')\n",
    "csvfile = open('score.csv', 'w', newline='')\n",
    "fieldnames = ['姓名', '國文', '英文', '數學']  #定義欄位名稱\n",
    "writer = csv.DictWriter(csvfile, fieldnames=fieldnames)  #建立 csv 檔寫入物件\n",
    "writer.writeheader()  #寫入欄位名稱\n",
    "writer.writerow({'姓名':'Mary', '國文':80, '英文':90, '數學':76})  #寫入資料\n",
    "writer.writerow({'姓名':'John', '國文':100, '英文':95, '數學':98})\n",
    "writer.writerow({'姓名':'Tom', '國文':73, '英文':56, '數學':60})\n",
    "csvfile.close()"
   ]
  },
  {
   "cell_type": "code",
   "execution_count": 20,
   "metadata": {},
   "outputs": [],
   "source": [
    "#寫入 Dictionary 字典格式資料到 csv 檔案\n",
    "\n",
    "with open('score.csv', 'w', newline='', encoding='utf-8-sig') as csvfile:\n",
    "    fieldnames = ['姓名', '國文', '英文', '數學']  #定義欄位名稱\n",
    "    writer = csv.DictWriter(csvfile, fieldnames=fieldnames)  #建立 csv 檔寫入物件\n",
    "    writer.writeheader()  #寫入欄位名稱\n",
    "    writer.writerow({'姓名':'Mary', '國文':80, '英文':90, '數學':76})  #寫入資料\n",
    "    writer.writerow({'姓名':'John', '國文':100, '英文':95, '數學':98})\n",
    "    writer.writerow({'姓名':'Tom', '國文':73, '英文':56, '數學':60})"
   ]
  },
  {
   "cell_type": "code",
   "execution_count": 8,
   "metadata": {},
   "outputs": [
    {
     "name": "stdout",
     "output_type": "stream",
     "text": [
      "Mary 80 90 76\n",
      "John 100 95 98\n",
      "Tom 73 56 60\n"
     ]
    }
   ],
   "source": [
    "#從 csv 檔案讀取 Dictionary 字典格式資料\n",
    "import csv\n",
    "\n",
    "csvfile = open('score.csv', 'r', newline='')\n",
    "rows = csv.DictReader(csvfile)\n",
    "for row in rows:\n",
    "    print(row['姓名'], row['國文'], row['英文'], row['數學'])"
   ]
  },
  {
   "cell_type": "code",
   "execution_count": 21,
   "metadata": {},
   "outputs": [
    {
     "name": "stdout",
     "output_type": "stream",
     "text": [
      "Mary 80 90 76\n",
      "John 100 95 98\n",
      "Tom 73 56 60\n"
     ]
    }
   ],
   "source": [
    "#從 csv 檔案讀取 Dictionary 字典格式資料\n",
    "\n",
    "with open('score.csv', 'r', newline='', encoding='utf-8-sig') as csvfile:\n",
    "    rows = csv.DictReader(csvfile)\n",
    "    for row in rows:\n",
    "        print(row['姓名'], row['國文'], row['英文'], row['數學'])"
   ]
  },
  {
   "cell_type": "markdown",
   "metadata": {},
   "source": [
    "# JSON檔案資料寫入與讀取\n",
    "\n",
    "利用 json 模組操作\n",
    "* json.loads：將 JSON 格式資料解碼為 Python 物件\n",
    "* json.dumps：將 Python 物件編碼成 JSON 格式"
   ]
  },
  {
   "cell_type": "code",
   "execution_count": 16,
   "metadata": {},
   "outputs": [],
   "source": [
    "import json\n",
    "\n",
    "f = open('test.json', 'w')\n",
    "jsondict = { 'a' : 1, 'b' : 2, 'c' : 3, 'd' : 4, 'e' : 5 } \n",
    "\n",
    "js = json.dumps(jsondict)\n",
    "print(js, file=f)\n",
    "\n",
    "f.close()"
   ]
  },
  {
   "cell_type": "code",
   "execution_count": 11,
   "metadata": {},
   "outputs": [
    {
     "name": "stdout",
     "output_type": "stream",
     "text": [
      "<class 'dict'>\n",
      "{'success': True, 'result': {'resource_id': 'A53000000A-000003-001', 'fields': [{'type': 'int4', 'id': 'Seq'}, {'type': 'text', 'id': 'name'}, {'type': 'text', 'id': 'AlsoKnownAs'}, {'type': 'text', 'id': 'shop'}, {'type': 'text', 'id': 'address'}, {'type': 'text', 'id': 'telephone'}, {'type': 'text', 'id': 'awards'}], 'records': [{'Seq': 1, 'name': '山玉芙蓉', 'AlsoKnownAs': '', 'shop': '紅磚美食坊', 'address': '新竹縣尖石鄉嘉樂村9鄰99號', 'telephone': '03-5842440', 'awards': '原住民族委員會2010原住民嚴選十大美食'}, {'Seq': 2, 'name': '刺蔥涼拌山豬肉', 'AlsoKnownAs': '', 'shop': '山清休閒農園', 'address': '新竹縣尖石鄉梅花村1鄰24-1號', 'telephone': '0932757931', 'awards': '原住民族委員會2010原住民嚴選十大美食'}, {'Seq': 3, 'name': '打那壽司', 'AlsoKnownAs': '', 'shop': '東眼山農場', 'address': '桃園縣復興鄉雲霞村佳志5鄰20號', 'telephone': '03-3821198', 'awards': '原住民族委員會2010原住民嚴選十大美食'}, {'Seq': 4, 'name': '雷貢糕', 'AlsoKnownAs': '飛魚蘿蔔糕', 'shop': '芭達桑原住民主題餐廳', 'address': '新北市八里區觀海大道111號', 'telephone': '02-86304612', 'awards': '原住民族委員會2010原住民嚴選十大美食'}, {'Seq': 5, 'name': '山豬肉刺蔥刈包', 'AlsoKnownAs': '', 'shop': '田媽媽泰雅風味館', 'address': '宜蘭縣大同鄉松羅村玉蘭巷2號', 'telephone': '03-9801903', 'awards': '原住民族委員會2010原住民嚴選十大美食'}, {'Seq': 6, 'name': '馬告燒鴨', 'AlsoKnownAs': '', 'shop': '馬告風味餐坊', 'address': '新竹縣尖石鄉嘉樂村1鄰1-15號', 'telephone': '03-5842790', 'awards': '原住民族委員會2010原住民嚴選十大美食'}, {'Seq': 7, 'name': '火山慢慢爬', 'AlsoKnownAs': '', 'shop': '三番兩次原住民餐廳', 'address': '花蓮縣花蓮市中山路一段386-6號', 'telephone': '03-8463131', 'awards': '原住民族委員會2010原住民嚴選十大美食'}, {'Seq': 8, 'name': '香蕉糕', 'AlsoKnownAs': '', 'shop': '達基力部落屋', 'address': '花蓮縣秀林鄉崇德村7鄰96號', 'telephone': '03-8621033', 'awards': '原住民族委員會2010原住民嚴選十大美食'}, {'Seq': 9, 'name': '甜蜜美人捲', 'AlsoKnownAs': '', 'shop': '響羅雷美食坊', 'address': '臺東縣卑南鄉利嘉村利嘉路689巷19-1號', 'telephone': '089-385366', 'awards': '原住民族委員會2010原住民嚴選十大美食'}, {'Seq': 10, 'name': '野菜拼盤', 'AlsoKnownAs': '', 'shop': '紅瓦屋文化美食餐廳', 'address': '花蓮縣光復鄉大全村大全街62巷16號', 'telephone': '03-8704601', 'awards': '原住民族委員會2010原住民嚴選十大美食'}], 'limit': 0, 'offset': 0, 'total': 10}}\n"
     ]
    }
   ],
   "source": [
    "# 讀取 json 檔案為 Python 資料物件\n",
    "import json\n",
    "\n",
    "f = open('2010原住民十大特色美食.json', encoding='utf-8')\n",
    "data = json.load(f)\n",
    "print(type(data))  #列印 data 資料格式\n",
    "print(data)"
   ]
  },
  {
   "cell_type": "code",
   "execution_count": 26,
   "metadata": {},
   "outputs": [
    {
     "name": "stdout",
     "output_type": "stream",
     "text": [
      "<class 'dict'>\n",
      "{'success': True, 'result': {'resource_id': 'A53000000A-000003-001', 'fields': [{'type': 'int4', 'id': 'Seq'}, {'type': 'text', 'id': 'name'}, {'type': 'text', 'id': 'AlsoKnownAs'}, {'type': 'text', 'id': 'shop'}, {'type': 'text', 'id': 'address'}, {'type': 'text', 'id': 'telephone'}, {'type': 'text', 'id': 'awards'}], 'records': [{'Seq': 1, 'name': '山玉芙蓉', 'AlsoKnownAs': '', 'shop': '紅磚美食坊', 'address': '新竹縣尖石鄉嘉樂村9鄰99號', 'telephone': '03-5842440', 'awards': '原住民族委員會2010原住民嚴選十大美食'}, {'Seq': 2, 'name': '刺蔥涼拌山豬肉', 'AlsoKnownAs': '', 'shop': '山清休閒農園', 'address': '新竹縣尖石鄉梅花村1鄰24-1號', 'telephone': '0932757931', 'awards': '原住民族委員會2010原住民嚴選十大美食'}, {'Seq': 3, 'name': '打那壽司', 'AlsoKnownAs': '', 'shop': '東眼山農場', 'address': '桃園縣復興鄉雲霞村佳志5鄰20號', 'telephone': '03-3821198', 'awards': '原住民族委員會2010原住民嚴選十大美食'}, {'Seq': 4, 'name': '雷貢糕', 'AlsoKnownAs': '飛魚蘿蔔糕', 'shop': '芭達桑原住民主題餐廳', 'address': '新北市八里區觀海大道111號', 'telephone': '02-86304612', 'awards': '原住民族委員會2010原住民嚴選十大美食'}, {'Seq': 5, 'name': '山豬肉刺蔥刈包', 'AlsoKnownAs': '', 'shop': '田媽媽泰雅風味館', 'address': '宜蘭縣大同鄉松羅村玉蘭巷2號', 'telephone': '03-9801903', 'awards': '原住民族委員會2010原住民嚴選十大美食'}, {'Seq': 6, 'name': '馬告燒鴨', 'AlsoKnownAs': '', 'shop': '馬告風味餐坊', 'address': '新竹縣尖石鄉嘉樂村1鄰1-15號', 'telephone': '03-5842790', 'awards': '原住民族委員會2010原住民嚴選十大美食'}, {'Seq': 7, 'name': '火山慢慢爬', 'AlsoKnownAs': '', 'shop': '三番兩次原住民餐廳', 'address': '花蓮縣花蓮市中山路一段386-6號', 'telephone': '03-8463131', 'awards': '原住民族委員會2010原住民嚴選十大美食'}, {'Seq': 8, 'name': '香蕉糕', 'AlsoKnownAs': '', 'shop': '達基力部落屋', 'address': '花蓮縣秀林鄉崇德村7鄰96號', 'telephone': '03-8621033', 'awards': '原住民族委員會2010原住民嚴選十大美食'}, {'Seq': 9, 'name': '甜蜜美人捲', 'AlsoKnownAs': '', 'shop': '響羅雷美食坊', 'address': '臺東縣卑南鄉利嘉村利嘉路689巷19-1號', 'telephone': '089-385366', 'awards': '原住民族委員會2010原住民嚴選十大美食'}, {'Seq': 10, 'name': '野菜拼盤', 'AlsoKnownAs': '', 'shop': '紅瓦屋文化美食餐廳', 'address': '花蓮縣光復鄉大全村大全街62巷16號', 'telephone': '03-8704601', 'awards': '原住民族委員會2010原住民嚴選十大美食'}], 'limit': 0, 'offset': 0, 'total': 10}}\n"
     ]
    }
   ],
   "source": [
    "# 讀取 json 檔案為 Python 資料物件\n",
    "\n",
    "with open('2010原住民十大特色美食.json', encoding='utf-8') as f:\n",
    "    data = json.load(f)\n",
    "print(type(data))  #列印 data 資料格式\n",
    "print(data)"
   ]
  },
  {
   "cell_type": "code",
   "execution_count": 12,
   "metadata": {},
   "outputs": [
    {
     "name": "stdout",
     "output_type": "stream",
     "text": [
      "1, 山玉芙蓉, 紅磚美食坊\n",
      "2, 刺蔥涼拌山豬肉, 山清休閒農園\n",
      "3, 打那壽司, 東眼山農場\n",
      "4, 雷貢糕, 芭達桑原住民主題餐廳\n",
      "5, 山豬肉刺蔥刈包, 田媽媽泰雅風味館\n",
      "6, 馬告燒鴨, 馬告風味餐坊\n",
      "7, 火山慢慢爬, 三番兩次原住民餐廳\n",
      "8, 香蕉糕, 達基力部落屋\n",
      "9, 甜蜜美人捲, 響羅雷美食坊\n",
      "10, 野菜拼盤, 紅瓦屋文化美食餐廳\n"
     ]
    }
   ],
   "source": [
    "for i in range(0, len(data[\"result\"][\"records\"])):\n",
    "    print (str(i+1) + \", \" + data[\"result\"][\"records\"][i][\"name\"] + \", \"\n",
    "           + data[\"result\"][\"records\"][i][\"shop\"])"
   ]
  },
  {
   "cell_type": "code",
   "execution_count": null,
   "metadata": {},
   "outputs": [],
   "source": []
  }
 ],
 "metadata": {
  "kernelspec": {
   "display_name": "Python 3",
   "language": "python",
   "name": "python3"
  },
  "language_info": {
   "codemirror_mode": {
    "name": "ipython",
    "version": 3
   },
   "file_extension": ".py",
   "mimetype": "text/x-python",
   "name": "python",
   "nbconvert_exporter": "python",
   "pygments_lexer": "ipython3",
   "version": "3.7.3"
  }
 },
 "nbformat": 4,
 "nbformat_minor": 2
}
