{
 "cells": [
  {
   "cell_type": "markdown",
   "metadata": {},
   "source": [
    "# 選擇結構 - 判斷式\n",
    "\n",
    "## 單向判斷式\n",
    "    if 條件式 :\n",
    "        程式區塊\n",
    "        \n",
    "程式區塊內的程式碼需要以「縮排」方式撰寫"
   ]
  },
  {
   "cell_type": "code",
   "execution_count": 2,
   "metadata": {},
   "outputs": [
    {
     "name": "stdout",
     "output_type": "stream",
     "text": [
      "請輸入你的分數：75\n",
      "恭喜！你及格了！\n"
     ]
    }
   ],
   "source": [
    "score = int(input(\"請輸入你的分數：\"))\n",
    "if score >= 60:\n",
    "    print(\"恭喜！你及格了！\")"
   ]
  },
  {
   "cell_type": "markdown",
   "metadata": {},
   "source": [
    "## 雙向判斷式\n",
    "    if 條件式：\n",
    "        程式區塊1\n",
    "    else:\n",
    "        程式區塊2"
   ]
  },
  {
   "cell_type": "code",
   "execution_count": 5,
   "metadata": {},
   "outputs": [
    {
     "name": "stdout",
     "output_type": "stream",
     "text": [
      "請輸入你的分數：40\n",
      "慘啊！你被當了！\n"
     ]
    }
   ],
   "source": [
    "score = int(input(\"請輸入你的分數：\"))\n",
    "if score >= 60:\n",
    "    print(\"恭喜！你及格了！\")\n",
    "else:\n",
    "    print(\"慘啊！你被當了！\") "
   ]
  },
  {
   "cell_type": "markdown",
   "metadata": {},
   "source": [
    "## 多向判斷式\n",
    "    if 條件式2：\n",
    "        程式區塊1\n",
    "    elif 條件式2:\n",
    "        程式區塊2\n",
    "    elif 條件式3:\n",
    "        程式區塊3\n",
    "    ...\n",
    "    else:\n",
    "        程式區塊4 "
   ]
  },
  {
   "cell_type": "code",
   "execution_count": 6,
   "metadata": {},
   "outputs": [
    {
     "name": "stdout",
     "output_type": "stream",
     "text": [
      "請輸入你的分數：80\n",
      "乙等\n"
     ]
    }
   ],
   "source": [
    "score = int(input(\"請輸入你的分數：\"))\n",
    "if score >= 90:\n",
    "    print(\"甲等\")\n",
    "elif score >= 80:\n",
    "    print(\"乙等\")    \n",
    "elif score >= 70:\n",
    "    print(\"丙等\")    \n",
    "elif score >= 60:\n",
    "    print(\"丁等\")        \n",
    "else:\n",
    "    print(\"你被當了！\")"
   ]
  }
 ],
 "metadata": {
  "kernelspec": {
   "display_name": "Python 3",
   "language": "python",
   "name": "python3"
  },
  "language_info": {
   "codemirror_mode": {
    "name": "ipython",
    "version": 3
   },
   "file_extension": ".py",
   "mimetype": "text/x-python",
   "name": "python",
   "nbconvert_exporter": "python",
   "pygments_lexer": "ipython3",
   "version": "3.7.3"
  }
 },
 "nbformat": 4,
 "nbformat_minor": 2
}
