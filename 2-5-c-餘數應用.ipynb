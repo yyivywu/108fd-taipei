{
 "cells": [
  {
   "cell_type": "markdown",
   "metadata": {},
   "source": [
    "# 餘數 (Mod, %) 應用\n",
    "\n",
    "賣場飲料售價一打 $200 元，單買一罐 $20 元，計算購買飲料的花費"
   ]
  },
  {
   "cell_type": "code",
   "execution_count": 12,
   "metadata": {},
   "outputs": [
    {
     "name": "stdout",
     "output_type": "stream",
     "text": [
      "請輸入購買數量：30\n",
      "總價為： 520\n"
     ]
    }
   ],
   "source": [
    "number = int(input('請輸入購買數量：'))\n",
    "dozen = number // 12   # 一打 = 12 罐\n",
    "n1 = number % 12\n",
    "total = dozen * 200 + n1 * 20\n",
    "print('總價為：', total)"
   ]
  },
  {
   "cell_type": "markdown",
   "metadata": {},
   "source": [
    "# 判斷是否為閏年\n",
    "\n",
    "閏年條件：若為 100 的倍數，則必須為 400 倍數；若不為 100 倍數，必須為 4 的倍數"
   ]
  },
  {
   "cell_type": "code",
   "execution_count": 5,
   "metadata": {},
   "outputs": [
    {
     "name": "stdout",
     "output_type": "stream",
     "text": [
      "請輸入年份: 200\n",
      "False\n"
     ]
    }
   ],
   "source": [
    "year = int(input('請輸入年份: '))\n",
    "\n",
    "# 如果程式碼太長，可以使用 \\ 或 () 分開為二行撰寫\n",
    "is_leap = (year % 4 == 0 and year % 100 != 0 or\n",
    "           year % 400 == 0)\n",
    "print(is_leap)"
   ]
  },
  {
   "cell_type": "code",
   "execution_count": null,
   "metadata": {},
   "outputs": [],
   "source": []
  }
 ],
 "metadata": {
  "kernelspec": {
   "display_name": "Python 3",
   "language": "python",
   "name": "python3"
  },
  "language_info": {
   "codemirror_mode": {
    "name": "ipython",
    "version": 3
   },
   "file_extension": ".py",
   "mimetype": "text/x-python",
   "name": "python",
   "nbconvert_exporter": "python",
   "pygments_lexer": "ipython3",
   "version": "3.7.3"
  }
 },
 "nbformat": 4,
 "nbformat_minor": 2
}
