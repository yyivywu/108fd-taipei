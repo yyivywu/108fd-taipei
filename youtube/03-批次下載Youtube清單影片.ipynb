{
 "cells": [
  {
   "cell_type": "markdown",
   "metadata": {},
   "source": [
    "# 批次下載 YouTube 清單影片，儲存到指定資料夾"
   ]
  },
  {
   "cell_type": "code",
   "execution_count": 1,
   "metadata": {},
   "outputs": [],
   "source": [
    "import requests\n",
    "import re\n",
    "import os\n",
    "from pytube import YouTube"
   ]
  },
  {
   "cell_type": "code",
   "execution_count": 2,
   "metadata": {},
   "outputs": [],
   "source": [
    "#指定 YouTube 影片清單\n",
    "\n",
    "url = 'https://www.youtube.com/playlist?list=PLXO45tsB95cIuXEgV-mvYWRd_hVC43Akk'\n",
    "data = requests.get(url)"
   ]
  },
  {
   "cell_type": "code",
   "execution_count": 3,
   "metadata": {},
   "outputs": [],
   "source": [
    "#設定影片網址的正規表示式，即 /watch 後的網址內容\n",
    "\n",
    "regex = re.findall(r'/watch[-A-Za-z0-9+&@#/%?=~_|!:,.;]+[-A-Za-z0-9+&@#/%=~_|]', data.text)  \n",
    "#print(regex)"
   ]
  },
  {
   "cell_type": "code",
   "execution_count": 4,
   "metadata": {},
   "outputs": [
    {
     "name": "stdout",
     "output_type": "stream",
     "text": [
      "['/watch?v=DQdeWX6-Uy8&amp;list=PLXO45tsB95cIuXEgV-mvYWRd_hVC43Akk&amp;index=2&amp;t=0s', '/watch?v=7B-nvXUJGQs&amp;list=PLXO45tsB95cIuXEgV-mvYWRd_hVC43Akk&amp;index=3&amp;t=0s', '/watch?v=KLq0W1wUVmw&amp;list=PLXO45tsB95cIuXEgV-mvYWRd_hVC43Akk&amp;index=4&amp;t=0s', '/watch?v=SiIwSAIC458&amp;list=PLXO45tsB95cIuXEgV-mvYWRd_hVC43Akk&amp;index=5&amp;t=0s', '/watch?v=OfmmsxVSP0o&amp;list=PLXO45tsB95cIuXEgV-mvYWRd_hVC43Akk&amp;index=6&amp;t=0s', '/watch?v=dSypElTfcFM&amp;list=PLXO45tsB95cIuXEgV-mvYWRd_hVC43Akk&amp;index=7&amp;t=0s', '/watch?v=L6ewlStcEzI&amp;list=PLXO45tsB95cIuXEgV-mvYWRd_hVC43Akk&amp;index=8&amp;t=0s', '/watch?v=ScT0FJdHc5o&amp;list=PLXO45tsB95cIuXEgV-mvYWRd_hVC43Akk&amp;index=9&amp;t=0s', '/watch?v=rwI7bFXdOsk&amp;list=PLXO45tsB95cIuXEgV-mvYWRd_hVC43Akk&amp;index=10&amp;t=0s', '/watch?v=QRJdEdgpTos&amp;list=PLXO45tsB95cIuXEgV-mvYWRd_hVC43Akk&amp;index=11&amp;t=0s', '/watch?v=Wa2K7sB7BZE&amp;list=PLXO45tsB95cIuXEgV-mvYWRd_hVC43Akk&amp;index=12&amp;t=0s', '/watch?v=roTwhVIHkAo&amp;list=PLXO45tsB95cIuXEgV-mvYWRd_hVC43Akk&amp;index=13&amp;t=0s', '/watch?v=0Uug1fDa8nw&amp;list=PLXO45tsB95cIuXEgV-mvYWRd_hVC43Akk&amp;index=14&amp;t=0s']\n"
     ]
    }
   ],
   "source": [
    "video_list = []\n",
    "\n",
    "for link in regex:\n",
    "    #網址必須包含 list= 及 index= 才是正確的影片網址\n",
    "    if ('list=' and 'index=' in link) and (link not in video_list):\n",
    "        video_list.append(link)\n",
    "print(video_list)"
   ]
  },
  {
   "cell_type": "code",
   "execution_count": 6,
   "metadata": {},
   "outputs": [],
   "source": [
    "# 取得目前資料夾路徑，將下載影片存於 download 資料夾，若此資料夾不存在便建立之\n",
    "\n",
    "filepath = os.getcwd()\n",
    "filepath = filepath+'\\\\download'\n",
    "#print(filepath)\n",
    "\n",
    "if not os.path.isdir(filepath):  #如果資料夾不存在就建立\n",
    "    os.mkdir(filepath)"
   ]
  },
  {
   "cell_type": "code",
   "execution_count": 7,
   "metadata": {},
   "outputs": [
    {
     "name": "stdout",
     "output_type": "stream",
     "text": [
      "開始下載 YouTube 清單影片：\n",
      "1. #1 Why? (爬虫 scraping 基础教学/教程 Tutorial)\n",
      "1. <pytube.__main__.YouTube object at 0x0000000006A8D438>\n",
      "2. #1.1 了解网页结构 (爬虫 scraping 基础教学/教程 Tutorial)\n",
      "2. <pytube.__main__.YouTube object at 0x0000000006CB4A58>\n",
      "3. #2.1 BeautifulSoup 解析网页: 基础 (爬虫 scraping 基础教学/教程 Tutorial)\n",
      "3. <pytube.__main__.YouTube object at 0x0000000006CB40B8>\n",
      "4. #2.2 BeautifulSoup 解析网页: CSS (爬虫 scraping 基础教学/教程 Tutorial)\n",
      "4. <pytube.__main__.YouTube object at 0x0000000006CEA0F0>\n",
      "5. #2.3 BeautifulSoup 解析网页: 正则表达 (爬虫 scraping 基础教学/教程 Tutorial)\n",
      "5. <pytube.__main__.YouTube object at 0x0000000006CAC0B8>\n",
      "6. #2.4 小练习: 爬百度百科 (爬虫 scraping 基础教学/教程 Tutorial)\n",
      "6. <pytube.__main__.YouTube object at 0x0000000006CAC5C0>\n",
      "7. #3.1 Post 登录 Cookies Session 都用 Requests (爬虫 scraping 基础 Tutorial)\n",
      "7. <pytube.__main__.YouTube object at 0x0000000006CAF438>\n",
      "8. #3.2 下载文件 (爬虫 scraping 基础)\n",
      "8. <pytube.__main__.YouTube object at 0x0000000006A3B908>\n",
      "9. #3.3 小练习: 下载国家地理美图 (爬虫 scraping 基础)\n",
      "9. <pytube.__main__.YouTube object at 0x0000000006CB9FD0>\n",
      "10. #4.1 加速爬虫: 多进程分布式 (爬虫 scraping 基础)\n",
      "10. <pytube.__main__.YouTube object at 0x0000000006CB9E80>\n",
      "11. #4.2 加速爬虫: 异步加载 Asyncio (爬虫 scraping 基础 Python)\n",
      "11. <pytube.__main__.YouTube object at 0x0000000006CE7128>\n",
      "12. #5.1 让 Selenium 控制你的浏览器帮你玩爬虫 (爬虫 scraping 基础)\n",
      "12. <pytube.__main__.YouTube object at 0x0000000006CD7128>\n",
      "13. #5.2 高效无忧的 Scrapy 爬虫库 (爬虫 scraping 基础)\n",
      "13. <pytube.__main__.YouTube object at 0x0000000006CEA518>\n",
      "下載完成！\n"
     ]
    }
   ],
   "source": [
    "print('開始下載 YouTube 清單影片：')\n",
    "\n",
    "n = 1\n",
    "for video in video_list:\n",
    "    yt = YouTube('https://www.youtube.com' + video)\n",
    "    print(str(n) + '. ' + yt.title)  #顯示標題\n",
    "    yt.streams.filter(subtype='mp4', res='360p', progressive=True).first().download(filepath)  #下載mp4,360p影片\n",
    "    n = n + 1\n",
    "print('下載完成！')"
   ]
  },
  {
   "cell_type": "code",
   "execution_count": 26,
   "metadata": {},
   "outputs": [
    {
     "name": "stdout",
     "output_type": "stream",
     "text": [
      "請輸入要下載的影片清單網址：https://www.youtube.com/playlist?list=PL6eHLykJqnupQPoiF7qgXDkTZ2oK74Ep9\n"
     ]
    }
   ],
   "source": [
    "# 下載清單所有影片\n",
    "from pytube import Playlist\n",
    "\n",
    "url = input('請輸入要下載的影片清單網址：')\n",
    "yt = Playlist(url)"
   ]
  },
  {
   "cell_type": "code",
   "execution_count": 27,
   "metadata": {},
   "outputs": [],
   "source": [
    "yt.parse_links()  # 剖析清單網址"
   ]
  },
  {
   "cell_type": "code",
   "execution_count": 28,
   "metadata": {},
   "outputs": [
    {
     "data": {
      "text/plain": [
       "'和平號 Peace Boat 報到及登船'"
      ]
     },
     "execution_count": 28,
     "metadata": {},
     "output_type": "execute_result"
    }
   ],
   "source": [
    "yt.title()"
   ]
  },
  {
   "cell_type": "code",
   "execution_count": 29,
   "metadata": {},
   "outputs": [],
   "source": [
    "print(yt.video_urls)  # 清單網址"
   ]
  },
  {
   "cell_type": "code",
   "execution_count": 30,
   "metadata": {},
   "outputs": [
    {
     "name": "stdout",
     "output_type": "stream",
     "text": [
      "開始下載清單影片：和平號 Peace Boat 報到及登船\n",
      "下載完畢！\n"
     ]
    }
   ],
   "source": [
    "# 下載清單影片\n",
    "print('開始下載清單影片：' + yt.title())\n",
    "yt.download_all()\n",
    "print('下載完畢！')"
   ]
  },
  {
   "cell_type": "code",
   "execution_count": null,
   "metadata": {},
   "outputs": [],
   "source": []
  }
 ],
 "metadata": {
  "kernelspec": {
   "display_name": "Python 3",
   "language": "python",
   "name": "python3"
  },
  "language_info": {
   "codemirror_mode": {
    "name": "ipython",
    "version": 3
   },
   "file_extension": ".py",
   "mimetype": "text/x-python",
   "name": "python",
   "nbconvert_exporter": "python",
   "pygments_lexer": "ipython3",
   "version": "3.7.3"
  }
 },
 "nbformat": 4,
 "nbformat_minor": 2
}
