{
 "cells": [
  {
   "cell_type": "markdown",
   "metadata": {},
   "source": [
    "# 單支 YouTube 影片下載，儲存到指定資料夾"
   ]
  },
  {
   "cell_type": "code",
   "execution_count": 1,
   "metadata": {},
   "outputs": [],
   "source": [
    "# 操作系統命令，來達成建立文件，刪除文件，查詢文件等\n",
    "import os\n",
    "from pytube import YouTube"
   ]
  },
  {
   "cell_type": "code",
   "execution_count": 2,
   "metadata": {},
   "outputs": [
    {
     "name": "stdout",
     "output_type": "stream",
     "text": [
      "D:\\!Python\\laborOffice\\youtube\\download\n"
     ]
    }
   ],
   "source": [
    "# 取得目前資料夾路徑，將下載影片存於 download 資料夾，若此資料夾不存在便建立之\n",
    "\n",
    "filepath = os.getcwd()\n",
    "filepath = filepath+'\\\\download'\n",
    "print(filepath)\n",
    "\n",
    "if not os.path.isdir(filepath):  #如果資料夾不存在就建立\n",
    "    os.mkdir(filepath)"
   ]
  },
  {
   "cell_type": "code",
   "execution_count": 3,
   "metadata": {},
   "outputs": [],
   "source": [
    "link = 'https://www.youtube.com/watch?v=DQdeWX6-Uy8'\n",
    "yt = YouTube(link)"
   ]
  },
  {
   "cell_type": "code",
   "execution_count": 4,
   "metadata": {},
   "outputs": [
    {
     "name": "stdout",
     "output_type": "stream",
     "text": [
      "影片名稱：#1 Why? (爬虫 scraping 基础教学/教程 Tutorial)\n",
      "影片格式共有 17 種\n",
      "影片型態為 mp4 且影像及聲音都有的影片：\n",
      "[<Stream: itag=\"22\" mime_type=\"video/mp4\" res=\"720p\" fps=\"30fps\" vcodec=\"avc1.64001F\" acodec=\"mp4a.40.2\">, <Stream: itag=\"18\" mime_type=\"video/mp4\" res=\"360p\" fps=\"30fps\" vcodec=\"avc1.42001E\" acodec=\"mp4a.40.2\">]\n"
     ]
    }
   ],
   "source": [
    "print(\"影片名稱：\" + yt.title)\n",
    "print(\"影片格式共有 \" + str(yt.streams.count()) + ' 種')\n",
    "print(\"影片型態為 mp4 且影像及聲音都有的影片：\")\n",
    "print(yt.streams.filter(subtype='mp4', progressive=True).all())"
   ]
  },
  {
   "cell_type": "code",
   "execution_count": 6,
   "metadata": {},
   "outputs": [
    {
     "name": "stdout",
     "output_type": "stream",
     "text": [
      "開始下載 mp4, 360p 的影片：\n",
      "下載完成！ 下載檔案存於 D:\\!Python\\laborOffice\\youtube\\download 資料夾\n"
     ]
    }
   ],
   "source": [
    "#下載　mp4,360p　的影片\n",
    "\n",
    "print('開始下載 mp4, 360p 的影片：')\n",
    "yt.streams.filter(subtype='mp4', res='360p', progressive=True).first().download(filepath)  \n",
    "print('下載完成！ 下載檔案存於 ' + filepath + ' 資料夾')"
   ]
  },
  {
   "cell_type": "code",
   "execution_count": null,
   "metadata": {},
   "outputs": [],
   "source": []
  }
 ],
 "metadata": {
  "kernelspec": {
   "display_name": "Python 3",
   "language": "python",
   "name": "python3"
  },
  "language_info": {
   "codemirror_mode": {
    "name": "ipython",
    "version": 3
   },
   "file_extension": ".py",
   "mimetype": "text/x-python",
   "name": "python",
   "nbconvert_exporter": "python",
   "pygments_lexer": "ipython3",
   "version": "3.7.3"
  }
 },
 "nbformat": 4,
 "nbformat_minor": 2
}
