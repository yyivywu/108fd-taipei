{
 "cells": [
  {
   "cell_type": "markdown",
   "metadata": {},
   "source": [
    "#  輸入及輸出\n",
    "\n",
    "## 輸出：print 命令\n",
    "### 格式\n",
    "\n",
    "print(項目1 [,項目2 ,… (,sep=分隔字元,end=結束字元]))，預設的分隔字元為空白\n",
    "       \n",
    "`print()`顯示的字串可以使用 + 進行組合，但不同型別要先轉為文字"
   ]
  },
  {
   "cell_type": "code",
   "execution_count": 10,
   "metadata": {},
   "outputs": [
    {
     "name": "stdout",
     "output_type": "stream",
     "text": [
      "考試得到 100 分\n",
      "考試得到100分\n",
      "考試得到 $ 100 $ 分."
     ]
    }
   ],
   "source": [
    "print(\"考試得到\", 100, \"分\")\n",
    "print(\"考試得到\"+str(100)+\"分\")\n",
    "print(\"考試得到\", 100, \"分\", sep=\" $ \", end=\".\")"
   ]
  },
  {
   "cell_type": "markdown",
   "metadata": {},
   "source": [
    "## print 命令參數格式化 - 使用 %\n",
    "    print(項目 % (參數列))\n",
    "* %s 字串, %d 數值\n",
    "* %3d 輸出 3 位數字， %3s 輸出 3 個字元\n",
    "* %-3d 或 %-3s 文字數字靠左對齊\n",
    "* %6.2f 輸出 6 位數字，2 位小數 "
   ]
  },
  {
   "cell_type": "code",
   "execution_count": 15,
   "metadata": {},
   "outputs": [
    {
     "name": "stdout",
     "output_type": "stream",
     "text": [
      "林志琳 的成績為 90 分\n",
      "  林志琳 的成績為    90 分\n",
      "林志琳   的成績為 90    分\n",
      "林志琳 的成績為  90.22 分\n"
     ]
    }
   ],
   "source": [
    "print(\"%s 的成績為 %d 分\" % (\"林志琳\", 90))\n",
    "print(\"%5s 的成績為 %5d 分\" % (\"林志琳\", 90))      # 文字靠右對齊\n",
    "print(\"%-5s 的成績為 %-5d 分\" % (\"林志琳\", 90))    # 文字靠左對齊\n",
    "print(\"%s 的成績為 %6.2f 分\" % (\"林志琳\", 90.215)) # 四捨五入"
   ]
  },
  {
   "cell_type": "markdown",
   "metadata": {},
   "source": [
    "## print 命令參數格式化 - 使用 format\n",
    "    print(字串.format(參數列))"
   ]
  },
  {
   "cell_type": "code",
   "execution_count": 31,
   "metadata": {},
   "outputs": [
    {
     "name": "stdout",
     "output_type": "stream",
     "text": [
      "林志琳 成績為 90 分\n",
      "林志琳   成績為  90.00 分\n"
     ]
    }
   ],
   "source": [
    "print(\"{} 成績為 {} 分\".format(\"林志琳\", 90))\n",
    "print(\"{:5s} 成績為 {:6.2f} 分\".format(\"林志琳\", 90))"
   ]
  },
  {
   "cell_type": "markdown",
   "metadata": {},
   "source": [
    "## print 命令參數格式化 - 使用 f\n",
    "    print(f\"字串\")\n",
    "變數在設定之後直接帶入字串之中"
   ]
  },
  {
   "cell_type": "code",
   "execution_count": 20,
   "metadata": {},
   "outputs": [
    {
     "name": "stdout",
     "output_type": "stream",
     "text": [
      "林志琳 的成績為 90 分\n"
     ]
    }
   ],
   "source": [
    "name = \"林志琳\"\n",
    "score = 90\n",
    "print(f\"{name} 的成績為 {score} 分\")"
   ]
  },
  {
   "cell_type": "markdown",
   "metadata": {},
   "source": [
    "# 輸入：input 命令\n",
    "    變數 = input([提示字串])\n",
    "`input()`所接收的輸入值，型別為字串(string)"
   ]
  },
  {
   "cell_type": "code",
   "execution_count": 22,
   "metadata": {},
   "outputs": [
    {
     "name": "stdout",
     "output_type": "stream",
     "text": [
      "請輸入程式設計成績: 90\n",
      "90\n",
      "你的程式設計分數是：90\n"
     ]
    }
   ],
   "source": [
    "score = input(\"請輸入程式設計成績: \")\n",
    "print(score)\n",
    "print(\"你的程式設計分數是：\" + score)"
   ]
  },
  {
   "cell_type": "code",
   "execution_count": 26,
   "metadata": {},
   "outputs": [
    {
     "name": "stdout",
     "output_type": "stream",
     "text": [
      "請輸入國文成績: 80\n",
      "請輸入英文成績: 45\n",
      "請輸入數學成績: 77\n",
      "你的總分數是：804577\n"
     ]
    }
   ],
   "source": [
    "# 輸出前未先轉換資料型態，導致加總結果錯誤\n",
    "\n",
    "scoreA = input(\"請輸入國文成績: \")\n",
    "scoreB = input(\"請輸入英文成績: \")\n",
    "scoreC = input(\"請輸入數學成績: \")\n",
    "total = scoreA + scoreB + scoreC\n",
    "print(\"你的總分數是：\" + total)"
   ]
  },
  {
   "cell_type": "code",
   "execution_count": 27,
   "metadata": {},
   "outputs": [
    {
     "name": "stdout",
     "output_type": "stream",
     "text": [
      "請輸入國文成績: 90\n",
      "請輸入英文成績: 80\n",
      "請輸入數學成績: 70\n",
      "你的總分數是：240\n"
     ]
    }
   ],
   "source": [
    "# 輸出前先進行資料型別的轉換，使用 int(), str()\n",
    "\n",
    "scoreA = int(input(\"請輸入國文成績: \"))\n",
    "scoreB = int(input(\"請輸入英文成績: \"))\n",
    "scoreC = int(input(\"請輸入數學成績: \"))\n",
    "total = str(scoreA + scoreB + scoreC)\n",
    "print(\"你的總分數是：\" + total)"
   ]
  },
  {
   "cell_type": "markdown",
   "metadata": {},
   "source": [
    "# 使用 help 或線上文件查看詳細語法\n",
    "\n",
    "[Python 官方線上文件：print & input](https://docs.python.org/3/tutorial/inputoutput.html)"
   ]
  },
  {
   "cell_type": "code",
   "execution_count": 8,
   "metadata": {},
   "outputs": [
    {
     "name": "stdout",
     "output_type": "stream",
     "text": [
      "Help on built-in function print in module builtins:\n",
      "\n",
      "print(...)\n",
      "    print(value, ..., sep=' ', end='\\n', file=sys.stdout, flush=False)\n",
      "    \n",
      "    Prints the values to a stream, or to sys.stdout by default.\n",
      "    Optional keyword arguments:\n",
      "    file:  a file-like object (stream); defaults to the current sys.stdout.\n",
      "    sep:   string inserted between values, default a space.\n",
      "    end:   string appended after the last value, default a newline.\n",
      "    flush: whether to forcibly flush the stream.\n",
      "\n"
     ]
    }
   ],
   "source": [
    "help(print)"
   ]
  },
  {
   "cell_type": "code",
   "execution_count": 9,
   "metadata": {},
   "outputs": [
    {
     "name": "stdout",
     "output_type": "stream",
     "text": [
      "Help on method raw_input in module ipykernel.kernelbase:\n",
      "\n",
      "raw_input(prompt='') method of ipykernel.ipkernel.IPythonKernel instance\n",
      "    Forward raw_input to frontends\n",
      "    \n",
      "    Raises\n",
      "    ------\n",
      "    StdinNotImplentedError if active frontend doesn't support stdin.\n",
      "\n"
     ]
    }
   ],
   "source": [
    "help(input)"
   ]
  },
  {
   "cell_type": "code",
   "execution_count": null,
   "metadata": {},
   "outputs": [],
   "source": []
  }
 ],
 "metadata": {
  "kernelspec": {
   "display_name": "Python 3",
   "language": "python",
   "name": "python3"
  },
  "language_info": {
   "codemirror_mode": {
    "name": "ipython",
    "version": 3
   },
   "file_extension": ".py",
   "mimetype": "text/x-python",
   "name": "python",
   "nbconvert_exporter": "python",
   "pygments_lexer": "ipython3",
   "version": "3.7.3"
  }
 },
 "nbformat": 4,
 "nbformat_minor": 2
}
