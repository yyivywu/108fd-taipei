{
 "cells": [
  {
   "attachments": {},
   "cell_type": "markdown",
   "metadata": {},
   "source": [
    "# 基本資料調查\n",
    "\n",
    "問題：使用對話式詢問客戶基本資料\n",
    "\n",
    "要求：詢問姓名、年齡，及體重，並將此三項資料顯示在螢幕上"
   ]
  },
  {
   "cell_type": "code",
   "execution_count": 1,
   "metadata": {},
   "outputs": [
    {
     "name": "stdout",
     "output_type": "stream",
     "text": [
      "請問貴姓大名？Ivy Wu\n",
      "你好， Ivy Wu\n",
      "請問年紀？18\n",
      "原來你 18 歲\n",
      "請問體重？45\n",
      "體重為 45.0\n"
     ]
    }
   ],
   "source": [
    "name = input('請問貴姓大名？')\n",
    "print('你好，', name)\n",
    "\n",
    "y = int(input('請問年紀？'))\n",
    "print('原來你', y,'歲')\n",
    "\n",
    "w = float(input('請問體重？'))\n",
    "print('體重為', w)"
   ]
  },
  {
   "cell_type": "code",
   "execution_count": null,
   "metadata": {},
   "outputs": [],
   "source": []
  }
 ],
 "metadata": {
  "kernelspec": {
   "display_name": "Python 3",
   "language": "python",
   "name": "python3"
  },
  "language_info": {
   "codemirror_mode": {
    "name": "ipython",
    "version": 3
   },
   "file_extension": ".py",
   "mimetype": "text/x-python",
   "name": "python",
   "nbconvert_exporter": "python",
   "pygments_lexer": "ipython3",
   "version": "3.7.3"
  }
 },
 "nbformat": 4,
 "nbformat_minor": 2
}
