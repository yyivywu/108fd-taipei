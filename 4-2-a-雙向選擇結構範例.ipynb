{
 "cells": [
  {
   "attachments": {},
   "cell_type": "markdown",
   "metadata": {},
   "source": [
    "# 滿2000千打九折\n",
    "\n",
    "購物滿 2000 元打九折，未滿 2000 元不打折。請寫程式幫助店家計算顧客應付金額。"
   ]
  },
  {
   "cell_type": "code",
   "execution_count": 3,
   "metadata": {},
   "outputs": [
    {
     "name": "stdout",
     "output_type": "stream",
     "text": [
      "請輸入購物金額：2000\n",
      "顧客應付金額為： 1800.0\n"
     ]
    }
   ],
   "source": [
    "cost = int(input(\"請輸入購物金額：\"))\n",
    "\n",
    "if cost >= 2000:\n",
    "    print('顧客應付金額為：', cost * 0.9)\n",
    "else:\n",
    "    print('顧客應付金額為：', cost)"
   ]
  },
  {
   "cell_type": "markdown",
   "metadata": {},
   "source": [
    "# 判斷奇偶數\n",
    "\n",
    "由使用者輸入一個數字，判斷是奇數還是偶數"
   ]
  },
  {
   "cell_type": "code",
   "execution_count": 5,
   "metadata": {},
   "outputs": [
    {
     "name": "stdout",
     "output_type": "stream",
     "text": [
      "請輸入一個整數：9\n",
      "9 為奇數\n"
     ]
    }
   ],
   "source": [
    "number = int(input(\"請輸入一個整數：\"))\n",
    "\n",
    "if number % 2:\n",
    "    print(number, '為奇數')\n",
    "else:\n",
    "    print(number, '為偶數')"
   ]
  },
  {
   "cell_type": "code",
   "execution_count": null,
   "metadata": {},
   "outputs": [],
   "source": []
  }
 ],
 "metadata": {
  "kernelspec": {
   "display_name": "Python 3",
   "language": "python",
   "name": "python3"
  },
  "language_info": {
   "codemirror_mode": {
    "name": "ipython",
    "version": 3
   },
   "file_extension": ".py",
   "mimetype": "text/x-python",
   "name": "python",
   "nbconvert_exporter": "python",
   "pygments_lexer": "ipython3",
   "version": "3.7.3"
  }
 },
 "nbformat": 4,
 "nbformat_minor": 2
}
