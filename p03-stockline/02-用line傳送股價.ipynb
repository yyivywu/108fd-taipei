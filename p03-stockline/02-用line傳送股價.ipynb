{
 "cells": [
  {
   "cell_type": "markdown",
   "metadata": {},
   "source": [
    "# 用 Line 傳送即時股價 - 使用 IFTTT\n",
    "\n",
    "* 使用 twstock 套件每 5 分鐘讀取即時股價\n",
    "* 若股價達設定值就發送 line 訊息告知使用者\n",
    "* line 訊息最多只發送 3 次"
   ]
  },
  {
   "cell_type": "code",
   "execution_count": null,
   "metadata": {},
   "outputs": [
    {
     "name": "stdout",
     "output_type": "stream",
     "text": [
      "請輸入股票代碼：2330\n",
      "請輸入目標股價：280\n",
      "程式開始執行...\n",
      "2330 目前股價 293.50 已超過目標價 280.0\n",
      "Congratulations! You've fired the stockLine event\n",
      "發送第 1 次 Line 訊息\n"
     ]
    }
   ],
   "source": [
    "import requests, twstock, time\n",
    "\n",
    "counterLine = 0   # 儲存發送次數\n",
    "counterError = 0  # 儲存錯誤次數\n",
    "\n",
    "sid = input('請輸入股票代碼：')\n",
    "oprice = float(input('請輸入目標股價：'))\n",
    "\n",
    "print('程式開始執行...')\n",
    "\n",
    "while True:\n",
    "    realdata = twstock.realtime.get(sid)\n",
    "    \n",
    "    if realdata['success']:\n",
    "        realprice = realdata['realtime']['latest_trade_price']\n",
    "        if float(realprice) >= oprice:\n",
    "            counterLine += 1\n",
    "            print(sid, '目前股價', realprice, '已超過目標價', oprice)\n",
    "            ifttt_url = 'https://maker.ifttt.com/trigger/stockLine/with/key/3YDQ6dzlQA-Y-uYAfsBHN?value1='+sid+'&value2='+realprice\n",
    "            #print(ifttt_url)\n",
    "            res = requests.get(ifttt_url)\n",
    "            print(res.text)\n",
    "            print('發送第', str(counterLine), '次 Line 訊息')\n",
    "        \n",
    "        if counterLine >= 3:\n",
    "            print('程式結束！')\n",
    "            break\n",
    "    else:\n",
    "        print('股價資料讀取錯誤：', real['rtmessage'])\n",
    "        counterError += 1\n",
    "        if counterError >= 3:\n",
    "            print('程式結束！')\n",
    "            break\n",
    "    \n",
    "    time.sleep(300)  "
   ]
  },
  {
   "cell_type": "code",
   "execution_count": null,
   "metadata": {},
   "outputs": [],
   "source": []
  }
 ],
 "metadata": {
  "kernelspec": {
   "display_name": "Python 3",
   "language": "python",
   "name": "python3"
  },
  "language_info": {
   "codemirror_mode": {
    "name": "ipython",
    "version": 3
   },
   "file_extension": ".py",
   "mimetype": "text/x-python",
   "name": "python",
   "nbconvert_exporter": "python",
   "pygments_lexer": "ipython3",
   "version": "3.7.3"
  }
 },
 "nbformat": 4,
 "nbformat_minor": 2
}
