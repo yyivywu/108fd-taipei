{
 "cells": [
  {
   "attachments": {},
   "cell_type": "markdown",
   "metadata": {},
   "source": [
    "# 服裝訂購系統\n",
    "\n",
    "上衣 300 元、褲子 350 元、背心 400 元，輸入三種服裝的數量，設計程式計算訂購總金額"
   ]
  },
  {
   "cell_type": "code",
   "execution_count": 2,
   "metadata": {},
   "outputs": [
    {
     "name": "stdout",
     "output_type": "stream",
     "text": [
      "請輸入上衣數量：2\n",
      "請輸入褲子數量：3\n",
      "請輸入背心數量：1\n",
      "訂購總金額為： 2050\n"
     ]
    }
   ],
   "source": [
    "上衣 = int(input('請輸入上衣數量：'))\n",
    "褲子 = int(input('請輸入褲子數量：'))\n",
    "背心 = int(input('請輸入背心數量：'))\n",
    "\n",
    "total = 上衣 * 300 + 褲子 * 350 + 背心 * 400\n",
    "print('訂購總金額為：', total)"
   ]
  },
  {
   "cell_type": "markdown",
   "metadata": {},
   "source": [
    "# 溫度轉換\n",
    "\n",
    "轉換公式：\n",
    "\n",
    "華氏溫度(F) = 攝氏溫度(C) * 9/5 + 32\n",
    "\n",
    "攝氏溫度(C) = (華氏溫度(F) - 32) * 5/9"
   ]
  },
  {
   "cell_type": "code",
   "execution_count": 2,
   "metadata": {},
   "outputs": [
    {
     "name": "stdout",
     "output_type": "stream",
     "text": [
      "請輸入攝氏溫度：36\n",
      "華氏溫度為：96.80 度\n"
     ]
    }
   ],
   "source": [
    "c = float(input('請輸入攝氏溫度：'))\n",
    "f = c *9 / 5 + 32\n",
    "print('華氏溫度為：%3.2f 度' % f)"
   ]
  },
  {
   "cell_type": "markdown",
   "metadata": {},
   "source": [
    "# 英制轉公制\n",
    "\n",
    "1 呎 = 12 吋、1 吋 = 2.54 公分"
   ]
  },
  {
   "cell_type": "code",
   "execution_count": 3,
   "metadata": {},
   "outputs": [
    {
     "name": "stdout",
     "output_type": "stream",
     "text": [
      "請輸入身高幾呎：5\n",
      "請輸入身高幾吋：8\n",
      "轉換後身高為：172.72 公分\n"
     ]
    }
   ],
   "source": [
    "feet = int(input(\"請輸入身高幾呎：\"))\n",
    "inches = int(input(\"請輸入身高幾吋：\"))\n",
    "height = (feet * 12 + inches) * 2.54\n",
    "print('轉換後身高為：%3.2f 公分' % height)"
   ]
  },
  {
   "cell_type": "code",
   "execution_count": null,
   "metadata": {},
   "outputs": [],
   "source": []
  }
 ],
 "metadata": {
  "kernelspec": {
   "display_name": "Python 3",
   "language": "python",
   "name": "python3"
  },
  "language_info": {
   "codemirror_mode": {
    "name": "ipython",
    "version": 3
   },
   "file_extension": ".py",
   "mimetype": "text/x-python",
   "name": "python",
   "nbconvert_exporter": "python",
   "pygments_lexer": "ipython3",
   "version": "3.7.3"
  }
 },
 "nbformat": 4,
 "nbformat_minor": 2
}
