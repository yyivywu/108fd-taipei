{
 "cells": [
  {
   "cell_type": "markdown",
   "metadata": {},
   "source": [
    "# 象限判斷"
   ]
  },
  {
   "cell_type": "code",
   "execution_count": 1,
   "metadata": {},
   "outputs": [
    {
     "name": "stdout",
     "output_type": "stream",
     "text": [
      "請輸入Ｘ軸：０\n",
      "請輸入Y軸: ０\n",
      "原點\n"
     ]
    }
   ],
   "source": [
    "x_axis = int(input('請輸入Ｘ軸：'))\n",
    "y_axis = int(input('請輸入Y軸: '))\n",
    "if x_axis>0 and y_axis>0:\n",
    "    print('第一象限')\n",
    "elif x_axis<0 and y_axis>0:\n",
    "    print('第二象限')\n",
    "elif x_axis<0 and y_axis<0:\n",
    "    print('第三象限')\n",
    "elif x_axis>0 and y_axis<0:\n",
    "    print('第四象限') \n",
    "else:\n",
    "    print('原點') "
   ]
  },
  {
   "cell_type": "code",
   "execution_count": null,
   "metadata": {},
   "outputs": [],
   "source": []
  }
 ],
 "metadata": {
  "kernelspec": {
   "display_name": "Python 3",
   "language": "python",
   "name": "python3"
  },
  "language_info": {
   "codemirror_mode": {
    "name": "ipython",
    "version": 3
   },
   "file_extension": ".py",
   "mimetype": "text/x-python",
   "name": "python",
   "nbconvert_exporter": "python",
   "pygments_lexer": "ipython3",
   "version": "3.7.3"
  }
 },
 "nbformat": 4,
 "nbformat_minor": 2
}
