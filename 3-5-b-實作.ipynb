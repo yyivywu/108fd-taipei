{
 "cells": [
  {
   "cell_type": "markdown",
   "metadata": {},
   "source": [
    "# 存取串列中元素\n",
    "\n",
    "輸入一句英文句子，去除前後空白或句點，分割英文句子為 list (串列)，將串列反轉顯示出來"
   ]
  },
  {
   "cell_type": "code",
   "execution_count": 25,
   "metadata": {},
   "outputs": [
    {
     "name": "stdout",
     "output_type": "stream",
     "text": [
      "請輸入一句英文句子：  an apple a day keeps doctor away.\n",
      "an apple a day keeps doctor away\n",
      "['an', 'apple', 'a', 'day', 'keeps', 'doctor', 'away']\n",
      "['away', 'doctor', 'keeps', 'day', 'a', 'apple', 'an']\n"
     ]
    }
   ],
   "source": [
    "str1 = input(\"請輸入一句英文句子：\")\n",
    "str2 = str1.strip(' .')  # 移除句子前後空白及句號\n",
    "print(str2)\n",
    "list1 = str2.split()  # 分割英文句子為 list (串列)\n",
    "print(list1)\n",
    "list1.reverse()  # 反轉串列\n",
    "print(list1)"
   ]
  },
  {
   "cell_type": "markdown",
   "metadata": {},
   "source": [
    "# Set (集合) 練習 - 找出及格的人"
   ]
  },
  {
   "cell_type": "code",
   "execution_count": 9,
   "metadata": {},
   "outputs": [],
   "source": [
    "全班同學 = set(['丁一', '王二', '吳三', '李四', '陸五', '林六', '官七', '文八', '許九'])\n",
    "英文及格 = set(['王二', '吳三', '陸五', '林六', '許九'])\n",
    "數學及格 = set(['吳三', '李四', '林六', '官七'])"
   ]
  },
  {
   "cell_type": "code",
   "execution_count": 10,
   "metadata": {},
   "outputs": [
    {
     "data": {
      "text/plain": [
       "{'吳三', '林六'}"
      ]
     },
     "execution_count": 10,
     "metadata": {},
     "output_type": "execute_result"
    }
   ],
   "source": [
    "# 英文及數學都及格的同學\n",
    "\n",
    "英數及格 = 英文及格 & 數學及格\n",
    "英數及格"
   ]
  },
  {
   "cell_type": "code",
   "execution_count": 11,
   "metadata": {},
   "outputs": [
    {
     "data": {
      "text/plain": [
       "{'丁一', '文八', '王二', '許九', '陸五'}"
      ]
     },
     "execution_count": 11,
     "metadata": {},
     "output_type": "execute_result"
    }
   ],
   "source": [
    "# 數學不及格\n",
    "\n",
    "數學不及格 = 全班同學 - 數學及格\n",
    "數學不及格"
   ]
  },
  {
   "cell_type": "code",
   "execution_count": 13,
   "metadata": {},
   "outputs": [
    {
     "data": {
      "text/plain": [
       "{'王二', '許九', '陸五'}"
      ]
     },
     "execution_count": 13,
     "metadata": {},
     "output_type": "execute_result"
    }
   ],
   "source": [
    "# 英文及格，數學不及格的人\n",
    "\n",
    "英及格數不及格 = 英文及格 - 數學及格\n",
    "英及格數不及格"
   ]
  },
  {
   "cell_type": "code",
   "execution_count": 15,
   "metadata": {},
   "outputs": [
    {
     "data": {
      "text/plain": [
       "{'丁一', '文八'}"
      ]
     },
     "execution_count": 15,
     "metadata": {},
     "output_type": "execute_result"
    }
   ],
   "source": [
    "#  兩科都不及格\n",
    "\n",
    "英文不及格 = 全班同學 - 英文及格\n",
    "兩科不及格 = 數學不及格 & 英文不及格\n",
    "兩科不及格"
   ]
  },
  {
   "cell_type": "markdown",
   "metadata": {},
   "source": [
    "# Set (集合) 練習 - 找出兩首詩共同的字"
   ]
  },
  {
   "cell_type": "code",
   "execution_count": 16,
   "metadata": {},
   "outputs": [
    {
     "name": "stdout",
     "output_type": "stream",
     "text": [
      "{'采', '君', '思', '願', '豆', '春', '南', '來', '物', '多', '生', '國', '相', '擷', '最', '枝', '發', '此', '幾', '紅'}\n"
     ]
    }
   ],
   "source": [
    "王維='紅豆生南國，春來發幾枝？願君多采擷，此物最相思。'\n",
    "\n",
    "詩1=set(王維)\n",
    "詩1.remove('，')\n",
    "詩1.remove('？')\n",
    "詩1.remove('。')\n",
    "print(詩1)"
   ]
  },
  {
   "cell_type": "code",
   "execution_count": 17,
   "metadata": {},
   "outputs": [
    {
     "name": "stdout",
     "output_type": "stream",
     "text": [
      "{'處', '曉', '春', '花', '少', '來', '風', '夜', '多', '落', '聞', '聲', '不', '眠', '雨', '鳥', '覺', '啼', '知'}\n"
     ]
    }
   ],
   "source": [
    "孟浩然='春眠不覺曉，處處聞啼鳥。夜來風雨聲，花落知多少。'\n",
    "詩2=set(孟浩然)\n",
    "詩2.remove('，')\n",
    "詩2.remove('。')\n",
    "print(詩2)"
   ]
  },
  {
   "cell_type": "code",
   "execution_count": 18,
   "metadata": {},
   "outputs": [
    {
     "name": "stdout",
     "output_type": "stream",
     "text": [
      "{'春', '來', '多'}\n"
     ]
    }
   ],
   "source": [
    "print(詩1 & 詩2)"
   ]
  },
  {
   "cell_type": "code",
   "execution_count": null,
   "metadata": {},
   "outputs": [],
   "source": []
  }
 ],
 "metadata": {
  "kernelspec": {
   "display_name": "Python 3",
   "language": "python",
   "name": "python3"
  },
  "language_info": {
   "codemirror_mode": {
    "name": "ipython",
    "version": 3
   },
   "file_extension": ".py",
   "mimetype": "text/x-python",
   "name": "python",
   "nbconvert_exporter": "python",
   "pygments_lexer": "ipython3",
   "version": "3.7.3"
  }
 },
 "nbformat": 4,
 "nbformat_minor": 2
}
