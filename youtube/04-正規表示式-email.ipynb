{
 "cells": [
  {
   "cell_type": "markdown",
   "metadata": {},
   "source": [
    "# 使用正規表示式擷取網頁中的電子郵件"
   ]
  },
  {
   "cell_type": "code",
   "execution_count": 1,
   "metadata": {},
   "outputs": [],
   "source": [
    "import requests\n",
    "import re"
   ]
  },
  {
   "cell_type": "code",
   "execution_count": 5,
   "metadata": {},
   "outputs": [],
   "source": [
    "url = \"http://lit.ncu.edu.tw/AcademicUnits.asp\"  #中央大學文學院\n",
    "data = requests.get(url)"
   ]
  },
  {
   "cell_type": "code",
   "execution_count": 6,
   "metadata": {},
   "outputs": [
    {
     "name": "stdout",
     "output_type": "stream",
     "text": [
      "ncu3000@ncu.edu.tw\n",
      "ncu3000@ncu.edu.tw\n",
      "ncu3100@ncu.edu.tw\n",
      "eng@ncu.edu.tw\n",
      "ncu3300@ncu.edu.tw\n",
      "ncu3550@ncu.edu.tw\n",
      "ncu3650@ncu.edu.tw\n",
      "ncu3750@ncu.edu.tw\n",
      "ncu3851@ncu.edu.tw\n",
      "ncu33228@ncu.edu.tw\n"
     ]
    }
   ],
   "source": [
    "regex = re.compile('[a-zA-Z0-9_.+-]+@[a-zA-Z0-9-_]+\\.[a-zA-Z0-9-_.]+') #email 正規表示式\n",
    "emails = regex.findall(data.text)\n",
    "for email in emails:\n",
    "    print(email)"
   ]
  },
  {
   "cell_type": "code",
   "execution_count": null,
   "metadata": {},
   "outputs": [],
   "source": []
  }
 ],
 "metadata": {
  "kernelspec": {
   "display_name": "Python 3",
   "language": "python",
   "name": "python3"
  },
  "language_info": {
   "codemirror_mode": {
    "name": "ipython",
    "version": 3
   },
   "file_extension": ".py",
   "mimetype": "text/x-python",
   "name": "python",
   "nbconvert_exporter": "python",
   "pygments_lexer": "ipython3",
   "version": "3.7.3"
  }
 },
 "nbformat": 4,
 "nbformat_minor": 2
}
