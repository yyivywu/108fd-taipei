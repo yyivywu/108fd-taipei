{
 "cells": [
  {
   "cell_type": "markdown",
   "metadata": {},
   "source": [
    "# 自訂函式\n",
    "\n",
    "## 不回傳值的函式\n",
    "    def 函式名稱([參數1, 參數2, ……]):\n",
    "        程式區塊\n",
    "       \n",
    "\n",
    "## 回傳值的函式\n",
    "    def 函式名稱([參數1, 參數2, ……]):\n",
    "        程式區塊\n",
    "        return 回傳值1[, 回傳值2, ……]\n",
    "        \n",
    "函式用於將相同功能的程式獨立出來，減少程式碼的重覆。藉由函式呼叫，可重覆執行。"
   ]
  },
  {
   "cell_type": "code",
   "execution_count": 1,
   "metadata": {},
   "outputs": [
    {
     "name": "stdout",
     "output_type": "stream",
     "text": [
      "歡迎光臨!\n"
     ]
    }
   ],
   "source": [
    "# 建立名稱為 SayHello() 的函式，無回傳值\n",
    "\n",
    "def SayHello():\n",
    "    print( \"歡迎光臨!\")\n",
    "\n",
    "SayHello()"
   ]
  },
  {
   "cell_type": "code",
   "execution_count": 3,
   "metadata": {},
   "outputs": [
    {
     "name": "stdout",
     "output_type": "stream",
     "text": [
      "請輸入寬度：5\n",
      "請輸入長度：6\n",
      "30\n"
     ]
    }
   ],
   "source": [
    "# 建立名稱為 GetArea() 的函式，以參數傳入矩形的寬及高，計算矩形面積後將面積值傳回。\n",
    "\n",
    "def GetArea(x, y):\n",
    "    area = x * y\n",
    "    return area\n",
    "\n",
    "width = int(input(\"請輸入寬度：\"))\n",
    "height = int(input(\"請輸入長度：\"))\n",
    "print(GetArea(width, height))"
   ]
  },
  {
   "cell_type": "markdown",
   "metadata": {},
   "source": [
    "## 函式與變數的作用範圍\n",
    "\n",
    "變數作用範圍分為「全域變數」與函式內的「區域變數」。宣告在函式外的稱為全域變數，宣告在函式內的稱為區域變數。若函式內沒有設定區域變數，就會往外尋找全域變數。"
   ]
  },
  {
   "cell_type": "code",
   "execution_count": 7,
   "metadata": {},
   "outputs": [
    {
     "name": "stdout",
     "output_type": "stream",
     "text": [
      "函式內： 5\n",
      "函式外： 5\n"
     ]
    }
   ],
   "source": [
    "g = 5\n",
    "def f2():\n",
    "    #print(\"函式內：\", g)  # 函式內變數 g 必須先被指定值，才能輸出，否則會產生錯誤\n",
    "    #g = 10\n",
    "    print(\"函式內：\", g)\n",
    "    \n",
    "f2()\n",
    "print(\"函式外：\", g)"
   ]
  },
  {
   "cell_type": "code",
   "execution_count": 9,
   "metadata": {},
   "outputs": [
    {
     "name": "stdout",
     "output_type": "stream",
     "text": [
      "函式內： 5\n",
      "函式內： 10\n",
      "函式外： 10\n"
     ]
    }
   ],
   "source": [
    "# 使用 global 指定全域變數\n",
    "\n",
    "g = 5\n",
    "def f2():\n",
    "    global g\n",
    "    print(\"函式內：\", g)  # 函式內變數 g 必須先被指定值，才能輸出，否則會產生錯誤\n",
    "    g = 10\n",
    "    print(\"函式內：\", g)\n",
    "    \n",
    "f2()\n",
    "print(\"函式外：\", g)"
   ]
  },
  {
   "cell_type": "code",
   "execution_count": null,
   "metadata": {},
   "outputs": [],
   "source": []
  }
 ],
 "metadata": {
  "kernelspec": {
   "display_name": "Python 3",
   "language": "python",
   "name": "python3"
  },
  "language_info": {
   "codemirror_mode": {
    "name": "ipython",
    "version": 3
   },
   "file_extension": ".py",
   "mimetype": "text/x-python",
   "name": "python",
   "nbconvert_exporter": "python",
   "pygments_lexer": "ipython3",
   "version": "3.7.3"
  }
 },
 "nbformat": 4,
 "nbformat_minor": 2
}
