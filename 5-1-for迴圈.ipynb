{
 "cells": [
  {
   "cell_type": "markdown",
   "metadata": {},
   "source": [
    "### range() 整數串列\n",
    "    range(終止值)\n",
    "    range(起始值, 終止值, 間隔值)\n",
    "產生的串列是起始值到「終止值 - 1」的串列"
   ]
  },
  {
   "cell_type": "code",
   "execution_count": 5,
   "metadata": {},
   "outputs": [
    {
     "name": "stdout",
     "output_type": "stream",
     "text": [
      "1\n",
      "3\n",
      "5\n",
      "7\n",
      "9\n"
     ]
    }
   ],
   "source": [
    "for i in range(1, 10, 2):\n",
    "    print(i)"
   ]
  },
  {
   "cell_type": "markdown",
   "metadata": {},
   "source": [
    "# for 迴圈\n",
    "\n",
    "for 迴圈用於執行固定次數的動作\n",
    "\n",
    "    for 迴圈變數 in range(起始值, 終止值, 遞增/減值):\t\n",
    "\t  程式區塊"
   ]
  },
  {
   "cell_type": "code",
   "execution_count": 9,
   "metadata": {},
   "outputs": [
    {
     "name": "stdout",
     "output_type": "stream",
     "text": [
      "請輸入起始值：3\n",
      "請輸入終止值：13\n",
      "請輸入增加值：3\n",
      "i 為  3 加總結果為  3\n",
      "i 為  6 加總結果為  9\n",
      "i 為  9 加總結果為  18\n",
      "i 為  12 加總結果為  30\n"
     ]
    }
   ],
   "source": [
    "# 輸入起始、終止及增值，計算加總\n",
    "\n",
    "s = int(input(\"請輸入起始值：\"))\n",
    "e = int(input(\"請輸入終止值：\"))\n",
    "inc = int(input(\"請輸入增加值：\"))\n",
    "\n",
    "total = 0\n",
    "for i in range(s, e, inc):       # 迴圈停止在 e-1，也就是終止值不執行\n",
    "    total = total + i                # 簡短寫法 sum += i\n",
    "    print(\"i 為 \", i, \"加總結果為 \", total)"
   ]
  },
  {
   "attachments": {},
   "cell_type": "markdown",
   "metadata": {},
   "source": [
    "# 求平方和\n",
    "\n",
    "平方和 = $1^2 + 2^2 + 3^2 +...+  n^2$"
   ]
  },
  {
   "cell_type": "code",
   "execution_count": 1,
   "metadata": {},
   "outputs": [
    {
     "name": "stdout",
     "output_type": "stream",
     "text": [
      "請輸入一個正整數:5\n",
      "5 的平方和為: 55\n"
     ]
    }
   ],
   "source": [
    "n = int(input('請輸入一個正整數:'))\n",
    "\n",
    "total = 0\n",
    "for i in range(1,n+1):\n",
    "    total += i ** 2\n",
    "    \n",
    "print('%d 的平方和為: %d' % (n, total))"
   ]
  },
  {
   "cell_type": "markdown",
   "metadata": {},
   "source": [
    "## for 迴圈與資料儲存容器 tuple, list, dict, set\n",
    "\n",
    "    for 變數 in 串列:\t\n",
    "\t  程式區塊"
   ]
  },
  {
   "cell_type": "code",
   "execution_count": 2,
   "metadata": {},
   "outputs": [
    {
     "name": "stdout",
     "output_type": "stream",
     "text": [
      "P\n",
      "y\n",
      "t\n",
      "h\n",
      "o\n",
      "n\n",
      "P\n",
      "y\n",
      "t\n",
      "h\n",
      "o\n",
      "n\n"
     ]
    }
   ],
   "source": [
    "# 使用 for 讀取 tuple\n",
    "\n",
    "t = tuple('Python')\n",
    "for i in t:\n",
    "    print(i)\n",
    "    \n",
    "for i in range(0, len(t)):\n",
    "    print(t[i])"
   ]
  },
  {
   "cell_type": "code",
   "execution_count": 3,
   "metadata": {},
   "outputs": [
    {
     "name": "stdout",
     "output_type": "stream",
     "text": [
      "香蕉\n",
      "蘋果\n",
      "橘子\n"
     ]
    }
   ],
   "source": [
    "# 使用 for 讀取 list (串列)\n",
    "\n",
    "list1 = [\"香蕉\", \"蘋果\", \"橘子\"]\n",
    "for s in list1:\n",
    "    print(s) "
   ]
  },
  {
   "cell_type": "code",
   "execution_count": 6,
   "metadata": {},
   "outputs": [
    {
     "name": "stdout",
     "output_type": "stream",
     "text": [
      "早安 的英文為:  Good Morning\n",
      "你好 的英文為:  Hello\n",
      "再見 的英文為:  Goodbye\n"
     ]
    }
   ],
   "source": [
    "# 使用 for 讀取 dict (字典)\n",
    "\n",
    "lang = {\n",
    "    \"早安\":\"Good Morning\",\n",
    "    \"你好\":\"Hello\",\n",
    "    \"再見\":\"Goodbye\"\n",
    "}\n",
    "\n",
    "for ch,en in lang.items():      # dict.items 一次可讀取 鍵與值\n",
    "    print(ch, \"的英文為: \", en)"
   ]
  },
  {
   "cell_type": "code",
   "execution_count": 7,
   "metadata": {},
   "outputs": [
    {
     "name": "stdout",
     "output_type": "stream",
     "text": [
      "早安 Good Morning\n",
      "你好 Hello\n",
      "再見 Goodbye\n"
     ]
    }
   ],
   "source": [
    "for ch in lang.keys():    # 讀取鍵\n",
    "    print(ch, lang[ch])"
   ]
  },
  {
   "cell_type": "code",
   "execution_count": 8,
   "metadata": {},
   "outputs": [
    {
     "name": "stdout",
     "output_type": "stream",
     "text": [
      "Good Morning\n",
      "Hello\n",
      "Goodbye\n"
     ]
    }
   ],
   "source": [
    "for en in lang.values():    # 讀取值\n",
    "    print(en)"
   ]
  },
  {
   "cell_type": "code",
   "execution_count": null,
   "metadata": {},
   "outputs": [],
   "source": []
  }
 ],
 "metadata": {
  "kernelspec": {
   "display_name": "Python 3",
   "language": "python",
   "name": "python3"
  },
  "language_info": {
   "codemirror_mode": {
    "name": "ipython",
    "version": 3
   },
   "file_extension": ".py",
   "mimetype": "text/x-python",
   "name": "python",
   "nbconvert_exporter": "python",
   "pygments_lexer": "ipython3",
   "version": "3.7.3"
  }
 },
 "nbformat": 4,
 "nbformat_minor": 2
}
