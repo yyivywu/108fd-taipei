{
 "cells": [
  {
   "cell_type": "markdown",
   "metadata": {},
   "source": [
    "# 模組 Module\n",
    "\n",
    "模組就是 Python 檔案，每一個 Python 檔案被視為一個模組，可以在程式中匯入其他 Python 模組，模組就可以不斷被其他程式再利用\n",
    "\n",
    "## 匯入模組\n",
    "\n",
    "Pyton 提供四種匯入模組的方式\n",
    "\n",
    "### 語法1：\n",
    "    \n",
    "    import [module]"
   ]
  },
  {
   "cell_type": "code",
   "execution_count": 7,
   "metadata": {},
   "outputs": [
    {
     "name": "stdout",
     "output_type": "stream",
     "text": [
      "出拳為： 布\n",
      "亂數為： 10\n"
     ]
    }
   ],
   "source": [
    "import random\n",
    "\n",
    "status = ['剪刀', '石頭', '布']\n",
    "print(\"出拳為：\", random.choice(status))  # 隨機從變數 status 中挑選一個元素出來\n",
    "print(\"亂數為：\", random.randint(1, 10))  # 從 1-10 中隨機選一個整數"
   ]
  },
  {
   "cell_type": "markdown",
   "metadata": {},
   "source": [
    "### 語法2：\n",
    "    \n",
    "    import [module] as [new_name]"
   ]
  },
  {
   "cell_type": "code",
   "execution_count": 8,
   "metadata": {},
   "outputs": [
    {
     "name": "stdout",
     "output_type": "stream",
     "text": [
      "出拳為： 石頭\n",
      "亂數為： 3\n"
     ]
    }
   ],
   "source": [
    "import random as rd\n",
    "\n",
    "status = ['剪刀', '石頭', '布']\n",
    "print(\"出拳為：\", rd.choice(status))  # 隨機從變數 status 中挑選一個元素出來\n",
    "print(\"亂數為：\", rd.randint(1, 10))  # 從 1-10 中隨機選一個整數"
   ]
  },
  {
   "cell_type": "markdown",
   "metadata": {},
   "source": [
    "### 語法3：\n",
    "    \n",
    "    from [module] import [name1, name2, ...]"
   ]
  },
  {
   "cell_type": "code",
   "execution_count": 9,
   "metadata": {},
   "outputs": [
    {
     "name": "stdout",
     "output_type": "stream",
     "text": [
      "出拳為： 布\n",
      "亂數為： 9\n"
     ]
    }
   ],
   "source": [
    "from random import randint, choice\n",
    "\n",
    "status = ['剪刀', '石頭', '布']\n",
    "print(\"出拳為：\", choice(status))  # 隨機從變數 status 中挑選一個元素出來\n",
    "print(\"亂數為：\", randint(1, 10))  # 從 1-10 中隨機選一個整數"
   ]
  },
  {
   "cell_type": "markdown",
   "metadata": {},
   "source": [
    "### 語法4 (不推薦此用法)：\n",
    "    \n",
    "    from [module] import *"
   ]
  },
  {
   "cell_type": "code",
   "execution_count": 10,
   "metadata": {},
   "outputs": [
    {
     "name": "stdout",
     "output_type": "stream",
     "text": [
      "出拳為： 布\n",
      "亂數為： 5\n"
     ]
    }
   ],
   "source": [
    "from random import *\n",
    "\n",
    "status = ['剪刀', '石頭', '布']\n",
    "print(\"出拳為：\", choice(status))  # 隨機從變數 status 中挑選一個元素出來\n",
    "print(\"亂數為：\", randint(1, 10))  # 從 1-10 中隨機選一個整數"
   ]
  },
  {
   "cell_type": "code",
   "execution_count": null,
   "metadata": {},
   "outputs": [],
   "source": []
  }
 ],
 "metadata": {
  "kernelspec": {
   "display_name": "Python 3",
   "language": "python",
   "name": "python3"
  },
  "language_info": {
   "codemirror_mode": {
    "name": "ipython",
    "version": 3
   },
   "file_extension": ".py",
   "mimetype": "text/x-python",
   "name": "python",
   "nbconvert_exporter": "python",
   "pygments_lexer": "ipython3",
   "version": "3.7.3"
  }
 },
 "nbformat": 4,
 "nbformat_minor": 2
}
